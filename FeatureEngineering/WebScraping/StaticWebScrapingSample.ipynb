{
 "cells": [
  {
   "cell_type": "code",
   "execution_count": 1,
   "metadata": {},
   "outputs": [
    {
     "name": "stdout",
     "output_type": "stream",
     "text": [
      "https://towness-blr.storese.in/collections/best-selling\n",
      "https://towness-blr.storese.in/collections/best-selling?page=2\n",
      "https://towness-blr.storese.in/collections/best-selling?page=3\n",
      "https://towness-blr.storese.in/collections/best-selling?page=4\n",
      "https://towness-blr.storese.in/collections/best-selling?page=5\n",
      "https://towness-blr.storese.in/collections/best-selling?page=6\n",
      "https://towness-blr.storese.in/collections/best-selling?page=7\n",
      "https://towness-blr.storese.in/collections/best-selling?page=8\n",
      "https://towness-blr.storese.in/collections/best-selling?page=9\n",
      "https://towness-blr.storese.in/collections/best-selling?page=10\n",
      "https://towness-blr.storese.in/collections/vegetables-fruits\n",
      "https://towness-blr.storese.in/collections/vegetables-fruits?page=2\n",
      "https://towness-blr.storese.in/collections/breakfast-dairy\n",
      "https://towness-blr.storese.in/collections/breakfast-dairy?page=2\n",
      "https://towness-blr.storese.in/collections/breakfast-dairy?page=3\n",
      "https://towness-blr.storese.in/collections/beverages\n",
      "https://towness-blr.storese.in/collections/beverages?page=2\n",
      "https://towness-blr.storese.in/collections/biscuits-snacks-packed-foods\n",
      "https://towness-blr.storese.in/collections/biscuits-snacks-packed-foods?page=2\n",
      "https://towness-blr.storese.in/collections/biscuits-snacks-packed-foods?page=3\n",
      "https://towness-blr.storese.in/collections/personal-care\n",
      "https://towness-blr.storese.in/collections/personal-care?page=2\n",
      "https://towness-blr.storese.in/collections/personal-care?page=3\n",
      "https://towness-blr.storese.in/collections/household-items\n",
      "https://towness-blr.storese.in/collections/household-items?page=2\n"
     ]
    }
   ],
   "source": [
    "import pandas as pd\n",
    "from bs4 import BeautifulSoup\n",
    "import requests, re\n",
    "\n",
    "cat_list = ['best-selling','vegetables-fruits','breakfast-dairy','beverages',\n",
    "            'biscuits-snacks-packed-foods','personal-care','household-items']\n",
    "url_base  = \"https://towness-blr.storese.in/collections/\"\n",
    "\n",
    "# Form URLs and iterate through all pages\n",
    "url_arr=[]\n",
    "for i in range(len(cat_list)):\n",
    "    page_url = url_base + cat_list[i]\n",
    "    url_arr.append(page_url)\n",
    "    html = requests.get(page_url)\n",
    "    pages = BeautifulSoup(html.content,'html.parser').find('ul',{'class':'list--inline pagination'})\n",
    "    total = 0\n",
    "    if pages is not None:\n",
    "        pages = pages.find('li',{'class':'pagination__text'}).text\n",
    "        arr = re.split('^[a-zA-Z_\\s]+', pages)[1].split()\n",
    "        for j in range(len(arr)):\n",
    "            if arr[j].isdigit():\n",
    "                total+=int(arr[j])\n",
    "        for k in range(total-2):\n",
    "            url_arr.append(page_url + '?page=' + str(k+2))\n",
    "    else:\n",
    "        continue\n",
    "for i in range(len(url_arr)):\n",
    "    print(url_arr[i])\n",
    "# Now use the url_arr to get all the items in each page"
   ]
  },
  {
   "cell_type": "code",
   "execution_count": 2,
   "metadata": {
    "scrolled": false
   },
   "outputs": [
    {
     "name": "stdout",
     "output_type": "stream",
     "text": [
      "Orinko Spinach (Palaksoppu) 200Gms\n",
      "Rs. 35.00\n",
      "\n",
      "Rs. 35.00\n",
      "\n",
      "Bottle Gourd (Sorekayi) Fresh Rush 1pc ( 800 Gms to 1kg )\n",
      "Rs. 7.50\n",
      "\n",
      "Rs. 7.50\n",
      "\n",
      "Coconut Medium (Tenginakayi) Town 1 No\n",
      "Rs. 21.00\n",
      "\n",
      "Rs. 21.00\n",
      "\n"
     ]
    },
    {
     "data": {
      "text/html": [
       "<div>\n",
       "<style scoped>\n",
       "    .dataframe tbody tr th:only-of-type {\n",
       "        vertical-align: middle;\n",
       "    }\n",
       "\n",
       "    .dataframe tbody tr th {\n",
       "        vertical-align: top;\n",
       "    }\n",
       "\n",
       "    .dataframe thead th {\n",
       "        text-align: right;\n",
       "    }\n",
       "</style>\n",
       "<table border=\"1\" class=\"dataframe\">\n",
       "  <thead>\n",
       "    <tr style=\"text-align: right;\">\n",
       "      <th></th>\n",
       "      <th>Product_Name</th>\n",
       "      <th>Regular_Price</th>\n",
       "      <th>Sale_Price</th>\n",
       "    </tr>\n",
       "  </thead>\n",
       "  <tbody>\n",
       "    <tr>\n",
       "      <th>0</th>\n",
       "      <td>Orinko Spinach (Palaksoppu) 200Gms</td>\n",
       "      <td>Rs. 35.00\\n</td>\n",
       "      <td>Rs. 35.00\\n</td>\n",
       "    </tr>\n",
       "    <tr>\n",
       "      <th>1</th>\n",
       "      <td>Bottle Gourd (Sorekayi) Fresh Rush 1pc ( 800 G...</td>\n",
       "      <td>Rs. 7.50\\n</td>\n",
       "      <td>Rs. 7.50\\n</td>\n",
       "    </tr>\n",
       "    <tr>\n",
       "      <th>2</th>\n",
       "      <td>Coconut Medium (Tenginakayi) Town 1 No</td>\n",
       "      <td>Rs. 21.00\\n</td>\n",
       "      <td>Rs. 21.00\\n</td>\n",
       "    </tr>\n",
       "  </tbody>\n",
       "</table>\n",
       "</div>"
      ],
      "text/plain": [
       "                                        Product_Name Regular_Price  \\\n",
       "0                 Orinko Spinach (Palaksoppu) 200Gms   Rs. 35.00\\n   \n",
       "1  Bottle Gourd (Sorekayi) Fresh Rush 1pc ( 800 G...    Rs. 7.50\\n   \n",
       "2             Coconut Medium (Tenginakayi) Town 1 No   Rs. 21.00\\n   \n",
       "\n",
       "    Sale_Price  \n",
       "0  Rs. 35.00\\n  \n",
       "1   Rs. 7.50\\n  \n",
       "2  Rs. 21.00\\n  "
      ]
     },
     "execution_count": 2,
     "metadata": {},
     "output_type": "execute_result"
    }
   ],
   "source": [
    "# Sample scraping from a test page\n",
    "sale_price=[]\n",
    "regular_price=[]\n",
    "names = []\n",
    "url = \"https://towness-blr.storese.in/collections/vegetables-fruits?page=2\"\n",
    "html_soup = BeautifulSoup(requests.get(url).content,'html.parser')\n",
    "items = html_soup.find('ul',{'class':'grid grid--uniform grid--view-items'})\n",
    "itemDiv = items.findAll('div',{'class':'grid-view-item product-card'})\n",
    "for itr in itemDiv:\n",
    "    # Get the name here and store in names\n",
    "    name = itr.find('div',{'class':'h4 grid-view-item__title product-card__title'}).text\n",
    "    print(name)\n",
    "    names.append(name)\n",
    "    prices = itr.find('dl',{'class',re.compile('([price price\\-\\-listing(\\.+)])')})\n",
    "    # regular\n",
    "    r_price = prices.find('span',{'class':'price-item price-item--regular'}).text\n",
    "    print(r_price)\n",
    "    regular_price.append(r_price)\n",
    "    # sale\n",
    "    s_price= prices.find('span',{'class':'price-item price-item--sale'}).text\n",
    "    print(s_price)\n",
    "    sale_price.append(s_price)\n",
    "\n",
    "# Create a sample DataFrame\n",
    "pd.DataFrame({'Product_Name':names, 'Regular_Price':regular_price, 'Sale_Price':sale_price,})"
   ]
  },
  {
   "cell_type": "code",
   "execution_count": 3,
   "metadata": {},
   "outputs": [
    {
     "data": {
      "text/plain": [
       "['/collections/vegetables-fruits/products/99666',\n",
       " '/collections/vegetables-fruits/products/95102',\n",
       " '/collections/vegetables-fruits/products/92912']"
      ]
     },
     "execution_count": 3,
     "metadata": {},
     "output_type": "execute_result"
    }
   ],
   "source": [
    "# Search for direct product links, can use this approach to get to all products individually\n",
    "page = requests.get(\"https://towness-blr.storese.in/\")\n",
    "html_soup = BeautifulSoup(page.content,'html.parser')\n",
    "html_soup.find_all('script',{'id':'ProductJson-product-template'})\n",
    "[k.get('href') for k in items.find_all('a')]"
   ]
  }
 ],
 "metadata": {
  "kernelspec": {
   "display_name": "Python 3",
   "language": "python",
   "name": "python3"
  },
  "language_info": {
   "codemirror_mode": {
    "name": "ipython",
    "version": 3
   },
   "file_extension": ".py",
   "mimetype": "text/x-python",
   "name": "python",
   "nbconvert_exporter": "python",
   "pygments_lexer": "ipython3",
   "version": "3.7.6"
  }
 },
 "nbformat": 4,
 "nbformat_minor": 2
}
