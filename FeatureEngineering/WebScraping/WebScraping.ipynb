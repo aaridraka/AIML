{
 "cells": [
  {
   "cell_type": "markdown",
   "metadata": {},
   "source": [
    "# Feature Engineering Project"
   ]
  },
  {
   "cell_type": "markdown",
   "metadata": {},
   "source": [
    "# Part (A) Data Collection through Web-Scraping"
   ]
  },
  {
   "cell_type": "code",
   "execution_count": 1,
   "metadata": {},
   "outputs": [
    {
     "name": "stdout",
     "output_type": "stream",
     "text": [
      "Fruits & Vegetables      https://www.simplinamdharis.com/category/1\n",
      "Beverages                https://www.simplinamdharis.com/category/53\n",
      "Branded Foods            https://www.simplinamdharis.com/category/92\n",
      "Grocery & Staples        https://www.simplinamdharis.com/category/270\n",
      "Healthy Food             https://www.simplinamdharis.com/category/430\n",
      "Gourmet & Imported       https://www.simplinamdharis.com/category/241\n",
      "Household                https://www.simplinamdharis.com/category/356\n",
      "Personal Care            https://www.simplinamdharis.com/category/407\n"
     ]
    }
   ],
   "source": [
    "# Import required libs\n",
    "import re, time, random\n",
    "import pandas as pd\n",
    "import numpy as np\n",
    "import seaborn as sb\n",
    "import requests, json\n",
    "from selenium import webdriver\n",
    "from selenium.webdriver.common.by import By\n",
    "from selenium.webdriver.support.ui import WebDriverWait, Select\n",
    "from selenium.webdriver.support import expected_conditions as EC\n",
    "from selenium.common.exceptions import TimeoutException\n",
    "from selenium.webdriver.chrome.options import Options\n",
    "from urllib.request import urlopen\n",
    "from bs4 import BeautifulSoup\n",
    "\n",
    "# Scraping from simplinamdhari's\n",
    "url = \"https://www.simplinamdharis.com/home\"\n",
    "\n",
    "# Execute on Chrome to run and convert all the dynamic content into HTML\n",
    "options = Options()\n",
    "options.add_argument('--headless')\n",
    "chrome = webdriver.Chrome(options=options)#,executable_path='')\n",
    "chrome.get(url)\n",
    "\n",
    "# Save the homepage\n",
    "chrome.save_screenshot('home.png')\n",
    "\n",
    "# Wait for full page load\n",
    "chrome.execute_script(\"window.scrollTo(0,document.body.scrollHeight);var pageLen=document.body.scrollHeight;return pageLen;\")\n",
    "# Wait a bit more\n",
    "time.sleep(5)\n",
    "\n",
    "# Find all the main categories and create a reference category URL map\n",
    "category_list = chrome.find_elements_by_class_name(\"shop-by-catogories\")\n",
    "linkMap = {link.get_attribute('href'):link.find_element_by_class_name('catogories-main-text').text for link in category_list}\n",
    "\n",
    "# Check the scraped data\n",
    "for k, v in linkMap.items():\n",
    "    print(f'{v:25}{k}')\n",
    "    \n",
    "# Close the session and browser\n",
    "chrome.quit()"
   ]
  },
  {
   "cell_type": "code",
   "execution_count": 2,
   "metadata": {},
   "outputs": [
    {
     "name": "stdout",
     "output_type": "stream",
     "text": [
      "Scraped JSON data for Fruits & Vegetables\n",
      "Response Metadata: (200, 'OK', '2.02 seconds')\n",
      "Dumped JSON into: Fruits & Vegetables.txt\n",
      "Scraped units: 140\n",
      "\n",
      "Scraped JSON data for Beverages\n",
      "Response Metadata: (200, 'OK', '6.71 seconds')\n",
      "Dumped JSON into: Beverages.txt\n",
      "Scraped units: 274\n",
      "\n",
      "Scraped JSON data for Branded Foods\n",
      "Response Metadata: (200, 'OK', '15.75 seconds')\n",
      "Dumped JSON into: Branded Foods.txt\n",
      "Scraped units: 952\n",
      "\n",
      "Scraped JSON data for Grocery & Staples\n",
      "Response Metadata: (200, 'OK', '8.71 seconds')\n",
      "Dumped JSON into: Grocery & Staples.txt\n",
      "Scraped units: 564\n",
      "\n",
      "Scraped JSON data for Healthy Food\n",
      "Response Metadata: (200, 'OK', '0.52 seconds')\n",
      "Dumped JSON into: Healthy Food.txt\n",
      "Scraped units: 30\n",
      "\n",
      "Scraped JSON data for Gourmet & Imported\n",
      "Response Metadata: (200, 'OK', '2.17 seconds')\n",
      "Dumped JSON into: Gourmet & Imported.txt\n",
      "Scraped units: 110\n",
      "\n",
      "Scraped JSON data for Household\n",
      "Response Metadata: (200, 'OK', '4.07 seconds')\n",
      "Dumped JSON into: Household.txt\n",
      "Scraped units: 238\n",
      "\n",
      "Scraped JSON data for Personal Care\n",
      "Response Metadata: (200, 'OK', '4.83 seconds')\n",
      "Dumped JSON into: Personal Care.txt\n",
      "Scraped units: 262\n",
      "\n",
      "Total Data Scraped:  2570\n"
     ]
    }
   ],
   "source": [
    "# URL for backend calls figured from the AJAX calls on network data inspection\n",
    "apiUrl = \"https://cdn.simplinamdharis.com/namdhari/api1/item/product\"\n",
    "# Data content for POST with the data filters set to fetch all data in one pull, can be iterative as well\n",
    "params = {\"_id\":\"0\",\"_session\":\"NKTyvBDYLZzUjpCM_27392020063909999\",\"wh_pincode\":\"560004\",\"id_subcategory\":\"1\",\"brand\":\"\",\n",
    "          \"price\":\"0,100000\",\"sort\":\"\",\"start\":0,\"count\":10000,\"express\":0}\n",
    "\n",
    "# Get the API dump of all data segments instead of parsing through HTML\n",
    "rawAPIResponse = []\n",
    "scrapeCount = 0\n",
    "for i, (k,v) in enumerate(linkMap.items()):\n",
    "    subcategory = k.split('/')[-1]\n",
    "    params['_session'] = random.randrange(int(subcategory))\n",
    "    params['id_subcategory'] = subcategory\n",
    "    \n",
    "    response = requests.post(apiUrl, data=json.dumps(params),)\n",
    "    print('Scraped JSON data for {}'.format(v))\n",
    "    print('Response Metadata: {}'.format((response.status_code, response.reason,\n",
    "                                          str(round(response.elapsed.total_seconds(), 2)) + ' seconds')))\n",
    "    rawAPIResponse.append(response.json())\n",
    "    \n",
    "    # Dump all data into individual json/txt files to build pandas dataframes later\n",
    "    if response.ok:\n",
    "        with open(v + '.txt', 'w') as jsonData:\n",
    "            json.dump(rawAPIResponse[i], jsonData, indent=4, sort_keys=True,)\n",
    "            scrapeCount += rawAPIResponse[i]['total_sku']\n",
    "            print('Dumped JSON into: {}.txt'.format(v))\n",
    "            print('Scraped units: {}\\n'.format(rawAPIResponse[i]['total_sku']))\n",
    "        \n",
    "print('Total Data Scraped: ', scrapeCount)"
   ]
  },
  {
   "cell_type": "code",
   "execution_count": 3,
   "metadata": {},
   "outputs": [],
   "source": [
    "# Scraping could also be done using Selenium as below\n",
    "# Will need to simulate clicking the button till all records are loaded\n",
    "# Time increases and need rigorous exception handling for time-outs and other conditions\n",
    "# Will also need to simulate drop-down selects and select the data as different records\n",
    "# Intead follow the API approach above and get a webhook/handle on the GET/POST APIs\n",
    "# This will give then entire formatted JSON/XML data which goes into different parts of the HTML through JavaScript\n",
    "# Will also need to check for hidden classes/divs with the below approach\n",
    "# driver.find_elements_by_class_name('product-item clearfix') - this is hidden, find the parent and iterate\n",
    "# Will also need to handle Stale issues that arise when DOM changes due to JS loads\n",
    "\n",
    "# rawHTMLResponse = []\n",
    "# for i, (k,v) in enumerate(linkMap.items()):\n",
    "#     allItemsLoaded = False\n",
    "#     totalClicks = 0\n",
    "#     chrome = webdriver.Chrome(options=options)\n",
    "#     chrome.get(k)\n",
    "#     while(not allItemsLoaded):\n",
    "#         try:\n",
    "#             WebDriverWait(chrome, 10).until(EC.element_to_be_clickable((By.CLASS_NAME, 'load-more')))\n",
    "#             # There is only one element for loading more items on the page, find and click it\n",
    "#             if totalClicks == 0:\n",
    "#                 # Wait for a couple of seconds\n",
    "#                 time.sleep(5)\n",
    "#                 chrome.save_screenshot(v + '.png')\n",
    "#             chrome.find_elements_by_class_name(\"load-more\")[0].click()\n",
    "#             totalClicks += 1\n",
    "#         except TimeoutException:\n",
    "#             allItemsLoaded = True\n",
    "#     print('Total Clicks for ' + v + ':', totalClicks)\n",
    "#     rawHTMLResponse.append(chrome.page_source)\n",
    "    \n",
    "    # Algorithm goes on to parse all items in the current session\n",
    "    # We need to inspect, find element and loop through, also iterate items having dropdown and add them to the item list\n",
    "    # Skipping this exercise further\n",
    "    # chrome.close()\n",
    "# Keeping the approach here"
   ]
  },
  {
   "cell_type": "code",
   "execution_count": null,
   "metadata": {},
   "outputs": [],
   "source": []
  },
  {
   "cell_type": "markdown",
   "metadata": {},
   "source": [
    "# Part (B) Data Pre-Processing and Cleaning"
   ]
  },
  {
   "cell_type": "code",
   "execution_count": 4,
   "metadata": {
    "scrolled": false
   },
   "outputs": [
    {
     "name": "stdout",
     "output_type": "stream",
     "text": [
      "Records and metadata match: 140\t\tTotal rows: 191\n",
      "Records and metadata match: 274\t\tTotal rows: 281\n",
      "Records and metadata match: 952\t\tTotal rows: 989\n",
      "Records and metadata match: 564\t\tTotal rows: 617\n",
      "Records and metadata match: 30\t\tTotal rows: 35\n",
      "Records and metadata match: 110\t\tTotal rows: 114\n",
      "Records and metadata match: 238\t\tTotal rows: 249\n",
      "Records and metadata match: 262\t\tTotal rows: 271\n"
     ]
    }
   ],
   "source": [
    "# Store all scraped data into a dataframe array\n",
    "# DFs will be merged later with a column index\n",
    "# API data has metadata which gives the total records\n",
    "# This verification has been done below\n",
    "# Products have line items which are captured in the dataframe rows\n",
    "dfArr = []\n",
    "for i in range(len(rawAPIResponse)):\n",
    "    rowCount = 0\n",
    "    data = rawAPIResponse[i]['product']\n",
    "    total_sku = rawAPIResponse[i]['total_sku']\n",
    "    if(total_sku == len(data)):\n",
    "        print('Records and metadata match:', total_sku, end='\\t\\t')\n",
    "    for j in range(len(data)):\n",
    "        rowCount += len(rawAPIResponse[i]['product'][j]['sku'])\n",
    "    print('Total rows:', rowCount)\n",
    "    meta = [k for k in data[0] if k!='sku']\n",
    "    dfArr.append(pd.json_normalize(data, 'sku', meta, meta_prefix='p_', errors='raise'))"
   ]
  },
  {
   "cell_type": "code",
   "execution_count": 5,
   "metadata": {},
   "outputs": [
    {
     "data": {
      "text/html": [
       "<div>\n",
       "<style scoped>\n",
       "    .dataframe tbody tr th:only-of-type {\n",
       "        vertical-align: middle;\n",
       "    }\n",
       "\n",
       "    .dataframe tbody tr th {\n",
       "        vertical-align: top;\n",
       "    }\n",
       "\n",
       "    .dataframe thead th {\n",
       "        text-align: right;\n",
       "    }\n",
       "</style>\n",
       "<table border=\"1\" class=\"dataframe\">\n",
       "  <thead>\n",
       "    <tr style=\"text-align: right;\">\n",
       "      <th></th>\n",
       "      <th>_id</th>\n",
       "      <th>box_color</th>\n",
       "      <th>filter_color</th>\n",
       "      <th>id_product</th>\n",
       "      <th>is_restaurant</th>\n",
       "      <th>min_quantity</th>\n",
       "      <th>mrp</th>\n",
       "      <th>mycart</th>\n",
       "      <th>offer</th>\n",
       "      <th>realization</th>\n",
       "      <th>...</th>\n",
       "      <th>p_category3_id</th>\n",
       "      <th>p_description</th>\n",
       "      <th>p_id_category</th>\n",
       "      <th>p_mrp</th>\n",
       "      <th>p_name</th>\n",
       "      <th>p_pic</th>\n",
       "      <th>p_selling_price</th>\n",
       "      <th>p_spec</th>\n",
       "      <th>p_tags</th>\n",
       "      <th>p_wishlist</th>\n",
       "    </tr>\n",
       "  </thead>\n",
       "  <tbody>\n",
       "    <tr>\n",
       "      <th>0</th>\n",
       "      <td>2292985</td>\n",
       "      <td>None</td>\n",
       "      <td>None</td>\n",
       "      <td>62671</td>\n",
       "      <td>0</td>\n",
       "      <td>1</td>\n",
       "      <td>215</td>\n",
       "      <td>0</td>\n",
       "      <td></td>\n",
       "      <td>127.54</td>\n",
       "      <td>...</td>\n",
       "      <td>1014</td>\n",
       "      <td></td>\n",
       "      <td>1014</td>\n",
       "      <td>0</td>\n",
       "      <td>Paseo Smart 6X1 Toilet Roll 200 Sheets</td>\n",
       "      <td>[{'_id': '97481', 'pic': 'uploads/product/2145...</td>\n",
       "      <td>0</td>\n",
       "      <td>[{'_id': '1235518', 'specification': 'About', ...</td>\n",
       "      <td>Toilet Roll</td>\n",
       "      <td>0</td>\n",
       "    </tr>\n",
       "    <tr>\n",
       "      <th>1</th>\n",
       "      <td>2120430</td>\n",
       "      <td>None</td>\n",
       "      <td>None</td>\n",
       "      <td>58757</td>\n",
       "      <td>0</td>\n",
       "      <td>1</td>\n",
       "      <td>65</td>\n",
       "      <td>0</td>\n",
       "      <td></td>\n",
       "      <td>38.55</td>\n",
       "      <td>...</td>\n",
       "      <td>1014</td>\n",
       "      <td>SMART SERVIETTES</td>\n",
       "      <td>1014</td>\n",
       "      <td>0</td>\n",
       "      <td>SMART SERVIETTES</td>\n",
       "      <td>[{'_id': '97479', 'pic': 'uploads/product/2086...</td>\n",
       "      <td>0</td>\n",
       "      <td>[{'_id': '1252107', 'specification': 'Descript...</td>\n",
       "      <td>SMART SERVIETTES</td>\n",
       "      <td>0</td>\n",
       "    </tr>\n",
       "    <tr>\n",
       "      <th>2</th>\n",
       "      <td>2129316</td>\n",
       "      <td>None</td>\n",
       "      <td>None</td>\n",
       "      <td>62103</td>\n",
       "      <td>0</td>\n",
       "      <td>1</td>\n",
       "      <td>12</td>\n",
       "      <td>0</td>\n",
       "      <td></td>\n",
       "      <td>6.85</td>\n",
       "      <td>...</td>\n",
       "      <td>599</td>\n",
       "      <td>Haldi 15 Gm Pouch</td>\n",
       "      <td>599</td>\n",
       "      <td>0</td>\n",
       "      <td>Haldi 15 Gm Pouch</td>\n",
       "      <td>[{'_id': '93434', 'pic': 'uploads/product/2146...</td>\n",
       "      <td>0</td>\n",
       "      <td>[{'_id': '1206919', 'specification': 'Descript...</td>\n",
       "      <td>OM BHAKTI</td>\n",
       "      <td>0</td>\n",
       "    </tr>\n",
       "  </tbody>\n",
       "</table>\n",
       "<p>3 rows × 35 columns</p>\n",
       "</div>"
      ],
      "text/plain": [
       "       _id box_color filter_color id_product is_restaurant min_quantity  mrp  \\\n",
       "0  2292985      None         None      62671             0            1  215   \n",
       "1  2120430      None         None      58757             0            1   65   \n",
       "2  2129316      None         None      62103             0            1   12   \n",
       "\n",
       "  mycart offer realization  ...  p_category3_id      p_description  \\\n",
       "0      0            127.54  ...            1014                      \n",
       "1      0             38.55  ...            1014   SMART SERVIETTES   \n",
       "2      0              6.85  ...             599  Haldi 15 Gm Pouch   \n",
       "\n",
       "  p_id_category p_mrp                                  p_name  \\\n",
       "0          1014     0  Paseo Smart 6X1 Toilet Roll 200 Sheets   \n",
       "1          1014     0                        SMART SERVIETTES   \n",
       "2           599     0                       Haldi 15 Gm Pouch   \n",
       "\n",
       "                                               p_pic p_selling_price  \\\n",
       "0  [{'_id': '97481', 'pic': 'uploads/product/2145...               0   \n",
       "1  [{'_id': '97479', 'pic': 'uploads/product/2086...               0   \n",
       "2  [{'_id': '93434', 'pic': 'uploads/product/2146...               0   \n",
       "\n",
       "                                              p_spec            p_tags  \\\n",
       "0  [{'_id': '1235518', 'specification': 'About', ...       Toilet Roll   \n",
       "1  [{'_id': '1252107', 'specification': 'Descript...  SMART SERVIETTES   \n",
       "2  [{'_id': '1206919', 'specification': 'Descript...         OM BHAKTI   \n",
       "\n",
       "  p_wishlist  \n",
       "0          0  \n",
       "1          0  \n",
       "2          0  \n",
       "\n",
       "[3 rows x 35 columns]"
      ]
     },
     "metadata": {},
     "output_type": "display_data"
    },
    {
     "data": {
      "text/html": [
       "<div>\n",
       "<style scoped>\n",
       "    .dataframe tbody tr th:only-of-type {\n",
       "        vertical-align: middle;\n",
       "    }\n",
       "\n",
       "    .dataframe tbody tr th {\n",
       "        vertical-align: top;\n",
       "    }\n",
       "\n",
       "    .dataframe thead th {\n",
       "        text-align: right;\n",
       "    }\n",
       "</style>\n",
       "<table border=\"1\" class=\"dataframe\">\n",
       "  <thead>\n",
       "    <tr style=\"text-align: right;\">\n",
       "      <th></th>\n",
       "      <th>_id</th>\n",
       "      <th>box_color</th>\n",
       "      <th>filter_color</th>\n",
       "      <th>id_product</th>\n",
       "      <th>is_restaurant</th>\n",
       "      <th>min_quantity</th>\n",
       "      <th>mrp</th>\n",
       "      <th>mycart</th>\n",
       "      <th>offer</th>\n",
       "      <th>realization</th>\n",
       "      <th>...</th>\n",
       "      <th>p_category3_id</th>\n",
       "      <th>p_description</th>\n",
       "      <th>p_id_category</th>\n",
       "      <th>p_mrp</th>\n",
       "      <th>p_name</th>\n",
       "      <th>p_pic</th>\n",
       "      <th>p_selling_price</th>\n",
       "      <th>p_spec</th>\n",
       "      <th>p_tags</th>\n",
       "      <th>p_wishlist</th>\n",
       "    </tr>\n",
       "  </thead>\n",
       "  <tbody>\n",
       "    <tr>\n",
       "      <th>615</th>\n",
       "      <td>2120049</td>\n",
       "      <td>None</td>\n",
       "      <td>None</td>\n",
       "      <td>58348</td>\n",
       "      <td>0</td>\n",
       "      <td>1</td>\n",
       "      <td>118</td>\n",
       "      <td>0</td>\n",
       "      <td></td>\n",
       "      <td>87.66</td>\n",
       "      <td>...</td>\n",
       "      <td>686</td>\n",
       "      <td>CHAAT MASALA</td>\n",
       "      <td>686</td>\n",
       "      <td>0</td>\n",
       "      <td>CHAAT MASALA</td>\n",
       "      <td>[{'_id': '74949', 'pic': ' uploads/product/210...</td>\n",
       "      <td>0</td>\n",
       "      <td>[{'_id': '1233084', 'specification': 'About', ...</td>\n",
       "      <td>CHAAT MASALA</td>\n",
       "      <td>0</td>\n",
       "    </tr>\n",
       "    <tr>\n",
       "      <th>616</th>\n",
       "      <td>2119854</td>\n",
       "      <td>None</td>\n",
       "      <td>None</td>\n",
       "      <td>58348</td>\n",
       "      <td>0</td>\n",
       "      <td>1</td>\n",
       "      <td>62</td>\n",
       "      <td>0</td>\n",
       "      <td></td>\n",
       "      <td>46.06</td>\n",
       "      <td>...</td>\n",
       "      <td>686</td>\n",
       "      <td>CHAAT MASALA</td>\n",
       "      <td>686</td>\n",
       "      <td>0</td>\n",
       "      <td>CHAAT MASALA</td>\n",
       "      <td>[{'_id': '74949', 'pic': ' uploads/product/210...</td>\n",
       "      <td>0</td>\n",
       "      <td>[{'_id': '1233084', 'specification': 'About', ...</td>\n",
       "      <td>CHAAT MASALA</td>\n",
       "      <td>0</td>\n",
       "    </tr>\n",
       "  </tbody>\n",
       "</table>\n",
       "<p>2 rows × 35 columns</p>\n",
       "</div>"
      ],
      "text/plain": [
       "         _id box_color filter_color id_product is_restaurant min_quantity  \\\n",
       "615  2120049      None         None      58348             0            1   \n",
       "616  2119854      None         None      58348             0            1   \n",
       "\n",
       "     mrp mycart offer realization  ...  p_category3_id p_description  \\\n",
       "615  118      0             87.66  ...             686  CHAAT MASALA   \n",
       "616   62      0             46.06  ...             686  CHAAT MASALA   \n",
       "\n",
       "    p_id_category p_mrp        p_name  \\\n",
       "615           686     0  CHAAT MASALA   \n",
       "616           686     0  CHAAT MASALA   \n",
       "\n",
       "                                                 p_pic p_selling_price  \\\n",
       "615  [{'_id': '74949', 'pic': ' uploads/product/210...               0   \n",
       "616  [{'_id': '74949', 'pic': ' uploads/product/210...               0   \n",
       "\n",
       "                                                p_spec        p_tags  \\\n",
       "615  [{'_id': '1233084', 'specification': 'About', ...  CHAAT MASALA   \n",
       "616  [{'_id': '1233084', 'specification': 'About', ...  CHAAT MASALA   \n",
       "\n",
       "    p_wishlist  \n",
       "615          0  \n",
       "616          0  \n",
       "\n",
       "[2 rows x 35 columns]"
      ]
     },
     "metadata": {},
     "output_type": "display_data"
    }
   ],
   "source": [
    "# Luckily there were no errors in flattening the JSON or creating the dataframe\n",
    "# Check the data of an arbitrary dataframe\n",
    "display(dfArr[6].head(3), dfArr[3].tail(2))"
   ]
  },
  {
   "cell_type": "code",
   "execution_count": 6,
   "metadata": {},
   "outputs": [
    {
     "name": "stdout",
     "output_type": "stream",
     "text": [
      "True (0, -1)\tTrue (1, 0)\tTrue (2, 1)\tTrue (3, 2)\tTrue (4, 3)\tTrue (5, 4)\tTrue (6, 5)\tTrue (7, 6)\t"
     ]
    }
   ],
   "source": [
    "# Check that the columns are consistent and ready for merge\n",
    "for i in range(len(dfArr)):\n",
    "    print(list(dfArr[i].columns) == list(dfArr[i-1].columns), (i,i-1), end='\\t')"
   ]
  },
  {
   "cell_type": "code",
   "execution_count": 7,
   "metadata": {},
   "outputs": [
    {
     "name": "stdout",
     "output_type": "stream",
     "text": [
      "Scraped Data Information\n",
      "Size - 96145\n",
      "Shape - (2747, 35)\n",
      "Dimensions - 2\n",
      "\n",
      "<class 'pandas.core.frame.DataFrame'>\n",
      "RangeIndex: 2747 entries, 0 to 2746\n",
      "Data columns (total 35 columns):\n",
      " #   Column               Non-Null Count  Dtype  \n",
      "---  ------               --------------  -----  \n",
      " 0   _id                  2747 non-null   object \n",
      " 1   box_color            0 non-null      object \n",
      " 2   filter_color         0 non-null      object \n",
      " 3   id_product           2747 non-null   object \n",
      " 4   is_restaurant        2747 non-null   object \n",
      " 5   min_quantity         2747 non-null   object \n",
      " 6   mrp                  2747 non-null   object \n",
      " 7   mycart               2747 non-null   object \n",
      " 8   offer                2747 non-null   object \n",
      " 9   realization          2747 non-null   object \n",
      " 10  selling_price        2747 non-null   float64\n",
      " 11  size                 2747 non-null   object \n",
      " 12  size_measuring_unit  0 non-null      object \n",
      " 13  sku                  2747 non-null   object \n",
      " 14  stock                2747 non-null   object \n",
      " 15  tax                  2747 non-null   object \n",
      " 16  p__id                2747 non-null   object \n",
      " 17  p_actual_price       2747 non-null   object \n",
      " 18  p_article_no         2747 non-null   object \n",
      " 19  p_brand              2747 non-null   object \n",
      " 20  p_category1          2747 non-null   object \n",
      " 21  p_category1_id       2747 non-null   object \n",
      " 22  p_category2          2747 non-null   object \n",
      " 23  p_category2_id       2747 non-null   object \n",
      " 24  p_category3          2747 non-null   object \n",
      " 25  p_category3_id       2747 non-null   object \n",
      " 26  p_description        2747 non-null   object \n",
      " 27  p_id_category        2747 non-null   object \n",
      " 28  p_mrp                2747 non-null   object \n",
      " 29  p_name               2747 non-null   object \n",
      " 30  p_pic                2747 non-null   object \n",
      " 31  p_selling_price      2747 non-null   object \n",
      " 32  p_spec               2747 non-null   object \n",
      " 33  p_tags               2747 non-null   object \n",
      " 34  p_wishlist           2747 non-null   object \n",
      "dtypes: float64(1), object(34)\n",
      "memory usage: 751.3+ KB\n"
     ]
    }
   ],
   "source": [
    "# Merge the dataframes into one dataframe for further processing and cleaning\n",
    "# We should have 2747 rows and 35 colums as per our previous data analysis\n",
    "fmcg = pd.concat([df for df in dfArr], ignore_index=True)\n",
    "print('Scraped Data Information')\n",
    "print(\"\"\"Size - {}\n",
    "Shape - {}\n",
    "Dimensions - {}\n",
    "\"\"\".format(fmcg.size, fmcg.shape, fmcg.ndim))\n",
    "fmcg.info()\n",
    "\n",
    "# Save to CSV file and avoid going back to the website\n",
    "fmcg.to_csv('simpli_raw.csv', header=True, index=False)"
   ]
  },
  {
   "cell_type": "code",
   "execution_count": 8,
   "metadata": {
    "scrolled": false
   },
   "outputs": [
    {
     "name": "stdout",
     "output_type": "stream",
     "text": [
      "37\n"
     ]
    },
    {
     "data": {
      "text/html": [
       "<div>\n",
       "<style scoped>\n",
       "    .dataframe tbody tr th:only-of-type {\n",
       "        vertical-align: middle;\n",
       "    }\n",
       "\n",
       "    .dataframe tbody tr th {\n",
       "        vertical-align: top;\n",
       "    }\n",
       "\n",
       "    .dataframe thead th {\n",
       "        text-align: right;\n",
       "    }\n",
       "</style>\n",
       "<table border=\"1\" class=\"dataframe\">\n",
       "  <thead>\n",
       "    <tr style=\"text-align: right;\">\n",
       "      <th></th>\n",
       "      <th>_id</th>\n",
       "      <th>box_color</th>\n",
       "      <th>filter_color</th>\n",
       "      <th>id_product</th>\n",
       "      <th>is_restaurant</th>\n",
       "      <th>min_quantity</th>\n",
       "      <th>mrp</th>\n",
       "      <th>mycart</th>\n",
       "      <th>offer</th>\n",
       "      <th>realization</th>\n",
       "      <th>...</th>\n",
       "      <th>p_category3_id</th>\n",
       "      <th>p_description</th>\n",
       "      <th>p_id_category</th>\n",
       "      <th>p_mrp</th>\n",
       "      <th>p_name</th>\n",
       "      <th>p_pic</th>\n",
       "      <th>p_selling_price</th>\n",
       "      <th>p_spec</th>\n",
       "      <th>p_tags</th>\n",
       "      <th>p_wishlist</th>\n",
       "    </tr>\n",
       "  </thead>\n",
       "  <tbody>\n",
       "    <tr>\n",
       "      <th>939</th>\n",
       "      <td>2117434</td>\n",
       "      <td>None</td>\n",
       "      <td>None</td>\n",
       "      <td>53307</td>\n",
       "      <td>0</td>\n",
       "      <td>1</td>\n",
       "      <td>149</td>\n",
       "      <td>0</td>\n",
       "      <td></td>\n",
       "      <td>99.76</td>\n",
       "      <td>...</td>\n",
       "      <td>591</td>\n",
       "      <td>PERI PERI SAUCE</td>\n",
       "      <td>591</td>\n",
       "      <td>0</td>\n",
       "      <td>PERI PERI SAUCE</td>\n",
       "      <td>[{'_id': '74482', 'pic': 'uploads/product/1436...</td>\n",
       "      <td>0</td>\n",
       "      <td>[{'_id': '363954', 'specification': 'About', '...</td>\n",
       "      <td>PERI PERI SAUCE</td>\n",
       "      <td>0</td>\n",
       "    </tr>\n",
       "    <tr>\n",
       "      <th>2160</th>\n",
       "      <td>2117434</td>\n",
       "      <td>None</td>\n",
       "      <td>None</td>\n",
       "      <td>53307</td>\n",
       "      <td>0</td>\n",
       "      <td>1</td>\n",
       "      <td>149</td>\n",
       "      <td>0</td>\n",
       "      <td></td>\n",
       "      <td>99.76</td>\n",
       "      <td>...</td>\n",
       "      <td>591</td>\n",
       "      <td>PERI PERI SAUCE</td>\n",
       "      <td>591</td>\n",
       "      <td>0</td>\n",
       "      <td>PERI PERI SAUCE</td>\n",
       "      <td>[{'_id': '74482', 'pic': 'uploads/product/1436...</td>\n",
       "      <td>0</td>\n",
       "      <td>[{'_id': '363954', 'specification': 'About', '...</td>\n",
       "      <td>PERI PERI SAUCE</td>\n",
       "      <td>0</td>\n",
       "    </tr>\n",
       "    <tr>\n",
       "      <th>2162</th>\n",
       "      <td>2117388</td>\n",
       "      <td>None</td>\n",
       "      <td>None</td>\n",
       "      <td>53309</td>\n",
       "      <td>0</td>\n",
       "      <td>1</td>\n",
       "      <td>129</td>\n",
       "      <td>0</td>\n",
       "      <td></td>\n",
       "      <td>86.38</td>\n",
       "      <td>...</td>\n",
       "      <td>591</td>\n",
       "      <td>SWEET ONION SAUCE</td>\n",
       "      <td>591</td>\n",
       "      <td>0</td>\n",
       "      <td>SWEET ONION SAUCE</td>\n",
       "      <td>[{'_id': '74483', 'pic': 'uploads/product/1438...</td>\n",
       "      <td>0</td>\n",
       "      <td>[{'_id': '361174', 'specification': 'About', '...</td>\n",
       "      <td>SWEET ONION SAUCE</td>\n",
       "      <td>0</td>\n",
       "    </tr>\n",
       "    <tr>\n",
       "      <th>990</th>\n",
       "      <td>2117388</td>\n",
       "      <td>None</td>\n",
       "      <td>None</td>\n",
       "      <td>53309</td>\n",
       "      <td>0</td>\n",
       "      <td>1</td>\n",
       "      <td>129</td>\n",
       "      <td>0</td>\n",
       "      <td></td>\n",
       "      <td>86.38</td>\n",
       "      <td>...</td>\n",
       "      <td>591</td>\n",
       "      <td>SWEET ONION SAUCE</td>\n",
       "      <td>591</td>\n",
       "      <td>0</td>\n",
       "      <td>SWEET ONION SAUCE</td>\n",
       "      <td>[{'_id': '74483', 'pic': 'uploads/product/1438...</td>\n",
       "      <td>0</td>\n",
       "      <td>[{'_id': '361174', 'specification': 'About', '...</td>\n",
       "      <td>SWEET ONION SAUCE</td>\n",
       "      <td>0</td>\n",
       "    </tr>\n",
       "    <tr>\n",
       "      <th>230</th>\n",
       "      <td>2118138</td>\n",
       "      <td>None</td>\n",
       "      <td>None</td>\n",
       "      <td>56545</td>\n",
       "      <td>0</td>\n",
       "      <td>1</td>\n",
       "      <td>275</td>\n",
       "      <td>0</td>\n",
       "      <td></td>\n",
       "      <td>196.43</td>\n",
       "      <td>...</td>\n",
       "      <td>930</td>\n",
       "      <td>MILK CHOCOLATE NUTTY &amp; DELICIOUS</td>\n",
       "      <td>930</td>\n",
       "      <td>0</td>\n",
       "      <td>MILK CHOCOLATE NUTTY &amp; DELICIOUS</td>\n",
       "      <td>[{'_id': '97178', 'pic': 'uploads/product/almo...</td>\n",
       "      <td>0</td>\n",
       "      <td>[{'_id': '1232059', 'specification': 'Descript...</td>\n",
       "      <td>MILK CHOCOLATE NUTTY &amp; DELICIOUS</td>\n",
       "      <td>0</td>\n",
       "    </tr>\n",
       "    <tr>\n",
       "      <th>2088</th>\n",
       "      <td>2118138</td>\n",
       "      <td>None</td>\n",
       "      <td>None</td>\n",
       "      <td>56545</td>\n",
       "      <td>0</td>\n",
       "      <td>1</td>\n",
       "      <td>275</td>\n",
       "      <td>0</td>\n",
       "      <td></td>\n",
       "      <td>196.43</td>\n",
       "      <td>...</td>\n",
       "      <td>930</td>\n",
       "      <td>MILK CHOCOLATE NUTTY &amp; DELICIOUS</td>\n",
       "      <td>930</td>\n",
       "      <td>0</td>\n",
       "      <td>MILK CHOCOLATE NUTTY &amp; DELICIOUS</td>\n",
       "      <td>[{'_id': '97178', 'pic': 'uploads/product/almo...</td>\n",
       "      <td>0</td>\n",
       "      <td>[{'_id': '1232059', 'specification': 'Descript...</td>\n",
       "      <td>MILK CHOCOLATE NUTTY &amp; DELICIOUS</td>\n",
       "      <td>0</td>\n",
       "    </tr>\n",
       "  </tbody>\n",
       "</table>\n",
       "<p>6 rows × 35 columns</p>\n",
       "</div>"
      ],
      "text/plain": [
       "          _id box_color filter_color id_product is_restaurant min_quantity  \\\n",
       "939   2117434      None         None      53307             0            1   \n",
       "2160  2117434      None         None      53307             0            1   \n",
       "2162  2117388      None         None      53309             0            1   \n",
       "990   2117388      None         None      53309             0            1   \n",
       "230   2118138      None         None      56545             0            1   \n",
       "2088  2118138      None         None      56545             0            1   \n",
       "\n",
       "      mrp mycart offer realization  ...  p_category3_id  \\\n",
       "939   149      0             99.76  ...             591   \n",
       "2160  149      0             99.76  ...             591   \n",
       "2162  129      0             86.38  ...             591   \n",
       "990   129      0             86.38  ...             591   \n",
       "230   275      0            196.43  ...             930   \n",
       "2088  275      0            196.43  ...             930   \n",
       "\n",
       "                         p_description p_id_category p_mrp  \\\n",
       "939                    PERI PERI SAUCE           591     0   \n",
       "2160                   PERI PERI SAUCE           591     0   \n",
       "2162                 SWEET ONION SAUCE           591     0   \n",
       "990                  SWEET ONION SAUCE           591     0   \n",
       "230   MILK CHOCOLATE NUTTY & DELICIOUS           930     0   \n",
       "2088  MILK CHOCOLATE NUTTY & DELICIOUS           930     0   \n",
       "\n",
       "                                p_name  \\\n",
       "939                    PERI PERI SAUCE   \n",
       "2160                   PERI PERI SAUCE   \n",
       "2162                 SWEET ONION SAUCE   \n",
       "990                  SWEET ONION SAUCE   \n",
       "230   MILK CHOCOLATE NUTTY & DELICIOUS   \n",
       "2088  MILK CHOCOLATE NUTTY & DELICIOUS   \n",
       "\n",
       "                                                  p_pic p_selling_price  \\\n",
       "939   [{'_id': '74482', 'pic': 'uploads/product/1436...               0   \n",
       "2160  [{'_id': '74482', 'pic': 'uploads/product/1436...               0   \n",
       "2162  [{'_id': '74483', 'pic': 'uploads/product/1438...               0   \n",
       "990   [{'_id': '74483', 'pic': 'uploads/product/1438...               0   \n",
       "230   [{'_id': '97178', 'pic': 'uploads/product/almo...               0   \n",
       "2088  [{'_id': '97178', 'pic': 'uploads/product/almo...               0   \n",
       "\n",
       "                                                 p_spec  \\\n",
       "939   [{'_id': '363954', 'specification': 'About', '...   \n",
       "2160  [{'_id': '363954', 'specification': 'About', '...   \n",
       "2162  [{'_id': '361174', 'specification': 'About', '...   \n",
       "990   [{'_id': '361174', 'specification': 'About', '...   \n",
       "230   [{'_id': '1232059', 'specification': 'Descript...   \n",
       "2088  [{'_id': '1232059', 'specification': 'Descript...   \n",
       "\n",
       "                                p_tags p_wishlist  \n",
       "939                    PERI PERI SAUCE          0  \n",
       "2160                   PERI PERI SAUCE          0  \n",
       "2162                 SWEET ONION SAUCE          0  \n",
       "990                  SWEET ONION SAUCE          0  \n",
       "230   MILK CHOCOLATE NUTTY & DELICIOUS          0  \n",
       "2088  MILK CHOCOLATE NUTTY & DELICIOUS          0  \n",
       "\n",
       "[6 rows x 35 columns]"
      ]
     },
     "execution_count": 8,
     "metadata": {},
     "output_type": "execute_result"
    }
   ],
   "source": [
    "# You can run the evaluation from here, uncomment reading csv again (note: None values may be shown as NaN)\n",
    "# fmcg = pd.read_csv('simpli_raw.csv')\n",
    "# Duplicate check (there are 37)\n",
    "print(fmcg.duplicated(subset='sku').sum())\n",
    "# Let's check the duplicates\n",
    "fmcg[fmcg.sku.isin(fmcg[fmcg.duplicated(subset='sku')]['sku'].values.tolist())].sort_values('sku').head(6)"
   ]
  },
  {
   "cell_type": "code",
   "execution_count": 9,
   "metadata": {},
   "outputs": [
    {
     "data": {
      "text/plain": [
       "0"
      ]
     },
     "execution_count": 9,
     "metadata": {},
     "output_type": "execute_result"
    }
   ],
   "source": [
    "# Indeed those are duplicated and we will drop one of them\n",
    "fmcg.drop_duplicates(subset='sku', inplace=True, keep='last', ignore_index=True)\n",
    "fmcg.duplicated(subset='sku').sum()"
   ]
  },
  {
   "cell_type": "code",
   "execution_count": 10,
   "metadata": {},
   "outputs": [
    {
     "name": "stdout",
     "output_type": "stream",
     "text": [
      "['_id', 'box_color', 'filter_color', 'id_product', 'is_restaurant', 'min_quantity', 'mrp', 'mycart', 'offer', 'realization', 'selling_price', 'size', 'size_measuring_unit', 'sku', 'stock', 'tax', 'p__id', 'p_actual_price', 'p_article_no', 'p_brand', 'p_category1', 'p_category1_id', 'p_category2', 'p_category2_id', 'p_category3', 'p_category3_id', 'p_description', 'p_id_category', 'p_mrp', 'p_name', 'p_pic', 'p_selling_price', 'p_spec', 'p_tags', 'p_wishlist']\n"
     ]
    },
    {
     "data": {
      "text/html": [
       "<div>\n",
       "<style scoped>\n",
       "    .dataframe tbody tr th:only-of-type {\n",
       "        vertical-align: middle;\n",
       "    }\n",
       "\n",
       "    .dataframe tbody tr th {\n",
       "        vertical-align: top;\n",
       "    }\n",
       "\n",
       "    .dataframe thead th {\n",
       "        text-align: right;\n",
       "    }\n",
       "</style>\n",
       "<table border=\"1\" class=\"dataframe\">\n",
       "  <thead>\n",
       "    <tr style=\"text-align: right;\">\n",
       "      <th></th>\n",
       "      <th>_id</th>\n",
       "      <th>box_color</th>\n",
       "      <th>filter_color</th>\n",
       "      <th>id_product</th>\n",
       "      <th>is_restaurant</th>\n",
       "      <th>min_quantity</th>\n",
       "      <th>mrp</th>\n",
       "      <th>mycart</th>\n",
       "      <th>offer</th>\n",
       "      <th>realization</th>\n",
       "      <th>selling_price</th>\n",
       "      <th>size</th>\n",
       "      <th>size_measuring_unit</th>\n",
       "      <th>sku</th>\n",
       "      <th>stock</th>\n",
       "      <th>tax</th>\n",
       "      <th>p__id</th>\n",
       "      <th>p_actual_price</th>\n",
       "      <th>p_article_no</th>\n",
       "      <th>p_brand</th>\n",
       "      <th>p_category1</th>\n",
       "      <th>p_category1_id</th>\n",
       "      <th>p_category2</th>\n",
       "      <th>p_category2_id</th>\n",
       "      <th>p_category3</th>\n",
       "      <th>p_category3_id</th>\n",
       "      <th>p_description</th>\n",
       "      <th>p_id_category</th>\n",
       "      <th>p_mrp</th>\n",
       "      <th>p_name</th>\n",
       "      <th>p_pic</th>\n",
       "      <th>p_selling_price</th>\n",
       "      <th>p_spec</th>\n",
       "      <th>p_tags</th>\n",
       "      <th>p_wishlist</th>\n",
       "    </tr>\n",
       "  </thead>\n",
       "  <tbody>\n",
       "    <tr>\n",
       "      <th>0</th>\n",
       "      <td>2118849</td>\n",
       "      <td>None</td>\n",
       "      <td>None</td>\n",
       "      <td>58013</td>\n",
       "      <td>0</td>\n",
       "      <td>1</td>\n",
       "      <td>99</td>\n",
       "      <td>0</td>\n",
       "      <td></td>\n",
       "      <td>70</td>\n",
       "      <td>99.0</td>\n",
       "      <td>1 KG</td>\n",
       "      <td>None</td>\n",
       "      <td>1005859</td>\n",
       "      <td>266</td>\n",
       "      <td>0</td>\n",
       "      <td>58013</td>\n",
       "      <td>0</td>\n",
       "      <td>800010700</td>\n",
       "      <td>NAMDHARI</td>\n",
       "      <td>Fruits and Vegetables</td>\n",
       "      <td>1</td>\n",
       "      <td>Mango Bazar</td>\n",
       "      <td>1009</td>\n",
       "      <td>Mango Bazar</td>\n",
       "      <td>1010</td>\n",
       "      <td>MANGO MALLIKA</td>\n",
       "      <td>1010</td>\n",
       "      <td>0</td>\n",
       "      <td>MANGO MALLIKA</td>\n",
       "      <td>[{'_id': '97538', 'pic': 'uploads/product/mang...</td>\n",
       "      <td>0</td>\n",
       "      <td>[{'_id': '1238149', 'specification': 'Descript...</td>\n",
       "      <td>MANGO MALLIKA</td>\n",
       "      <td>0</td>\n",
       "    </tr>\n",
       "    <tr>\n",
       "      <th>1</th>\n",
       "      <td>2118864</td>\n",
       "      <td>None</td>\n",
       "      <td>None</td>\n",
       "      <td>56232</td>\n",
       "      <td>0</td>\n",
       "      <td>1</td>\n",
       "      <td>20</td>\n",
       "      <td>0</td>\n",
       "      <td></td>\n",
       "      <td>17</td>\n",
       "      <td>20.0</td>\n",
       "      <td>250 GM</td>\n",
       "      <td>None</td>\n",
       "      <td>1004066</td>\n",
       "      <td>237</td>\n",
       "      <td>0</td>\n",
       "      <td>56232</td>\n",
       "      <td>0</td>\n",
       "      <td>800010700</td>\n",
       "      <td>NAMDHARI</td>\n",
       "      <td>Fruits and Vegetables</td>\n",
       "      <td>1</td>\n",
       "      <td>Fresh Vegetables</td>\n",
       "      <td>29</td>\n",
       "      <td>LEAFY VEGETABLES</td>\n",
       "      <td>37</td>\n",
       "      <td>PALAK LEAF</td>\n",
       "      <td>37</td>\n",
       "      <td>0</td>\n",
       "      <td>PALAK LEAF</td>\n",
       "      <td>[{'_id': '72102', 'pic': 'uploads/product/pala...</td>\n",
       "      <td>0</td>\n",
       "      <td>[{'_id': '1016037', 'specification': 'Benefits...</td>\n",
       "      <td>PALAK LEAF</td>\n",
       "      <td>0</td>\n",
       "    </tr>\n",
       "    <tr>\n",
       "      <th>2</th>\n",
       "      <td>2118850</td>\n",
       "      <td>None</td>\n",
       "      <td>None</td>\n",
       "      <td>58017</td>\n",
       "      <td>0</td>\n",
       "      <td>1</td>\n",
       "      <td>50</td>\n",
       "      <td>0</td>\n",
       "      <td></td>\n",
       "      <td>40</td>\n",
       "      <td>50.0</td>\n",
       "      <td>1 KG</td>\n",
       "      <td>None</td>\n",
       "      <td>1005863</td>\n",
       "      <td>209</td>\n",
       "      <td>0</td>\n",
       "      <td>58017</td>\n",
       "      <td>0</td>\n",
       "      <td>800010700</td>\n",
       "      <td>NAMDHARI</td>\n",
       "      <td>Fruits and Vegetables</td>\n",
       "      <td>1</td>\n",
       "      <td>Mango Bazar</td>\n",
       "      <td>1009</td>\n",
       "      <td>Mango Bazar</td>\n",
       "      <td>1010</td>\n",
       "      <td>MANGO SINDHURAN</td>\n",
       "      <td>1010</td>\n",
       "      <td>0</td>\n",
       "      <td>MANGO SINDHURAN</td>\n",
       "      <td>[{'_id': '97545', 'pic': 'uploads/product/mang...</td>\n",
       "      <td>0</td>\n",
       "      <td>[{'_id': '1238574', 'specification': 'Descript...</td>\n",
       "      <td>MANGO SINDHURAN</td>\n",
       "      <td>0</td>\n",
       "    </tr>\n",
       "  </tbody>\n",
       "</table>\n",
       "</div>"
      ],
      "text/plain": [
       "       _id box_color filter_color id_product is_restaurant min_quantity mrp  \\\n",
       "0  2118849      None         None      58013             0            1  99   \n",
       "1  2118864      None         None      56232             0            1  20   \n",
       "2  2118850      None         None      58017             0            1  50   \n",
       "\n",
       "  mycart offer realization  selling_price    size size_measuring_unit  \\\n",
       "0      0                70           99.0    1 KG                None   \n",
       "1      0                17           20.0  250 GM                None   \n",
       "2      0                40           50.0    1 KG                None   \n",
       "\n",
       "       sku stock tax  p__id p_actual_price p_article_no   p_brand  \\\n",
       "0  1005859   266   0  58013              0    800010700  NAMDHARI   \n",
       "1  1004066   237   0  56232              0    800010700  NAMDHARI   \n",
       "2  1005863   209   0  58017              0    800010700  NAMDHARI   \n",
       "\n",
       "             p_category1 p_category1_id       p_category2 p_category2_id  \\\n",
       "0  Fruits and Vegetables              1       Mango Bazar           1009   \n",
       "1  Fruits and Vegetables              1  Fresh Vegetables             29   \n",
       "2  Fruits and Vegetables              1       Mango Bazar           1009   \n",
       "\n",
       "        p_category3 p_category3_id    p_description p_id_category p_mrp  \\\n",
       "0       Mango Bazar           1010    MANGO MALLIKA          1010     0   \n",
       "1  LEAFY VEGETABLES             37       PALAK LEAF            37     0   \n",
       "2       Mango Bazar           1010  MANGO SINDHURAN          1010     0   \n",
       "\n",
       "            p_name                                              p_pic  \\\n",
       "0    MANGO MALLIKA  [{'_id': '97538', 'pic': 'uploads/product/mang...   \n",
       "1       PALAK LEAF  [{'_id': '72102', 'pic': 'uploads/product/pala...   \n",
       "2  MANGO SINDHURAN  [{'_id': '97545', 'pic': 'uploads/product/mang...   \n",
       "\n",
       "  p_selling_price                                             p_spec  \\\n",
       "0               0  [{'_id': '1238149', 'specification': 'Descript...   \n",
       "1               0  [{'_id': '1016037', 'specification': 'Benefits...   \n",
       "2               0  [{'_id': '1238574', 'specification': 'Descript...   \n",
       "\n",
       "            p_tags p_wishlist  \n",
       "0    MANGO MALLIKA          0  \n",
       "1       PALAK LEAF          0  \n",
       "2  MANGO SINDHURAN          0  "
      ]
     },
     "execution_count": 10,
     "metadata": {},
     "output_type": "execute_result"
    }
   ],
   "source": [
    "# Lets reduce the dimensions from 35, taking a look at the columns and data-types above\n",
    "# Take a peek at the data to reduce most of the columns that are IDs, null, etc.\n",
    "print(list(fmcg.columns))\n",
    "pd.set_option('display.max_columns', None)\n",
    "fmcg.head(3)"
   ]
  },
  {
   "cell_type": "code",
   "execution_count": 11,
   "metadata": {
    "scrolled": false
   },
   "outputs": [
    {
     "name": "stdout",
     "output_type": "stream",
     "text": [
      "box_color [None]\n",
      "filter_color [None]\n",
      "is_restaurant ['0']\n",
      "min_quantity ['1']\n",
      "mycart ['0']\n",
      "offer ['']\n",
      "size_measuring_unit [None]\n",
      "p__id 0\n",
      "p_actual_price [0]\n",
      "p_id_category 0\n",
      "p_mrp [0]\n",
      "p_selling_price [0]\n",
      "p_wishlist [0]\n"
     ]
    }
   ],
   "source": [
    "# There's too many data to reduce, let's keep dropping irrelevant ones\n",
    "# First round of filtering obviously useless columns\n",
    "\n",
    "#1  _id                   --> random ID column, discard\n",
    "#2  box_color             --> none\n",
    "print('box_color', fmcg.box_color.unique())\n",
    "#3  filter_color          --> none\n",
    "print('filter_color', fmcg.filter_color.unique())\n",
    "#4  id_product            --> keep for now\n",
    "#5  is_restaurant         --> 1\n",
    "print('is_restaurant', fmcg.is_restaurant.unique())\n",
    "#6  min_quantity          --> 1\n",
    "print('min_quantity', fmcg.min_quantity.unique())\n",
    "#7  mrp                   --> keep for now\n",
    "#8  mycart                --> 0\n",
    "print('mycart', fmcg.mycart.unique())\n",
    "#9  offer                 --> blank\n",
    "print('offer', fmcg.offer.unique())\n",
    "#10 realization           --> keep for now\n",
    "#11 selling_price         --> keep for now\n",
    "#12 size                  --> keep for now\n",
    "#13 size_measuring_unit   --> none\n",
    "print('size_measuring_unit', fmcg.size_measuring_unit.unique())\n",
    "#14 sku                   --> keep for now\n",
    "#15 stock                 --> keep for now\n",
    "#16 tax                   --> keep for now\n",
    "#17 p__id                 --> same as id_product\n",
    "print('p__id', fmcg[fmcg.p__id != fmcg.id_product].shape[0])\n",
    "#18 p_actual_price        --> 0\n",
    "print('p_actual_price', fmcg.p_actual_price.unique())\n",
    "#19 p_article_no          --> looks internal, discard\n",
    "#20 p_brand               --> keep for now\n",
    "#21 p_category1           --> keep for now\n",
    "#22 p_category1_id        --> keep for now\n",
    "#23 p_category2           --> keep for now\n",
    "#24 p_category2_id        --> keep for now\n",
    "#25 p_category3           --> keep for now\n",
    "#26 p_category3_id        --> keep for now\n",
    "#27 p_description         --> keep for now\n",
    "#28 p_id_category         --> p_category3_id\n",
    "print('p_id_category', fmcg[fmcg.p_category3_id != fmcg.p_id_category].shape[0])\n",
    "#29 p_mrp                 --> 0\n",
    "print('p_mrp', fmcg.p_mrp.unique())\n",
    "#30 p_name                --> keep for now\n",
    "#31 p_pic                 --> pic data, discard\n",
    "#32 p_selling_price       --> 0\n",
    "print('p_selling_price', fmcg.p_selling_price.unique())\n",
    "#33 p_spec                --> keep for now\n",
    "#34 p_tags                --> tag data, discard\n",
    "#35 p_wishlist            --> 0\n",
    "print('p_wishlist', fmcg.p_wishlist.unique())\n",
    "\n",
    "# Verification for columns with null/no/0/same data values"
   ]
  },
  {
   "cell_type": "code",
   "execution_count": 12,
   "metadata": {},
   "outputs": [
    {
     "name": "stdout",
     "output_type": "stream",
     "text": [
      "['id_product', 'mrp', 'realization', 'selling_price', 'size', 'sku', 'stock', 'tax', 'p_brand', 'p_category1', 'p_category1_id', 'p_category2', 'p_category2_id', 'p_category3', 'p_category3_id', 'p_description', 'p_name', 'p_spec']\n"
     ]
    },
    {
     "data": {
      "text/html": [
       "<div>\n",
       "<style scoped>\n",
       "    .dataframe tbody tr th:only-of-type {\n",
       "        vertical-align: middle;\n",
       "    }\n",
       "\n",
       "    .dataframe tbody tr th {\n",
       "        vertical-align: top;\n",
       "    }\n",
       "\n",
       "    .dataframe thead th {\n",
       "        text-align: right;\n",
       "    }\n",
       "</style>\n",
       "<table border=\"1\" class=\"dataframe\">\n",
       "  <thead>\n",
       "    <tr style=\"text-align: right;\">\n",
       "      <th></th>\n",
       "      <th>id_product</th>\n",
       "      <th>mrp</th>\n",
       "      <th>realization</th>\n",
       "      <th>selling_price</th>\n",
       "      <th>size</th>\n",
       "      <th>sku</th>\n",
       "      <th>stock</th>\n",
       "      <th>tax</th>\n",
       "      <th>p_brand</th>\n",
       "      <th>p_category1</th>\n",
       "      <th>p_category1_id</th>\n",
       "      <th>p_category2</th>\n",
       "      <th>p_category2_id</th>\n",
       "      <th>p_category3</th>\n",
       "      <th>p_category3_id</th>\n",
       "      <th>p_description</th>\n",
       "      <th>p_name</th>\n",
       "      <th>p_spec</th>\n",
       "    </tr>\n",
       "  </thead>\n",
       "  <tbody>\n",
       "    <tr>\n",
       "      <th>0</th>\n",
       "      <td>58013</td>\n",
       "      <td>99</td>\n",
       "      <td>70</td>\n",
       "      <td>99.0</td>\n",
       "      <td>1 KG</td>\n",
       "      <td>1005859</td>\n",
       "      <td>266</td>\n",
       "      <td>0</td>\n",
       "      <td>NAMDHARI</td>\n",
       "      <td>Fruits and Vegetables</td>\n",
       "      <td>1</td>\n",
       "      <td>Mango Bazar</td>\n",
       "      <td>1009</td>\n",
       "      <td>Mango Bazar</td>\n",
       "      <td>1010</td>\n",
       "      <td>MANGO MALLIKA</td>\n",
       "      <td>MANGO MALLIKA</td>\n",
       "      <td>[{'_id': '1238149', 'specification': 'Descript...</td>\n",
       "    </tr>\n",
       "    <tr>\n",
       "      <th>1</th>\n",
       "      <td>56232</td>\n",
       "      <td>20</td>\n",
       "      <td>17</td>\n",
       "      <td>20.0</td>\n",
       "      <td>250 GM</td>\n",
       "      <td>1004066</td>\n",
       "      <td>237</td>\n",
       "      <td>0</td>\n",
       "      <td>NAMDHARI</td>\n",
       "      <td>Fruits and Vegetables</td>\n",
       "      <td>1</td>\n",
       "      <td>Fresh Vegetables</td>\n",
       "      <td>29</td>\n",
       "      <td>LEAFY VEGETABLES</td>\n",
       "      <td>37</td>\n",
       "      <td>PALAK LEAF</td>\n",
       "      <td>PALAK LEAF</td>\n",
       "      <td>[{'_id': '1016037', 'specification': 'Benefits...</td>\n",
       "    </tr>\n",
       "    <tr>\n",
       "      <th>2</th>\n",
       "      <td>58017</td>\n",
       "      <td>50</td>\n",
       "      <td>40</td>\n",
       "      <td>50.0</td>\n",
       "      <td>1 KG</td>\n",
       "      <td>1005863</td>\n",
       "      <td>209</td>\n",
       "      <td>0</td>\n",
       "      <td>NAMDHARI</td>\n",
       "      <td>Fruits and Vegetables</td>\n",
       "      <td>1</td>\n",
       "      <td>Mango Bazar</td>\n",
       "      <td>1009</td>\n",
       "      <td>Mango Bazar</td>\n",
       "      <td>1010</td>\n",
       "      <td>MANGO SINDHURAN</td>\n",
       "      <td>MANGO SINDHURAN</td>\n",
       "      <td>[{'_id': '1238574', 'specification': 'Descript...</td>\n",
       "    </tr>\n",
       "  </tbody>\n",
       "</table>\n",
       "</div>"
      ],
      "text/plain": [
       "  id_product mrp realization  selling_price    size      sku stock tax  \\\n",
       "0      58013  99          70           99.0    1 KG  1005859   266   0   \n",
       "1      56232  20          17           20.0  250 GM  1004066   237   0   \n",
       "2      58017  50          40           50.0    1 KG  1005863   209   0   \n",
       "\n",
       "    p_brand            p_category1 p_category1_id       p_category2  \\\n",
       "0  NAMDHARI  Fruits and Vegetables              1       Mango Bazar   \n",
       "1  NAMDHARI  Fruits and Vegetables              1  Fresh Vegetables   \n",
       "2  NAMDHARI  Fruits and Vegetables              1       Mango Bazar   \n",
       "\n",
       "  p_category2_id       p_category3 p_category3_id    p_description  \\\n",
       "0           1009       Mango Bazar           1010    MANGO MALLIKA   \n",
       "1             29  LEAFY VEGETABLES             37       PALAK LEAF   \n",
       "2           1009       Mango Bazar           1010  MANGO SINDHURAN   \n",
       "\n",
       "            p_name                                             p_spec  \n",
       "0    MANGO MALLIKA  [{'_id': '1238149', 'specification': 'Descript...  \n",
       "1       PALAK LEAF  [{'_id': '1016037', 'specification': 'Benefits...  \n",
       "2  MANGO SINDHURAN  [{'_id': '1238574', 'specification': 'Descript...  "
      ]
     },
     "execution_count": 12,
     "metadata": {},
     "output_type": "execute_result"
    }
   ],
   "source": [
    "# Dropping these columns from the dataframe\n",
    "fmcg.drop(['box_color', 'filter_color', 'is_restaurant', 'min_quantity', 'mycart', 'offer'], inplace=True, axis=1)\n",
    "fmcg.drop(['p_selling_price', 'p__id', 'p_actual_price', 'p_id_category', 'p_mrp'], inplace=True, axis=1)\n",
    "fmcg.drop(['size_measuring_unit', '_id', 'p_article_no', 'p_pic', 'p_tags', 'p_wishlist'], inplace=True, axis=1)\n",
    "\n",
    "# Check the remaining columns\n",
    "print(list(fmcg.columns))\n",
    "fmcg.head(3)"
   ]
  },
  {
   "cell_type": "code",
   "execution_count": 13,
   "metadata": {},
   "outputs": [
    {
     "name": "stdout",
     "output_type": "stream",
     "text": [
      "[list([{'_id': '1238149', 'specification': 'Description', 'value': 'MANGO MALLIKA'}])]\n"
     ]
    }
   ],
   "source": [
    "# Second round of filtering less obviously useless columns\n",
    "# Let's remove p_spec, p_description which are junk text\n",
    "print(fmcg.p_spec[:1].values)\n",
    "# Also remove all ids as we already filtered duplicate records\n",
    "# Category ids are mapped to category values and are likely keys of a DB\n",
    "# We also don't care about stock or inventory\n",
    "# Also not sure what realization is and neither does it look to add any value\n",
    "fmcg.drop(['p_spec', 'p_description', 'sku', 'stock', 'realization'], inplace=True, axis=1)\n",
    "fmcg.drop(['id_product', 'p_category1_id', 'p_category2_id', 'p_category3_id'], inplace=True, axis=1)"
   ]
  },
  {
   "cell_type": "code",
   "execution_count": 14,
   "metadata": {},
   "outputs": [
    {
     "name": "stdout",
     "output_type": "stream",
     "text": [
      "['mrp', 'selling_price', 'size', 'tax', 'p_brand', 'p_category1', 'p_category2', 'p_category3', 'p_name']\n"
     ]
    },
    {
     "data": {
      "text/html": [
       "<div>\n",
       "<style scoped>\n",
       "    .dataframe tbody tr th:only-of-type {\n",
       "        vertical-align: middle;\n",
       "    }\n",
       "\n",
       "    .dataframe tbody tr th {\n",
       "        vertical-align: top;\n",
       "    }\n",
       "\n",
       "    .dataframe thead th {\n",
       "        text-align: right;\n",
       "    }\n",
       "</style>\n",
       "<table border=\"1\" class=\"dataframe\">\n",
       "  <thead>\n",
       "    <tr style=\"text-align: right;\">\n",
       "      <th></th>\n",
       "      <th>mrp</th>\n",
       "      <th>selling_price</th>\n",
       "      <th>size</th>\n",
       "      <th>tax</th>\n",
       "      <th>p_brand</th>\n",
       "      <th>p_category1</th>\n",
       "      <th>p_category2</th>\n",
       "      <th>p_category3</th>\n",
       "      <th>p_name</th>\n",
       "    </tr>\n",
       "  </thead>\n",
       "  <tbody>\n",
       "    <tr>\n",
       "      <th>2707</th>\n",
       "      <td>350</td>\n",
       "      <td>350.0</td>\n",
       "      <td>100 ML</td>\n",
       "      <td>18</td>\n",
       "      <td>ESSENCE OF LIFE</td>\n",
       "      <td>Personal Care</td>\n",
       "      <td>Hair Care</td>\n",
       "      <td>HAIR CARE</td>\n",
       "      <td>Alovera Hair Oil 100 Ml</td>\n",
       "    </tr>\n",
       "    <tr>\n",
       "      <th>2708</th>\n",
       "      <td>140</td>\n",
       "      <td>140.0</td>\n",
       "      <td>4.8 GM</td>\n",
       "      <td>18</td>\n",
       "      <td>NIVEA</td>\n",
       "      <td>Personal Care</td>\n",
       "      <td>Personal Hygiene</td>\n",
       "      <td>MAKE UP &amp; NAILS</td>\n",
       "      <td>Lip Care Essential 4.8Gm</td>\n",
       "    </tr>\n",
       "    <tr>\n",
       "      <th>2709</th>\n",
       "      <td>120</td>\n",
       "      <td>120.0</td>\n",
       "      <td>100 GM</td>\n",
       "      <td>18</td>\n",
       "      <td>ESSENCE OF LIFE</td>\n",
       "      <td>Personal Care</td>\n",
       "      <td>Liquid Soaps &amp; Bars</td>\n",
       "      <td>BATHING SOAPS &amp; LIQUID</td>\n",
       "      <td>Thulsi Honey Soap With Goat Milk 100 Gm</td>\n",
       "    </tr>\n",
       "  </tbody>\n",
       "</table>\n",
       "</div>"
      ],
      "text/plain": [
       "      mrp  selling_price    size tax          p_brand    p_category1  \\\n",
       "2707  350          350.0  100 ML  18  ESSENCE OF LIFE  Personal Care   \n",
       "2708  140          140.0  4.8 GM  18            NIVEA  Personal Care   \n",
       "2709  120          120.0  100 GM  18  ESSENCE OF LIFE  Personal Care   \n",
       "\n",
       "              p_category2             p_category3  \\\n",
       "2707            Hair Care               HAIR CARE   \n",
       "2708     Personal Hygiene         MAKE UP & NAILS   \n",
       "2709  Liquid Soaps & Bars  BATHING SOAPS & LIQUID   \n",
       "\n",
       "                                       p_name  \n",
       "2707                  Alovera Hair Oil 100 Ml  \n",
       "2708                 Lip Care Essential 4.8Gm  \n",
       "2709  Thulsi Honey Soap With Goat Milk 100 Gm  "
      ]
     },
     "execution_count": 14,
     "metadata": {},
     "output_type": "execute_result"
    }
   ],
   "source": [
    "# Lets look at the remaining columns\n",
    "print(list(fmcg.columns))\n",
    "fmcg.tail(3)"
   ]
  },
  {
   "cell_type": "code",
   "execution_count": 15,
   "metadata": {},
   "outputs": [],
   "source": [
    "# This data-set looks good and set for further cleaning, let's rename the columns as a final step in dimension reduction\n",
    "index_map = {'mrp':'Price', 'selling_price':'SellingPrice', 'size':'Size', 'tax':'Tax', 'p_brand':'Brand',\n",
    "             'p_category1':'Category', 'p_category2':'SubCategory', 'p_category3':'Group', 'p_name':'Name'}\n",
    "fmcg.rename(columns=index_map, inplace=True)"
   ]
  },
  {
   "cell_type": "code",
   "execution_count": 16,
   "metadata": {},
   "outputs": [
    {
     "data": {
      "text/html": [
       "<div>\n",
       "<style scoped>\n",
       "    .dataframe tbody tr th:only-of-type {\n",
       "        vertical-align: middle;\n",
       "    }\n",
       "\n",
       "    .dataframe tbody tr th {\n",
       "        vertical-align: top;\n",
       "    }\n",
       "\n",
       "    .dataframe thead th {\n",
       "        text-align: right;\n",
       "    }\n",
       "</style>\n",
       "<table border=\"1\" class=\"dataframe\">\n",
       "  <thead>\n",
       "    <tr style=\"text-align: right;\">\n",
       "      <th></th>\n",
       "      <th>Price</th>\n",
       "      <th>SellingPrice</th>\n",
       "      <th>Size</th>\n",
       "      <th>Tax</th>\n",
       "      <th>Brand</th>\n",
       "      <th>Category</th>\n",
       "      <th>SubCategory</th>\n",
       "      <th>Group</th>\n",
       "      <th>Name</th>\n",
       "    </tr>\n",
       "  </thead>\n",
       "  <tbody>\n",
       "  </tbody>\n",
       "</table>\n",
       "</div>"
      ],
      "text/plain": [
       "Empty DataFrame\n",
       "Columns: [Price, SellingPrice, Size, Tax, Brand, Category, SubCategory, Group, Name]\n",
       "Index: []"
      ]
     },
     "metadata": {},
     "output_type": "display_data"
    },
    {
     "data": {
      "text/plain": [
       "Price           0\n",
       "SellingPrice    0\n",
       "Size            0\n",
       "Tax             0\n",
       "Brand           0\n",
       "Category        0\n",
       "SubCategory     0\n",
       "Group           0\n",
       "Name            0\n",
       "dtype: int64"
      ]
     },
     "metadata": {},
     "output_type": "display_data"
    }
   ],
   "source": [
    "# Check N/A and null values (nothing missing here)\n",
    "display(fmcg[fmcg.isna().any(axis=1)], fmcg.isnull().sum())"
   ]
  },
  {
   "cell_type": "code",
   "execution_count": 17,
   "metadata": {},
   "outputs": [
    {
     "data": {
      "text/plain": [
       "Price           float64\n",
       "SellingPrice    float64\n",
       "Size             string\n",
       "Tax             float64\n",
       "Brand            string\n",
       "Category         string\n",
       "SubCategory      string\n",
       "Group            string\n",
       "Name             string\n",
       "Discount         string\n",
       "dtype: object"
      ]
     },
     "execution_count": 17,
     "metadata": {},
     "output_type": "execute_result"
    }
   ],
   "source": [
    "# Formulate columns as per the correct data-types\n",
    "fmcg.Price = fmcg.Price.astype('float', copy=False)\n",
    "fmcg.SellingPrice = fmcg.SellingPrice.astype('float', copy=False)\n",
    "fmcg.Tax = fmcg.Tax.astype('float', copy=False)\n",
    "fmcg[['Name','Brand','Category']] = fmcg[['Name','Brand','Category']].astype('string', copy=False)\n",
    "fmcg[['SubCategory','Group','Size']] = fmcg[['SubCategory','Group','Size']].astype('string', copy=False)\n",
    "fmcg['Discount']=((fmcg.Price-fmcg.SellingPrice)*100/fmcg.Price).astype(float).map(lambda n:'{:.1%}'.format(n)).astype('string')\n",
    "fmcg.dtypes"
   ]
  },
  {
   "cell_type": "code",
   "execution_count": 18,
   "metadata": {},
   "outputs": [
    {
     "name": "stdout",
     "output_type": "stream",
     "text": [
      "['1 KG', '250 GM', '1 KG(APPROX 6 TO 7 PCS)', '500 GM(APPROX 3 TO 4 PCS)', '1 KG(APPROX 10 TO 12 PCS)', '1 KG(APPROX 5 TO 6 PCS)', '500 GM(APPROX 2 TO 3 PCS)', '\\xa01.5-2 KG', '500 GM', '\\xa01-1.25 KG', '1KG', '200 GM', 'PER PC(500-900 GM)', '100 GM', 'PER PC', '500 GM(APPROX 7 TO 9 PCS)', '1 KG(APPROX 14 TO 18 PCS)', '1 KG(APPROX 12 TO 16 PCS)', 'PC', 'PER PC(1.5KG- 2KG)', '4 NOS', '1 COMBO PACK', '1 KG(APPROX 3 TO 4 Pcs)', 'PER PC(500 GM 800 GM)', '175 GM', 'PER PC(2- 3KG)', '250 GM(APPROX 1 TO 2 PCS)', '1 KG(APPROX 5 TO 7 PCS)', 'PER PC(700 GM 900 GM)', '150 GM', '500 GM(APPROX 4 TO 5 PCS)', 'PER PC(400 GM 700 GM)', 'KG', 'BOX', '1 KG(APPROX 9 TO 12 PCS)', '500 GM(APPROX  TO 6 PCS)', 'PACK OF 2', 'PER PC(APPROX 100 GM TO 150 GM)', '400 GM', '25 GM', '1 KG(APPROX 4 TO 5 PCS)', '500 GM (2-3 Pcs)', '1 KG ( 3 - 4 Pcs)', '1 KG(APPROX 7 TO 8 PCS)', '1 KG(APPROX 6 TO 8 PCS)', 'PACK OF 3', '1 KG(APPROX 3 TO 5 PCS)', '250 GM (1-2 Pcs)', '1 PC', '500 ML', '1 LTR', '290 ML', '200 ML', '300 ML', '250ML', '250 ML', '600 ML', '290ML', '750 GM', '25 TEA BAGS', '50 GM', '750 ML', '160 ML', '20 ML', \"30'S\", '20 TEA BAGS', '5 LTR', '90 GM', '100 TEA BAGS', '140 GM', \"10'S\", '500GM', '200 Ml', '300 GM', '200ML', \"25'S\", '40 GM', '125 GM', '330 ML', \"14'S\", '1000 ML', '75 GM', '100 Gm', '50GM', '1LTR', '280 ML', '25 TEA BAG', '320 ML', '750ML', '1 Ltr', '18 TEA BAGS', '350 ML', '340 ML', '750 Ml', '1200 ML', '500ML', \"7'S\", '160 GM', '330 GM', '35 GM', '70 GM', '110 GM', '37 GM', '18 GM', '30 GM', '84 GM', '38 GM', '20 GM', '60 GM', '45 GM', '278 GM', '42 GM', '130 GM', '145 GM', '65 GM', '58 GM', '180 GM', '33 GM', '169 GM', '121 GM', '176 GM', '136 GM', '120 GM', '80 GM', '85 GM', '10.7 GM', '350 GM', '55 GM', '210 GM', '480 GM', 'B2G2', '400 ML', '14 GM', '102 GM', '13.1 GM', '40GM', '600 GM', '5.5 GM', '166 GM', '13 GM', '168 GM', '135 GM', '875 GM', '233 GM', '114 GM', '56 GM', '680 GM', '240 GM', '75GM', '10 GM', '92 GM', '79 GM', '510 GM', '22 GM', '190 GM', '28 ML', '420 GM', '30GM', '150 Gm', '80 Gm', '20.47 GM', '450 GM', '70GM', '44 GM', '43 GM', '380 GM', '135GM', '700GM', '67 GM', '475 GM', '152 Gm', '220 GM', '48 GM', '336 GM', '290 GM', '112 GM', '375 GM', '163 GM', '280 GM', '10GM', '250 GM ', 'B4G1', '68 GM', '340 GM', '120GM', '27.5 GM', '390 GM', '400 Gm', '100GM', '370 GM', '230 GM', '205 GM', 'EACH', '900 GM', '700 GM', '160GM', '275 GM', '270 GM', '200 Gm', '225 GM', '227 GM', '150 ML', '30 Gm', '12 GM', '320 GM', '60 ML', '125 Gm', '45 Gm', '325 GM', '3 PACK', '500G', '228 GM', '156 GM', '425 GM', '550 GM', '439 GM', '190 Gm', '730 GM', '175 Gm', '430 ML', '315 GM', '470 GM', '200GM', '300 Gm', '3 PC', '350 Gm', '380 Gm', '305 ML', '180 ML', '670 GM', '115GM', '165 GM', '430 GM', '60GM', '1.5 KG', '60Gm', '57 GM', '600GM', '285 GM', '11 GM', '50 Gm', '360 Gm', 'PK', 'PACK OF 4', '1500 GM', '5 PC', '410 GM', '700 Gm', '11GX20PC', '1800 GM', '370gm', '345 GM', '120 Gm', '170 GM', '273 GM', '150gm', '450 ML', '360 GM', '80GM', '330 Gm', '2 KG', '5 KG', '10 KG', '255 GM', '3 LTR', '175 ML', '1000 GM', '490 ML', '2 LTR', '5 GM', '100 ML', '16 GM', '32 GM', '59 GM', '128 GM', '126 GM', '335 GM', '122 GM', '15 GM', '190 ML', '310 GM', '115 GM', '170 ML', '348 GM', '1.250KG', '265 GM', '240 ML', '1.250 KG', '235 ML', '200 SHEETS', '1 PLY', '15 Gm', '1 PCS', '30 ML', '95GM', '75 ML', 'B3G1', '2 NOS', '70 ML', '6 PC', '15GM', '975 ML', '26 GM', '7.5 ML', '709 ML', \"75'S\", '245 ML', '4 + 1 KG', '860 ML', \"100'S\", '200 PC', \"6'S\", '10MTR', '3MTR', '1.8 LTR', '40 ML', '72 MTR', '1.5 LTR', '300 PULLS', '567 Gm', '120 ML', '700 ML', '500 Ml', '1PC', '4PC', \"5'S\", '800 GM', '225 ML', '3 KG', \"15'S\", '190 PULLS', '36 GM', \"20'S\", \"40'S\", '200 PULLS', '1 PP', \"9'S\", \"60'S\", \"1'S\", '275 ML', '100 PULLS', '2+1 PC', '41 GM', '50 ML', '125GM', '10 PCS', \"2'S\", 'MEDIUM', '100 PC', '195 GM', '4.8 GM']\n"
     ]
    }
   ],
   "source": [
    "# Let's correct and split Size into 2 columns - Quantity and Measurement\n",
    "# Creating a placeholder Series 'Unit'\n",
    "fmcg['Unit'] = ''\n",
    "print(list(fmcg.Size.unique()))"
   ]
  },
  {
   "cell_type": "code",
   "execution_count": 19,
   "metadata": {},
   "outputs": [
    {
     "name": "stdout",
     "output_type": "stream",
     "text": [
      "Total rows corrected: 2708\n"
     ]
    }
   ],
   "source": [
    "# There are multiple patterns in Size column and taken into consideration separately\n",
    "# Example is the first regex pattern for things like '*** ###', where * are numbers and # are chars\n",
    "# Ideally all the patterns should be cases under a single for-loop but is split for demonstrative purposes\n",
    "\n",
    "pattern1 = '((^\\s*([0-9]+))(\\.*)(\\d*)(\\s+)([a-zA-Z]+(\\s*)$))'\n",
    "matcher1 = re.compile(pattern1)\n",
    "rowsCorrected = 0\n",
    "for i in range(len(fmcg.Size)):\n",
    "    if(matcher1.match(fmcg.Size[i])):\n",
    "        tempSplit = fmcg.Size[i].split()\n",
    "        fmcg.loc[i,'Size'] = tempSplit[0]\n",
    "        fmcg.loc[i,'Unit'] = tempSplit[1]\n",
    "        rowsCorrected+=1\n",
    "\n",
    "pattern2 = '([0-9]+(\\.?)[0-9]*[a-zA-Z]+$)'\n",
    "matcher2 = re.compile(pattern2)\n",
    "for i in range(len(fmcg.Size)):\n",
    "    if(matcher2.match(fmcg.Size[i])):\n",
    "        tempSplit = re.split('([a-zA-Z]+)', fmcg.Size[i])\n",
    "        fmcg.loc[i,'Size'] = tempSplit[0]\n",
    "        fmcg.loc[i,'Unit'] = tempSplit[1]\n",
    "        rowsCorrected+=1\n",
    "\n",
    "pattern3 = '(\\d+\\')'\n",
    "matcher3 = re.compile(pattern3)\n",
    "for i in range(len(fmcg.Size)):\n",
    "    if(matcher3.match(fmcg.Size[i])):\n",
    "        tempSplit = fmcg.Size[i].split('\\'')\n",
    "        fmcg.loc[i,'Size'] = tempSplit[0]\n",
    "        fmcg.loc[i,'Unit'] = 'Unit(s)'\n",
    "        rowsCorrected+=1\n",
    "\n",
    "pattern4 = '(\\s*(PC|BOX|EACH|PER|MEDIUM|PK)\\s*)'\n",
    "matcher4 = re.compile(pattern4)\n",
    "for i in range(len(fmcg.Size)):\n",
    "    if(matcher4.match(fmcg.Size[i])):\n",
    "        fmcg.loc[i,'Size'] = '1'\n",
    "        fmcg.loc[i,'Unit'] = 'Unit(s)'\n",
    "        rowsCorrected+=1\n",
    "\n",
    "pattern5 = '(.*TEA BAG?.*)'\n",
    "matcher5 = re.compile(pattern5)\n",
    "for i in range(len(fmcg.Size)):\n",
    "    if(matcher5.match(fmcg.Size[i])):\n",
    "        fmcg.loc[i,'Size'] = fmcg.Size[i].split()[0]\n",
    "        fmcg.loc[i,'Unit'] = 'Unit(s)'\n",
    "        rowsCorrected+=1\n",
    "\n",
    "pattern6 = '(.*APPROX?.*)'\n",
    "matcher6 = re.compile(pattern6)\n",
    "for i in range(len(fmcg.Size)):\n",
    "    if(matcher6.match(fmcg.Size[i])):\n",
    "        tempSplit = fmcg.Size[i].split('(')[0].split()\n",
    "        fmcg.loc[i,'Size'] = tempSplit[0]\n",
    "        fmcg.loc[i,'Unit'] = tempSplit[1]\n",
    "        rowsCorrected+=1\n",
    "\n",
    "pattern7 = '(.*PACK OF?.*)'\n",
    "matcher7 = re.compile(pattern7)\n",
    "for i in range(len(fmcg.Size)):\n",
    "    if(matcher7.match(fmcg.Size[i])):\n",
    "        fmcg.loc[i,'Size'] = fmcg.Size[i].split()[-1]\n",
    "        fmcg.loc[i,'Unit'] = 'Unit(s)'\n",
    "        rowsCorrected+=1\n",
    "\n",
    "pattern8 = '(\\d+ \\w+)'\n",
    "matcher8 = re.compile(pattern8)\n",
    "for i in range(len(fmcg.Size)):\n",
    "    if(matcher8.match(fmcg.Size[i])):\n",
    "        tempSplit = fmcg.Size[i].split()\n",
    "        fmcg.loc[i,'Size'] = tempSplit[0]\n",
    "        fmcg.loc[i,'Unit'] = tempSplit[1]\n",
    "        rowsCorrected+=1\n",
    "\n",
    "pattern9 = '(B[0-9]G[0-9])'\n",
    "matcher9 = re.compile(pattern9)\n",
    "for i in range(len(fmcg.Size)):\n",
    "    if(matcher9.match(fmcg.Size[i])):\n",
    "        tempSplit = re.findall('\\d',fmcg.Size[i])\n",
    "        total = 0\n",
    "        for j in range(len(tempSplit)):\n",
    "            total += int(tempSplit[j])\n",
    "        fmcg.loc[i,'Size'] = str(total)\n",
    "        fmcg.loc[i,'Unit'] = 'Unit(s)'\n",
    "        rowsCorrected+=1\n",
    "        \n",
    "pattern10 = '(\\d+(\\s)?\\+(\\s?)\\d+\\.*)'\n",
    "matcher10 = re.compile(pattern10)\n",
    "for i in range(len(fmcg.Size)):\n",
    "    if(matcher10.match(fmcg.Size[i])):\n",
    "        tempSplit = re.findall('\\d+',fmcg.Size[i])\n",
    "        unit = re.findall('[a-zA-Z]+',fmcg.Size[i])\n",
    "        total = 0\n",
    "        for j in range(len(tempSplit)):\n",
    "            total += int(tempSplit[j])\n",
    "        fmcg.loc[i,'Size'] = str(total)\n",
    "        fmcg.loc[i,'Unit'] = unit\n",
    "        rowsCorrected+=1\n",
    "\n",
    "pattern11 = '^(\\W+)'\n",
    "matcher11 = re.compile(pattern11)\n",
    "for i in range(len(fmcg.Size)):\n",
    "    if(matcher11.match(fmcg.Size[i])):\n",
    "        tempSplit = re.split('^\\W+', fmcg.Size[i])[-1].split()\n",
    "        # Taking lower bound for range\n",
    "        fmcg.loc[i,'Size'] = tempSplit[0].split('-')[0]\n",
    "        fmcg.loc[i,'Unit'] = tempSplit[-1]\n",
    "        rowsCorrected+=1\n",
    "\n",
    "print('Total rows corrected:', rowsCorrected)"
   ]
  },
  {
   "cell_type": "code",
   "execution_count": 20,
   "metadata": {},
   "outputs": [
    {
     "data": {
      "text/html": [
       "<div>\n",
       "<style scoped>\n",
       "    .dataframe tbody tr th:only-of-type {\n",
       "        vertical-align: middle;\n",
       "    }\n",
       "\n",
       "    .dataframe tbody tr th {\n",
       "        vertical-align: top;\n",
       "    }\n",
       "\n",
       "    .dataframe thead th {\n",
       "        text-align: right;\n",
       "    }\n",
       "</style>\n",
       "<table border=\"1\" class=\"dataframe\">\n",
       "  <thead>\n",
       "    <tr style=\"text-align: right;\">\n",
       "      <th></th>\n",
       "      <th>Price</th>\n",
       "      <th>SellingPrice</th>\n",
       "      <th>Size</th>\n",
       "      <th>Tax</th>\n",
       "      <th>Brand</th>\n",
       "      <th>Category</th>\n",
       "      <th>SubCategory</th>\n",
       "      <th>Group</th>\n",
       "      <th>Name</th>\n",
       "      <th>Discount</th>\n",
       "      <th>Unit</th>\n",
       "    </tr>\n",
       "  </thead>\n",
       "  <tbody>\n",
       "    <tr>\n",
       "      <th>74</th>\n",
       "      <td>249.0</td>\n",
       "      <td>249.0</td>\n",
       "      <td>KG</td>\n",
       "      <td>0.0</td>\n",
       "      <td>Namdhari</td>\n",
       "      <td>Fruits and Vegetables</td>\n",
       "      <td>Fresh Fruits</td>\n",
       "      <td>Fresh Fruits</td>\n",
       "      <td>APPLE EVELINA</td>\n",
       "      <td>0.0%</td>\n",
       "      <td></td>\n",
       "    </tr>\n",
       "    <tr>\n",
       "      <th>1358</th>\n",
       "      <td>125.0</td>\n",
       "      <td>125.0</td>\n",
       "      <td>11GX20PC</td>\n",
       "      <td>12.0</td>\n",
       "      <td>DURUKAN</td>\n",
       "      <td>Branded Foods</td>\n",
       "      <td>Chocolates &amp; Sweets</td>\n",
       "      <td>CONFECTIONERY</td>\n",
       "      <td>U Pops Halloween 11G X 20Pc</td>\n",
       "      <td>0.0%</td>\n",
       "      <td></td>\n",
       "    </tr>\n",
       "  </tbody>\n",
       "</table>\n",
       "</div>"
      ],
      "text/plain": [
       "      Price  SellingPrice      Size   Tax     Brand               Category  \\\n",
       "74    249.0         249.0        KG   0.0  Namdhari  Fruits and Vegetables   \n",
       "1358  125.0         125.0  11GX20PC  12.0   DURUKAN          Branded Foods   \n",
       "\n",
       "              SubCategory          Group                         Name  \\\n",
       "74           Fresh Fruits   Fresh Fruits                APPLE EVELINA   \n",
       "1358  Chocolates & Sweets  CONFECTIONERY  U Pops Halloween 11G X 20Pc   \n",
       "\n",
       "     Discount Unit  \n",
       "74       0.0%       \n",
       "1358     0.0%       "
      ]
     },
     "execution_count": 20,
     "metadata": {},
     "output_type": "execute_result"
    }
   ],
   "source": [
    "# Check and correct remaining manually\n",
    "fmcg[fmcg.Unit == '']"
   ]
  },
  {
   "cell_type": "code",
   "execution_count": 21,
   "metadata": {},
   "outputs": [
    {
     "data": {
      "text/html": [
       "<div>\n",
       "<style scoped>\n",
       "    .dataframe tbody tr th:only-of-type {\n",
       "        vertical-align: middle;\n",
       "    }\n",
       "\n",
       "    .dataframe tbody tr th {\n",
       "        vertical-align: top;\n",
       "    }\n",
       "\n",
       "    .dataframe thead th {\n",
       "        text-align: right;\n",
       "    }\n",
       "</style>\n",
       "<table border=\"1\" class=\"dataframe\">\n",
       "  <thead>\n",
       "    <tr style=\"text-align: right;\">\n",
       "      <th></th>\n",
       "      <th>Price</th>\n",
       "      <th>SellingPrice</th>\n",
       "      <th>Size</th>\n",
       "      <th>Tax</th>\n",
       "      <th>Brand</th>\n",
       "      <th>Category</th>\n",
       "      <th>SubCategory</th>\n",
       "      <th>Group</th>\n",
       "      <th>Name</th>\n",
       "      <th>Discount</th>\n",
       "      <th>Unit</th>\n",
       "    </tr>\n",
       "  </thead>\n",
       "  <tbody>\n",
       "  </tbody>\n",
       "</table>\n",
       "</div>"
      ],
      "text/plain": [
       "Empty DataFrame\n",
       "Columns: [Price, SellingPrice, Size, Tax, Brand, Category, SubCategory, Group, Name, Discount, Unit]\n",
       "Index: []"
      ]
     },
     "execution_count": 21,
     "metadata": {},
     "output_type": "execute_result"
    }
   ],
   "source": [
    "idx = fmcg[fmcg.Size=='KG'].index\n",
    "fmcg.loc[idx,'Size'] = '1'\n",
    "fmcg.loc[idx,'Unit'] = 'KG'\n",
    "idx = fmcg[fmcg.Size=='11GX20PC'].index\n",
    "fmcg.loc[idx,'Size'] = '20'\n",
    "fmcg.loc[idx,'Unit'] = 'PC'\n",
    "fmcg[(fmcg.Unit == '')]"
   ]
  },
  {
   "cell_type": "code",
   "execution_count": 22,
   "metadata": {
    "scrolled": true
   },
   "outputs": [
    {
     "name": "stdout",
     "output_type": "stream",
     "text": [
      "Before Unit Normalization:\n",
      "['kg', 'gm', 'unit(s)', 'nos', 'combo', 'pc', 'ml', 'ltr', 'pack', 'g', 'sheets', 'ply', 'pcs', 'mtr', 'pulls', 'pp']\n",
      "\n",
      "After Unit Normalization:\n",
      "['kg', 'gm', 'unit(s)', 'ml', 'ltr', 'mtr']\n"
     ]
    }
   ],
   "source": [
    "# Convert the new columns to correct data types\n",
    "fmcg.Size = fmcg.Size.astype('float', copy=False)\n",
    "fmcg.Unit = fmcg.Unit.astype('string', copy=False)\n",
    "\n",
    "# Apply proper casing for String columns (also avoids duplicates)\n",
    "cols = ['Name', 'Brand', 'Category', 'SubCategory', 'Group']\n",
    "for (k,v) in fmcg[cols].iteritems():\n",
    "    fmcg[k] = v.str.title()\n",
    "fmcg.Unit = fmcg.Unit.str.casefold()\n",
    "\n",
    "# Normalize some more non-metric units\n",
    "print('Before Unit Normalization:')\n",
    "print(list(fmcg.Unit.unique()))\n",
    "print()\n",
    "fmcg.loc[fmcg[fmcg.Unit.isin(['pp','ply','combo','sheets','pack','pc','pcs','pulls','nos'])].index, 'Unit'] = 'unit(s)'\n",
    "fmcg.loc[fmcg[fmcg.Unit=='g'].index, 'Unit'] = 'gm'\n",
    "print('After Unit Normalization:')\n",
    "print(list(fmcg.Unit.unique()))"
   ]
  },
  {
   "cell_type": "code",
   "execution_count": 23,
   "metadata": {},
   "outputs": [
    {
     "data": {
      "text/html": [
       "<div>\n",
       "<style scoped>\n",
       "    .dataframe tbody tr th:only-of-type {\n",
       "        vertical-align: middle;\n",
       "    }\n",
       "\n",
       "    .dataframe tbody tr th {\n",
       "        vertical-align: top;\n",
       "    }\n",
       "\n",
       "    .dataframe thead th {\n",
       "        text-align: right;\n",
       "    }\n",
       "</style>\n",
       "<table border=\"1\" class=\"dataframe\">\n",
       "  <thead>\n",
       "    <tr style=\"text-align: right;\">\n",
       "      <th></th>\n",
       "      <th>Name</th>\n",
       "      <th>Brand</th>\n",
       "      <th>Category</th>\n",
       "      <th>SubCategory</th>\n",
       "      <th>Group</th>\n",
       "      <th>Size</th>\n",
       "      <th>Unit</th>\n",
       "      <th>Price</th>\n",
       "      <th>SellingPrice</th>\n",
       "      <th>Discount</th>\n",
       "      <th>Tax</th>\n",
       "    </tr>\n",
       "  </thead>\n",
       "  <tbody>\n",
       "    <tr>\n",
       "      <th>0</th>\n",
       "      <td>Mango Mallika</td>\n",
       "      <td>Namdhari</td>\n",
       "      <td>Fruits And Vegetables</td>\n",
       "      <td>Mango Bazar</td>\n",
       "      <td>Mango Bazar</td>\n",
       "      <td>1.0</td>\n",
       "      <td>kg</td>\n",
       "      <td>99.0</td>\n",
       "      <td>99.0</td>\n",
       "      <td>0.0%</td>\n",
       "      <td>0.0</td>\n",
       "    </tr>\n",
       "    <tr>\n",
       "      <th>1</th>\n",
       "      <td>Palak Leaf</td>\n",
       "      <td>Namdhari</td>\n",
       "      <td>Fruits And Vegetables</td>\n",
       "      <td>Fresh Vegetables</td>\n",
       "      <td>Leafy Vegetables</td>\n",
       "      <td>250.0</td>\n",
       "      <td>gm</td>\n",
       "      <td>20.0</td>\n",
       "      <td>20.0</td>\n",
       "      <td>0.0%</td>\n",
       "      <td>0.0</td>\n",
       "    </tr>\n",
       "    <tr>\n",
       "      <th>2</th>\n",
       "      <td>Mango Sindhuran</td>\n",
       "      <td>Namdhari</td>\n",
       "      <td>Fruits And Vegetables</td>\n",
       "      <td>Mango Bazar</td>\n",
       "      <td>Mango Bazar</td>\n",
       "      <td>1.0</td>\n",
       "      <td>kg</td>\n",
       "      <td>50.0</td>\n",
       "      <td>50.0</td>\n",
       "      <td>0.0%</td>\n",
       "      <td>0.0</td>\n",
       "    </tr>\n",
       "    <tr>\n",
       "      <th>3</th>\n",
       "      <td>Mango Alphanso</td>\n",
       "      <td>Namdhari</td>\n",
       "      <td>Fruits And Vegetables</td>\n",
       "      <td>Mango Bazar</td>\n",
       "      <td>Mango Bazar</td>\n",
       "      <td>1.0</td>\n",
       "      <td>kg</td>\n",
       "      <td>99.0</td>\n",
       "      <td>99.0</td>\n",
       "      <td>0.0%</td>\n",
       "      <td>0.0</td>\n",
       "    </tr>\n",
       "    <tr>\n",
       "      <th>4</th>\n",
       "      <td>Tomatopremium -Salad</td>\n",
       "      <td>Namdhari</td>\n",
       "      <td>Fruits And Vegetables</td>\n",
       "      <td>Exotic Fruits &amp; Vegetables</td>\n",
       "      <td>Exotic Vegetables</td>\n",
       "      <td>1.0</td>\n",
       "      <td>kg</td>\n",
       "      <td>30.0</td>\n",
       "      <td>30.0</td>\n",
       "      <td>0.0%</td>\n",
       "      <td>0.0</td>\n",
       "    </tr>\n",
       "  </tbody>\n",
       "</table>\n",
       "</div>"
      ],
      "text/plain": [
       "                   Name     Brand               Category  \\\n",
       "0         Mango Mallika  Namdhari  Fruits And Vegetables   \n",
       "1            Palak Leaf  Namdhari  Fruits And Vegetables   \n",
       "2       Mango Sindhuran  Namdhari  Fruits And Vegetables   \n",
       "3        Mango Alphanso  Namdhari  Fruits And Vegetables   \n",
       "4  Tomatopremium -Salad  Namdhari  Fruits And Vegetables   \n",
       "\n",
       "                  SubCategory              Group   Size Unit  Price  \\\n",
       "0                 Mango Bazar        Mango Bazar    1.0   kg   99.0   \n",
       "1            Fresh Vegetables   Leafy Vegetables  250.0   gm   20.0   \n",
       "2                 Mango Bazar        Mango Bazar    1.0   kg   50.0   \n",
       "3                 Mango Bazar        Mango Bazar    1.0   kg   99.0   \n",
       "4  Exotic Fruits & Vegetables  Exotic Vegetables    1.0   kg   30.0   \n",
       "\n",
       "   SellingPrice Discount  Tax  \n",
       "0          99.0     0.0%  0.0  \n",
       "1          20.0     0.0%  0.0  \n",
       "2          50.0     0.0%  0.0  \n",
       "3          99.0     0.0%  0.0  \n",
       "4          30.0     0.0%  0.0  "
      ]
     },
     "metadata": {},
     "output_type": "display_data"
    },
    {
     "data": {
      "text/html": [
       "<div>\n",
       "<style scoped>\n",
       "    .dataframe tbody tr th:only-of-type {\n",
       "        vertical-align: middle;\n",
       "    }\n",
       "\n",
       "    .dataframe tbody tr th {\n",
       "        vertical-align: top;\n",
       "    }\n",
       "\n",
       "    .dataframe thead th {\n",
       "        text-align: right;\n",
       "    }\n",
       "</style>\n",
       "<table border=\"1\" class=\"dataframe\">\n",
       "  <thead>\n",
       "    <tr style=\"text-align: right;\">\n",
       "      <th></th>\n",
       "      <th>Name</th>\n",
       "      <th>Brand</th>\n",
       "      <th>Category</th>\n",
       "      <th>SubCategory</th>\n",
       "      <th>Group</th>\n",
       "      <th>Size</th>\n",
       "      <th>Unit</th>\n",
       "      <th>Price</th>\n",
       "      <th>SellingPrice</th>\n",
       "      <th>Discount</th>\n",
       "      <th>Tax</th>\n",
       "    </tr>\n",
       "  </thead>\n",
       "  <tbody>\n",
       "    <tr>\n",
       "      <th>2708</th>\n",
       "      <td>Lip Care Essential 4.8Gm</td>\n",
       "      <td>Nivea</td>\n",
       "      <td>Personal Care</td>\n",
       "      <td>Personal Hygiene</td>\n",
       "      <td>Make Up &amp; Nails</td>\n",
       "      <td>4.8</td>\n",
       "      <td>gm</td>\n",
       "      <td>140.0</td>\n",
       "      <td>140.0</td>\n",
       "      <td>0.0%</td>\n",
       "      <td>18.0</td>\n",
       "    </tr>\n",
       "    <tr>\n",
       "      <th>2709</th>\n",
       "      <td>Thulsi Honey Soap With Goat Milk 100 Gm</td>\n",
       "      <td>Essence Of Life</td>\n",
       "      <td>Personal Care</td>\n",
       "      <td>Liquid Soaps &amp; Bars</td>\n",
       "      <td>Bathing Soaps &amp; Liquid</td>\n",
       "      <td>100.0</td>\n",
       "      <td>gm</td>\n",
       "      <td>120.0</td>\n",
       "      <td>120.0</td>\n",
       "      <td>0.0%</td>\n",
       "      <td>18.0</td>\n",
       "    </tr>\n",
       "  </tbody>\n",
       "</table>\n",
       "</div>"
      ],
      "text/plain": [
       "                                         Name            Brand       Category  \\\n",
       "2708                 Lip Care Essential 4.8Gm            Nivea  Personal Care   \n",
       "2709  Thulsi Honey Soap With Goat Milk 100 Gm  Essence Of Life  Personal Care   \n",
       "\n",
       "              SubCategory                   Group   Size Unit  Price  \\\n",
       "2708     Personal Hygiene         Make Up & Nails    4.8   gm  140.0   \n",
       "2709  Liquid Soaps & Bars  Bathing Soaps & Liquid  100.0   gm  120.0   \n",
       "\n",
       "      SellingPrice Discount   Tax  \n",
       "2708         140.0     0.0%  18.0  \n",
       "2709         120.0     0.0%  18.0  "
      ]
     },
     "metadata": {},
     "output_type": "display_data"
    }
   ],
   "source": [
    "# Re-arrange columns meaningfully and save the clean dataframe to CSV file\n",
    "fmcg = fmcg[['Name', 'Brand', 'Category', 'SubCategory', 'Group', 'Size', 'Unit', 'Price', 'SellingPrice', 'Discount', 'Tax']]\n",
    "display(fmcg.head(5), fmcg.tail(2))"
   ]
  },
  {
   "cell_type": "code",
   "execution_count": null,
   "metadata": {},
   "outputs": [],
   "source": []
  },
  {
   "cell_type": "markdown",
   "metadata": {},
   "source": [
    "# Part (C) Data Integration"
   ]
  },
  {
   "cell_type": "code",
   "execution_count": 24,
   "metadata": {},
   "outputs": [],
   "source": [
    "# Note: These cleaning steps already performed were as part of integration cleaning with a common goal\n",
    "# 1. Column names\n",
    "# 2. Column dtypes\n",
    "# 3. New columns (Size, Unit and Discount)\n",
    "# 4. Unit reduced common values (kg, ml, etc.)\n",
    "\n",
    "# Below are more steps to have a common data/schema after going through all the 3 scraped data-sets\n",
    "# 1. Category reduction\n",
    "# 2. Column reduction\n",
    "# 3. Renaming/merging columns\n",
    "# 4. Recalulating columns"
   ]
  },
  {
   "cell_type": "code",
   "execution_count": 25,
   "metadata": {},
   "outputs": [
    {
     "data": {
      "text/plain": [
       "2291"
      ]
     },
     "execution_count": 25,
     "metadata": {},
     "output_type": "execute_result"
    }
   ],
   "source": [
    "# Merge brand into name to be consistent with other data-sets\n",
    "rowsChanged = 0\n",
    "for i in range(len(fmcg.Size)):\n",
    "    if(fmcg.Name[i].find(fmcg.Brand[i]) == -1):\n",
    "        rowsChanged += 1\n",
    "        fmcg.loc[i, 'Name'] = fmcg.Name[i] + ' - '  + fmcg.Brand[i]\n",
    "rowsChanged"
   ]
  },
  {
   "cell_type": "code",
   "execution_count": 26,
   "metadata": {},
   "outputs": [
    {
     "name": "stdout",
     "output_type": "stream",
     "text": [
      "Before Dropping Categories:\n",
      "['Fruits And Vegetables', 'Bread, Dairy & Frozen', 'Beverages', 'Deals', 'Branded Foods', 'Grocery & Staples', 'Gourmet & Imported', 'Household', 'Personal Care']\n",
      "\n",
      "After Dropping Categories:\n",
      "['Beverages', 'Branded Foods', 'Grocery & Staples']\n"
     ]
    }
   ],
   "source": [
    "# Reduce categories for EDA and recommendation with a limited set before merging\n",
    "print('Before Dropping Categories:')\n",
    "print(list(fmcg.Category.unique()))\n",
    "print()\n",
    "fmcg.drop(fmcg[~fmcg.Category.isin(['Grocery & Staples','Branded Foods','Beverages',])].index, inplace=True)\n",
    "print('After Dropping Categories:')\n",
    "print(list(fmcg.Category.unique()))"
   ]
  },
  {
   "cell_type": "code",
   "execution_count": 27,
   "metadata": {},
   "outputs": [
    {
     "data": {
      "text/html": [
       "<div>\n",
       "<style scoped>\n",
       "    .dataframe tbody tr th:only-of-type {\n",
       "        vertical-align: middle;\n",
       "    }\n",
       "\n",
       "    .dataframe tbody tr th {\n",
       "        vertical-align: top;\n",
       "    }\n",
       "\n",
       "    .dataframe thead th {\n",
       "        text-align: right;\n",
       "    }\n",
       "</style>\n",
       "<table border=\"1\" class=\"dataframe\">\n",
       "  <thead>\n",
       "    <tr style=\"text-align: right;\">\n",
       "      <th></th>\n",
       "      <th>Name</th>\n",
       "      <th>Brand</th>\n",
       "      <th>Category</th>\n",
       "      <th>Size</th>\n",
       "      <th>Unit</th>\n",
       "      <th>Price</th>\n",
       "      <th>SellingPrice</th>\n",
       "      <th>Discount</th>\n",
       "    </tr>\n",
       "  </thead>\n",
       "  <tbody>\n",
       "    <tr>\n",
       "      <th>1927</th>\n",
       "      <td>Nf Organic Maize Flour 500G - Namdhari</td>\n",
       "      <td>simplinamdharis</td>\n",
       "      <td>Grocery &amp; Staples</td>\n",
       "      <td>500.0</td>\n",
       "      <td>gm</td>\n",
       "      <td>0.0</td>\n",
       "      <td>0.0</td>\n",
       "      <td>NaN</td>\n",
       "    </tr>\n",
       "  </tbody>\n",
       "</table>\n",
       "</div>"
      ],
      "text/plain": [
       "                                        Name            Brand  \\\n",
       "1927  Nf Organic Maize Flour 500G - Namdhari  simplinamdharis   \n",
       "\n",
       "               Category   Size Unit  Price  SellingPrice  Discount  \n",
       "1927  Grocery & Staples  500.0   gm    0.0           0.0       NaN  "
      ]
     },
     "metadata": {},
     "output_type": "display_data"
    },
    {
     "data": {
      "text/plain": [
       "(1763, 8)"
      ]
     },
     "execution_count": 27,
     "metadata": {},
     "output_type": "execute_result"
    }
   ],
   "source": [
    "# Re-tag the Brand column to represent the store name\n",
    "fmcg.Brand = 'simplinamdharis'\n",
    "# Drop the additional columns before merge\n",
    "fmcg.drop(['SubCategory', 'Group', 'Tax'], inplace=True, axis=1)\n",
    "# Recalculate and use discount as float\n",
    "fmcg.drop(['Discount'], inplace=True, axis=1)\n",
    "fmcg['Discount'] = ((fmcg.Price-fmcg.SellingPrice)*100/fmcg.Price).astype(float).round(2)\n",
    "# There is one row with 0 prices, check and remove from the data-set\n",
    "display(fmcg[fmcg.Discount.isnull()])\n",
    "fmcg.drop(fmcg[fmcg.Discount.isnull()].index, inplace=True)\n",
    "print(fmcg.shape)\n",
    "\n",
    "# Final CSV to merge\n",
    "fmcg.to_csv('simpli_merge.csv', header=True, index=False)"
   ]
  },
  {
   "cell_type": "code",
   "execution_count": null,
   "metadata": {},
   "outputs": [],
   "source": []
  },
  {
   "cell_type": "markdown",
   "metadata": {},
   "source": [
    "# Part (D) EDA And Recommendation"
   ]
  },
  {
   "cell_type": "code",
   "execution_count": 1,
   "metadata": {},
   "outputs": [],
   "source": [
    "import pandas as pd\n",
    "import numpy as np\n",
    "import re\n",
    "import matplotlib.pyplot as plt                   # For data visualization various plots\n",
    "import seaborn as sns                             # For data visualization "
   ]
  },
  {
   "cell_type": "code",
   "execution_count": 2,
   "metadata": {},
   "outputs": [
    {
     "data": {
      "text/html": [
       "<div>\n",
       "<style scoped>\n",
       "    .dataframe tbody tr th:only-of-type {\n",
       "        vertical-align: middle;\n",
       "    }\n",
       "\n",
       "    .dataframe tbody tr th {\n",
       "        vertical-align: top;\n",
       "    }\n",
       "\n",
       "    .dataframe thead th {\n",
       "        text-align: right;\n",
       "    }\n",
       "</style>\n",
       "<table border=\"1\" class=\"dataframe\">\n",
       "  <thead>\n",
       "    <tr style=\"text-align: right;\">\n",
       "      <th></th>\n",
       "      <th>Name</th>\n",
       "      <th>Brand</th>\n",
       "      <th>Category</th>\n",
       "      <th>Size</th>\n",
       "      <th>Unit</th>\n",
       "      <th>Price</th>\n",
       "      <th>SellingPrice</th>\n",
       "      <th>Discount</th>\n",
       "    </tr>\n",
       "  </thead>\n",
       "  <tbody>\n",
       "    <tr>\n",
       "      <th>0</th>\n",
       "      <td>Kinley 500Ml - Coke</td>\n",
       "      <td>simplinamdharis</td>\n",
       "      <td>Beverages</td>\n",
       "      <td>500.0</td>\n",
       "      <td>ml</td>\n",
       "      <td>10.0</td>\n",
       "      <td>10.0</td>\n",
       "      <td>0.0</td>\n",
       "    </tr>\n",
       "    <tr>\n",
       "      <th>1</th>\n",
       "      <td>Kinley 1Ltr - Coke</td>\n",
       "      <td>simplinamdharis</td>\n",
       "      <td>Beverages</td>\n",
       "      <td>1.0</td>\n",
       "      <td>ltr</td>\n",
       "      <td>20.0</td>\n",
       "      <td>20.0</td>\n",
       "      <td>0.0</td>\n",
       "    </tr>\n",
       "  </tbody>\n",
       "</table>\n",
       "</div>"
      ],
      "text/plain": [
       "                  Name            Brand   Category   Size Unit  Price  \\\n",
       "0  Kinley 500Ml - Coke  simplinamdharis  Beverages  500.0   ml   10.0   \n",
       "1   Kinley 1Ltr - Coke  simplinamdharis  Beverages    1.0  ltr   20.0   \n",
       "\n",
       "   SellingPrice  Discount  \n",
       "0          10.0       0.0  \n",
       "1          20.0       0.0  "
      ]
     },
     "metadata": {},
     "output_type": "display_data"
    },
    {
     "data": {
      "text/html": [
       "<div>\n",
       "<style scoped>\n",
       "    .dataframe tbody tr th:only-of-type {\n",
       "        vertical-align: middle;\n",
       "    }\n",
       "\n",
       "    .dataframe tbody tr th {\n",
       "        vertical-align: top;\n",
       "    }\n",
       "\n",
       "    .dataframe thead th {\n",
       "        text-align: right;\n",
       "    }\n",
       "</style>\n",
       "<table border=\"1\" class=\"dataframe\">\n",
       "  <thead>\n",
       "    <tr style=\"text-align: right;\">\n",
       "      <th></th>\n",
       "      <th>Name</th>\n",
       "      <th>Brand</th>\n",
       "      <th>Category</th>\n",
       "      <th>Size</th>\n",
       "      <th>Unit</th>\n",
       "      <th>Price</th>\n",
       "      <th>SellingPrice</th>\n",
       "      <th>Discount</th>\n",
       "    </tr>\n",
       "  </thead>\n",
       "  <tbody>\n",
       "    <tr>\n",
       "      <th>0</th>\n",
       "      <td>Sunreap Maida 500g</td>\n",
       "      <td>Spencers</td>\n",
       "      <td>Grocery &amp; Staples</td>\n",
       "      <td>500.0</td>\n",
       "      <td>gm</td>\n",
       "      <td>24.0</td>\n",
       "      <td>24.0</td>\n",
       "      <td>0.00</td>\n",
       "    </tr>\n",
       "    <tr>\n",
       "      <th>1</th>\n",
       "      <td>Sunreap Maida 1kg</td>\n",
       "      <td>Spencers</td>\n",
       "      <td>Grocery &amp; Staples</td>\n",
       "      <td>1.0</td>\n",
       "      <td>kg</td>\n",
       "      <td>47.0</td>\n",
       "      <td>45.0</td>\n",
       "      <td>4.26</td>\n",
       "    </tr>\n",
       "  </tbody>\n",
       "</table>\n",
       "</div>"
      ],
      "text/plain": [
       "                 Name     Brand           Category   Size Unit  Price  \\\n",
       "0  Sunreap Maida 500g  Spencers  Grocery & Staples  500.0   gm   24.0   \n",
       "1   Sunreap Maida 1kg  Spencers  Grocery & Staples    1.0   kg   47.0   \n",
       "\n",
       "   SellingPrice  Discount  \n",
       "0          24.0      0.00  \n",
       "1          45.0      4.26  "
      ]
     },
     "metadata": {},
     "output_type": "display_data"
    },
    {
     "data": {
      "text/html": [
       "<div>\n",
       "<style scoped>\n",
       "    .dataframe tbody tr th:only-of-type {\n",
       "        vertical-align: middle;\n",
       "    }\n",
       "\n",
       "    .dataframe tbody tr th {\n",
       "        vertical-align: top;\n",
       "    }\n",
       "\n",
       "    .dataframe thead th {\n",
       "        text-align: right;\n",
       "    }\n",
       "</style>\n",
       "<table border=\"1\" class=\"dataframe\">\n",
       "  <thead>\n",
       "    <tr style=\"text-align: right;\">\n",
       "      <th></th>\n",
       "      <th>Unnamed: 0</th>\n",
       "      <th>Name</th>\n",
       "      <th>Brand</th>\n",
       "      <th>Category</th>\n",
       "      <th>Size</th>\n",
       "      <th>Unit</th>\n",
       "      <th>Price</th>\n",
       "      <th>SellingPrice</th>\n",
       "      <th>Discount</th>\n",
       "    </tr>\n",
       "  </thead>\n",
       "  <tbody>\n",
       "    <tr>\n",
       "      <th>0</th>\n",
       "      <td>0</td>\n",
       "      <td>Chakki Atta Aashirvaad 10 Kg</td>\n",
       "      <td>storese</td>\n",
       "      <td>Grocery &amp; Staples</td>\n",
       "      <td>10.0</td>\n",
       "      <td>kg</td>\n",
       "      <td>480.0</td>\n",
       "      <td>450.0</td>\n",
       "      <td>6.25</td>\n",
       "    </tr>\n",
       "    <tr>\n",
       "      <th>1</th>\n",
       "      <td>1</td>\n",
       "      <td>Atta Multi grain Aashirvaad 5 Kg</td>\n",
       "      <td>storese</td>\n",
       "      <td>Grocery &amp; Staples</td>\n",
       "      <td>5.0</td>\n",
       "      <td>kg</td>\n",
       "      <td>310.0</td>\n",
       "      <td>295.0</td>\n",
       "      <td>4.84</td>\n",
       "    </tr>\n",
       "  </tbody>\n",
       "</table>\n",
       "</div>"
      ],
      "text/plain": [
       "   Unnamed: 0                              Name    Brand           Category  \\\n",
       "0           0      Chakki Atta Aashirvaad 10 Kg  storese  Grocery & Staples   \n",
       "1           1  Atta Multi grain Aashirvaad 5 Kg  storese  Grocery & Staples   \n",
       "\n",
       "   Size Unit  Price  SellingPrice  Discount  \n",
       "0  10.0   kg  480.0         450.0      6.25  \n",
       "1   5.0   kg  310.0         295.0      4.84  "
      ]
     },
     "metadata": {},
     "output_type": "display_data"
    }
   ],
   "source": [
    "df1=pd.read_csv('simpli_merge.csv')\n",
    "df2=pd.read_csv('spencors_clean.csv')\n",
    "df3=pd.read_csv('storese_data_clean.csv')\n",
    "display(df1.head(2), df2.head(2), df3.head(2))"
   ]
  },
  {
   "cell_type": "code",
   "execution_count": 3,
   "metadata": {},
   "outputs": [
    {
     "data": {
      "text/plain": [
       "(0,\n",
       " Name            0\n",
       " Brand           0\n",
       " Category        0\n",
       " Size            0\n",
       " Unit            0\n",
       " Price           0\n",
       " SellingPrice    0\n",
       " Discount        0\n",
       " dtype: int64)"
      ]
     },
     "execution_count": 3,
     "metadata": {},
     "output_type": "execute_result"
    }
   ],
   "source": [
    "# Handle Unnamed Column\n",
    "df3 = df3.loc[:, ~df3.columns.str.contains('^Unnamed')]\n",
    "# Concat all the datasets prior to EDA\n",
    "df4 = pd.concat([df1, df2, df3],ignore_index=True,sort=False)\n",
    "# Check null values/duplicates if any\n",
    "df4.duplicated().sum(), df4.isnull().sum()"
   ]
  },
  {
   "cell_type": "code",
   "execution_count": 4,
   "metadata": {},
   "outputs": [
    {
     "data": {
      "text/plain": [
       "(array(['Beverages', 'Branded Foods', 'Grocery & Staples'], dtype=object),\n",
       " array(['simplinamdharis', 'Spencers', 'storese'], dtype=object),\n",
       " array(['ml', 'ltr', 'gm', 'unit(s)', 'kg', 'unit'], dtype=object))"
      ]
     },
     "execution_count": 4,
     "metadata": {},
     "output_type": "execute_result"
    }
   ],
   "source": [
    "# Ensure all data is integrated correctly\n",
    "df4.Category.unique(), df4.Brand.unique(), df4.Unit.unique()"
   ]
  },
  {
   "cell_type": "code",
   "execution_count": 5,
   "metadata": {},
   "outputs": [
    {
     "data": {
      "text/html": [
       "<div>\n",
       "<style scoped>\n",
       "    .dataframe tbody tr th:only-of-type {\n",
       "        vertical-align: middle;\n",
       "    }\n",
       "\n",
       "    .dataframe tbody tr th {\n",
       "        vertical-align: top;\n",
       "    }\n",
       "\n",
       "    .dataframe thead th {\n",
       "        text-align: right;\n",
       "    }\n",
       "</style>\n",
       "<table border=\"1\" class=\"dataframe\">\n",
       "  <thead>\n",
       "    <tr style=\"text-align: right;\">\n",
       "      <th></th>\n",
       "      <th>Size</th>\n",
       "      <th>Price</th>\n",
       "      <th>SellingPrice</th>\n",
       "      <th>Discount</th>\n",
       "    </tr>\n",
       "  </thead>\n",
       "  <tbody>\n",
       "    <tr>\n",
       "      <th>count</th>\n",
       "      <td>3436.000000</td>\n",
       "      <td>3436.000000</td>\n",
       "      <td>3436.000000</td>\n",
       "      <td>3436.000000</td>\n",
       "    </tr>\n",
       "    <tr>\n",
       "      <th>mean</th>\n",
       "      <td>207.901781</td>\n",
       "      <td>166.527061</td>\n",
       "      <td>152.214983</td>\n",
       "      <td>4.144697</td>\n",
       "    </tr>\n",
       "    <tr>\n",
       "      <th>std</th>\n",
       "      <td>198.161660</td>\n",
       "      <td>262.493042</td>\n",
       "      <td>189.270075</td>\n",
       "      <td>8.199065</td>\n",
       "    </tr>\n",
       "    <tr>\n",
       "      <th>min</th>\n",
       "      <td>1.000000</td>\n",
       "      <td>5.000000</td>\n",
       "      <td>5.000000</td>\n",
       "      <td>0.000000</td>\n",
       "    </tr>\n",
       "    <tr>\n",
       "      <th>25%</th>\n",
       "      <td>50.000000</td>\n",
       "      <td>50.000000</td>\n",
       "      <td>50.000000</td>\n",
       "      <td>0.000000</td>\n",
       "    </tr>\n",
       "    <tr>\n",
       "      <th>50%</th>\n",
       "      <td>150.000000</td>\n",
       "      <td>99.000000</td>\n",
       "      <td>95.000000</td>\n",
       "      <td>0.000000</td>\n",
       "    </tr>\n",
       "    <tr>\n",
       "      <th>75%</th>\n",
       "      <td>300.000000</td>\n",
       "      <td>190.000000</td>\n",
       "      <td>180.000000</td>\n",
       "      <td>5.220000</td>\n",
       "    </tr>\n",
       "    <tr>\n",
       "      <th>max</th>\n",
       "      <td>1800.000000</td>\n",
       "      <td>5695.000000</td>\n",
       "      <td>3299.000000</td>\n",
       "      <td>75.030000</td>\n",
       "    </tr>\n",
       "  </tbody>\n",
       "</table>\n",
       "</div>"
      ],
      "text/plain": [
       "              Size        Price  SellingPrice     Discount\n",
       "count  3436.000000  3436.000000   3436.000000  3436.000000\n",
       "mean    207.901781   166.527061    152.214983     4.144697\n",
       "std     198.161660   262.493042    189.270075     8.199065\n",
       "min       1.000000     5.000000      5.000000     0.000000\n",
       "25%      50.000000    50.000000     50.000000     0.000000\n",
       "50%     150.000000    99.000000     95.000000     0.000000\n",
       "75%     300.000000   190.000000    180.000000     5.220000\n",
       "max    1800.000000  5695.000000   3299.000000    75.030000"
      ]
     },
     "execution_count": 5,
     "metadata": {},
     "output_type": "execute_result"
    }
   ],
   "source": [
    "#decribe how the given data looks like\n",
    "dataset = df4.copy(deep=True) #Keeping one copy \n",
    "df4.describe()"
   ]
  },
  {
   "cell_type": "markdown",
   "metadata": {},
   "source": [
    "### Some basic EDA"
   ]
  },
  {
   "cell_type": "code",
   "execution_count": 6,
   "metadata": {},
   "outputs": [
    {
     "data": {
      "image/png": "[encoded data removed]",
      "text/plain": [
       "<Figure size 720x720 with 20 Axes>"
      ]
     },
     "metadata": {
      "needs_background": "light"
     },
     "output_type": "display_data"
    }
   ],
   "source": [
    "# Check how the data is scattered\n",
    "sns.pairplot(df4)\n",
    "plt.show()"
   ]
  },
  {
   "cell_type": "code",
   "execution_count": 7,
   "metadata": {},
   "outputs": [
    {
     "data": {
      "image/png": "[encoded data removed]",
      "text/plain": [
       "<Figure size 432x288 with 2 Axes>"
      ]
     },
     "metadata": {
      "needs_background": "light"
     },
     "output_type": "display_data"
    }
   ],
   "source": [
    "# Check the correlations\n",
    "sns.heatmap(df4.corr(), cmap='Reds', annot=True)\n",
    "plt.show()"
   ]
  },
  {
   "cell_type": "code",
   "execution_count": 8,
   "metadata": {},
   "outputs": [
    {
     "data": {
      "image/png": "[encoded data removed]",
      "text/plain": [
       "<Figure size 432x288 with 1 Axes>"
      ]
     },
     "metadata": {},
     "output_type": "display_data"
    }
   ],
   "source": [
    "# Category-wise data mean price distribution\n",
    "x = df4.groupby(['Category']).Price.mean().values\n",
    "plt.pie(x, labels = df4.Category.unique(), explode=[0.05 for i in range(len(x))], radius=2, shadow=True, autopct='%2.2f',)\n",
    "plt.show()"
   ]
  },
  {
   "cell_type": "code",
   "execution_count": 9,
   "metadata": {},
   "outputs": [
    {
     "data": {
      "image/png": "[encoded data removed]",
      "text/plain": [
       "<Figure size 432x288 with 1 Axes>"
      ]
     },
     "metadata": {
      "needs_background": "light"
     },
     "output_type": "display_data"
    }
   ],
   "source": [
    "sns.barplot(x, y = df4.Category.unique())\n",
    "plt.show()"
   ]
  },
  {
   "cell_type": "code",
   "execution_count": 10,
   "metadata": {},
   "outputs": [
    {
     "data": {
      "image/png": "[encoded data removed]",
      "text/plain": [
       "<Figure size 432x288 with 1 Axes>"
      ]
     },
     "metadata": {
      "needs_background": "light"
     },
     "output_type": "display_data"
    }
   ],
   "source": [
    "plt.hist(df4.Brand)\n",
    "plt.show()"
   ]
  },
  {
   "cell_type": "code",
   "execution_count": 11,
   "metadata": {},
   "outputs": [
    {
     "data": {
      "image/png": "[encoded data removed]",
      "text/plain": [
       "<Figure size 1152x1296 with 9 Axes>"
      ]
     },
     "metadata": {
      "needs_background": "light"
     },
     "output_type": "display_data"
    }
   ],
   "source": [
    "# Below grid shows the discount distribution across categories for each store\n",
    "plt.figure(figsize=[16,18])\n",
    "\n",
    "plt.subplot(3,3,1)\n",
    "df_grocery = df4[(df4.Category == 'Beverages') & (df4.Brand=='storese') & (df4.Discount > 0)]\n",
    "df_grocery.groupby('Discount').Name.count()\n",
    "plt.hist(df_grocery.groupby('Discount').Name.count())\n",
    "plt.xlabel('Discount')\n",
    "plt.ylabel('Number of Products')\n",
    "plt.title('Storese Beverages Discount Distribution')\n",
    "\n",
    "plt.subplot(3,3,2)\n",
    "df_grocery = df4[(df4.Category == 'Beverages') & (df4.Brand=='Spencers') & (df4.Discount > 0)]\n",
    "df_grocery.groupby('Discount').Name.count()\n",
    "plt.hist(df_grocery.groupby('Discount').Name.count())\n",
    "plt.xlabel('Discount')\n",
    "plt.ylabel('Number of Products')\n",
    "plt.title('Spencers Beverages Discount Distribution')\n",
    "\n",
    "plt.subplot(3,3,3)\n",
    "df_grocery = df4[(df4.Category == 'Beverages') & (df4.Brand=='simplinamdharis') & (df4.Discount > 0)]\n",
    "df_grocery.groupby('Discount').Name.count()\n",
    "plt.hist(df_grocery.groupby('Discount').Name.count())\n",
    "plt.xlabel('Discount')\n",
    "plt.ylabel('Number of Products')\n",
    "plt.title('Simplinamdharis Beverages Discount Distribution')\n",
    "\n",
    "plt.subplot(3,3,4)\n",
    "df_grocery = df4[(df4.Category == 'Branded Foods') & (df4.Brand=='storese') & (df4.Discount > 0)]\n",
    "df_grocery.groupby('Discount').Name.count()\n",
    "plt.hist(df_grocery.groupby('Discount').Name.count())\n",
    "plt.xlabel('Discount')\n",
    "plt.ylabel('Number of Products')\n",
    "plt.title('Storese Branded Foods Discount Distribution')\n",
    "\n",
    "plt.subplot(3,3,5)\n",
    "df_grocery = df4[(df4.Category == 'Branded Foods') & (df4.Brand=='Spencers') & (df4.Discount > 0)]\n",
    "df_grocery.groupby('Discount').Name.count()\n",
    "plt.hist(df_grocery.groupby('Discount').Name.count())\n",
    "plt.xlabel('Discount')\n",
    "plt.ylabel('Number of Products')\n",
    "plt.title('Spencers Branded Foods Discount Distribution')\n",
    "\n",
    "plt.subplot(3,3,6)\n",
    "df_grocery = df4[(df4.Category == 'Branded Foods') & (df4.Brand=='simplinamdharis') & (df4.Discount > 0)]\n",
    "df_grocery.groupby('Discount').Name.count()\n",
    "plt.hist(df_grocery.groupby('Discount').Name.count())\n",
    "plt.xlabel('Discount')\n",
    "plt.ylabel('Number of Products')\n",
    "plt.title('Simplinamdharis Branded Foods Discount Distribution')\n",
    "\n",
    "plt.subplot(3,3,7)\n",
    "df_grocery = df4[(df4.Category == 'Grocery & Staples') & (df4.Brand=='storese') & (df4.Discount > 0)]\n",
    "df_grocery.groupby('Discount').Name.count()\n",
    "plt.hist(df_grocery.groupby('Discount').Name.count())\n",
    "plt.xlabel('Discount')\n",
    "plt.ylabel('Number of Products')\n",
    "plt.title('Storese Grocery & Staples Discount Distribution')\n",
    "\n",
    "plt.subplot(3,3,8)\n",
    "df_grocery = df4[(df4.Category == 'Grocery & Staples') & (df4.Brand=='Spencers') & (df4.Discount > 0)]\n",
    "df_grocery.groupby('Discount').Name.count()\n",
    "plt.hist(df_grocery.groupby('Discount').Name.count())\n",
    "plt.xlabel('Discount')\n",
    "plt.ylabel('Number of Products')\n",
    "plt.title('Spencers Grocery & Staples Discount Distribution')\n",
    "\n",
    "plt.subplot(3,3,9)\n",
    "df_grocery = df4[(df4.Category == 'Grocery & Staples') & (df4.Brand=='simplinamdharis') & (df4.Discount > 0)]\n",
    "df_grocery.groupby('Discount').Name.count()\n",
    "plt.hist(df_grocery.groupby('Discount').Name.count())\n",
    "plt.xlabel('Discount')\n",
    "plt.ylabel('Number of Products')\n",
    "plt.title('Simplinamdharis Grocery & Staples Discount Distribution')\n",
    "plt.show()"
   ]
  },
  {
   "cell_type": "markdown",
   "metadata": {},
   "source": [
    "# 1. Show the number of products per category from all 3 stores ?"
   ]
  },
  {
   "cell_type": "code",
   "execution_count": 12,
   "metadata": {},
   "outputs": [
    {
     "data": {
      "text/plain": [
       "Brand            Category         \n",
       "Spencers         Branded Foods        416\n",
       "                 Grocery & Staples    336\n",
       "                 Beverages            226\n",
       "simplinamdharis  Branded Foods        943\n",
       "                 Grocery & Staples    606\n",
       "                 Beverages            214\n",
       "storese          Grocery & Staples    460\n",
       "                 Branded Foods        132\n",
       "                 Beverages            103\n",
       "Name: Category, dtype: int64"
      ]
     },
     "execution_count": 12,
     "metadata": {},
     "output_type": "execute_result"
    }
   ],
   "source": [
    "#Number of items each store has based on Category\n",
    "#Group By Brand and then Category and count the total categroies for each brand\n",
    "df4.groupby(['Brand']).Category.value_counts() #sum function"
   ]
  },
  {
   "cell_type": "code",
   "execution_count": 13,
   "metadata": {},
   "outputs": [
    {
     "data": {
      "image/png": "[encoded data removed]",
      "text/plain": [
       "<Figure size 432x288 with 1 Axes>"
      ]
     },
     "metadata": {
      "needs_background": "light"
     },
     "output_type": "display_data"
    }
   ],
   "source": [
    "ax = sns.countplot(y=\"Brand\", hue=\"Category\", data=df4)"
   ]
  },
  {
   "cell_type": "code",
   "execution_count": 14,
   "metadata": {},
   "outputs": [
    {
     "data": {
      "text/html": [
       "<div>\n",
       "<style scoped>\n",
       "    .dataframe tbody tr th:only-of-type {\n",
       "        vertical-align: middle;\n",
       "    }\n",
       "\n",
       "    .dataframe tbody tr th {\n",
       "        vertical-align: top;\n",
       "    }\n",
       "\n",
       "    .dataframe thead th {\n",
       "        text-align: right;\n",
       "    }\n",
       "</style>\n",
       "<table border=\"1\" class=\"dataframe\">\n",
       "  <thead>\n",
       "    <tr style=\"text-align: right;\">\n",
       "      <th>Category</th>\n",
       "      <th>Beverages</th>\n",
       "      <th>Branded Foods</th>\n",
       "      <th>Grocery &amp; Staples</th>\n",
       "      <th>Total</th>\n",
       "    </tr>\n",
       "    <tr>\n",
       "      <th>Brand</th>\n",
       "      <th></th>\n",
       "      <th></th>\n",
       "      <th></th>\n",
       "      <th></th>\n",
       "    </tr>\n",
       "  </thead>\n",
       "  <tbody>\n",
       "    <tr>\n",
       "      <th>Spencers</th>\n",
       "      <td>226</td>\n",
       "      <td>416</td>\n",
       "      <td>336</td>\n",
       "      <td>978</td>\n",
       "    </tr>\n",
       "    <tr>\n",
       "      <th>simplinamdharis</th>\n",
       "      <td>214</td>\n",
       "      <td>943</td>\n",
       "      <td>606</td>\n",
       "      <td>1763</td>\n",
       "    </tr>\n",
       "    <tr>\n",
       "      <th>storese</th>\n",
       "      <td>103</td>\n",
       "      <td>132</td>\n",
       "      <td>460</td>\n",
       "      <td>695</td>\n",
       "    </tr>\n",
       "    <tr>\n",
       "      <th>Total</th>\n",
       "      <td>543</td>\n",
       "      <td>1491</td>\n",
       "      <td>1402</td>\n",
       "      <td>3436</td>\n",
       "    </tr>\n",
       "  </tbody>\n",
       "</table>\n",
       "</div>"
      ],
      "text/plain": [
       "Category         Beverages  Branded Foods  Grocery & Staples  Total\n",
       "Brand                                                              \n",
       "Spencers               226            416                336    978\n",
       "simplinamdharis        214            943                606   1763\n",
       "storese                103            132                460    695\n",
       "Total                  543           1491               1402   3436"
      ]
     },
     "execution_count": 14,
     "metadata": {},
     "output_type": "execute_result"
    }
   ],
   "source": [
    "# As can be seen, Namdharis has the higest collection of products followed by Spencors and Storese\n",
    "pd.crosstab(df4.Brand, df4.Category, margins=True, margins_name=\"Total\")"
   ]
  },
  {
   "cell_type": "markdown",
   "metadata": {},
   "source": [
    "# 2. How the Discount is distributed for different categories among all stores ?"
   ]
  },
  {
   "cell_type": "code",
   "execution_count": 15,
   "metadata": {},
   "outputs": [
    {
     "data": {
      "text/plain": [
       "<seaborn.axisgrid.FacetGrid at 0x21fe81ab288>"
      ]
     },
     "execution_count": 15,
     "metadata": {},
     "output_type": "execute_result"
    },
    {
     "data": {
      "image/png": "[encoded data removed]",
      "text/plain": [
       "<Figure size 489.1x360 with 1 Axes>"
      ]
     },
     "metadata": {},
     "output_type": "display_data"
    }
   ],
   "source": [
    "sns.set(style=\"whitegrid\")\n",
    "# Discount split between brands and categories\n",
    "g = sns.catplot(x=\"Brand\", y=\"Discount\", hue=\"Category\", data=df4, kind=\"bar\", palette=\"muted\")\n",
    "g.despine(left=True)\n",
    "g.set_ylabels(\"Discount\")"
   ]
  },
  {
   "cell_type": "code",
   "execution_count": 16,
   "metadata": {},
   "outputs": [
    {
     "data": {
      "image/png": "[encoded data removed]",
      "text/plain": [
       "<Figure size 479.35x360 with 1 Axes>"
      ]
     },
     "metadata": {},
     "output_type": "display_data"
    }
   ],
   "source": [
    "sns.catplot(x=\"Category\", y=\"Discount\", hue=\"Brand\", data=df4);"
   ]
  },
  {
   "cell_type": "markdown",
   "metadata": {},
   "source": [
    "Inference : Discount with Grocery & Staples Category is usually more than Branded Food & Beverages among all 3 stores."
   ]
  },
  {
   "cell_type": "markdown",
   "metadata": {},
   "source": [
    "# 3. Which Store is offering maximum discount for which category of food item ?"
   ]
  },
  {
   "cell_type": "code",
   "execution_count": 17,
   "metadata": {},
   "outputs": [
    {
     "data": {
      "image/png": "[encoded data removed]",
      "text/plain": [
       "<Figure size 479.35x360 with 1 Axes>"
      ]
     },
     "metadata": {},
     "output_type": "display_data"
    }
   ],
   "source": [
    "sns.catplot(x=\"Category\", y=\"Discount\", hue=\"Brand\", kind=\"box\", data=df4);"
   ]
  },
  {
   "cell_type": "code",
   "execution_count": 18,
   "metadata": {},
   "outputs": [
    {
     "data": {
      "image/png": "[encoded data removed]",
      "text/plain": [
       "<Figure size 479.35x360 with 1 Axes>"
      ]
     },
     "metadata": {},
     "output_type": "display_data"
    }
   ],
   "source": [
    "sns.catplot(x=\"Category\", y=\"Discount\", hue=\"Brand\", kind=\"boxen\",\n",
    "            data=df4.sort_values(\"Discount\"));"
   ]
  },
  {
   "cell_type": "markdown",
   "metadata": {},
   "source": [
    "Inference: Spencor store with Grocery & Staples as category is offering maximum discount"
   ]
  },
  {
   "cell_type": "code",
   "execution_count": 19,
   "metadata": {},
   "outputs": [
    {
     "data": {
      "image/png": "[encoded data removed]",
      "text/plain": [
       "<Figure size 479.35x360 with 1 Axes>"
      ]
     },
     "metadata": {},
     "output_type": "display_data"
    }
   ],
   "source": [
    "sns.catplot(x=\"Category\", y=\"SellingPrice\", hue=\"Brand\",\n",
    "            kind=\"violin\", data=df4);"
   ]
  },
  {
   "cell_type": "markdown",
   "metadata": {},
   "source": [
    "The above graph combines a boxplot with the kernel density estimation procedure."
   ]
  },
  {
   "cell_type": "code",
   "execution_count": 20,
   "metadata": {},
   "outputs": [
    {
     "data": {
      "image/png": "[encoded data removed]",
      "text/plain": [
       "<Figure size 479.35x360 with 1 Axes>"
      ]
     },
     "metadata": {},
     "output_type": "display_data"
    }
   ],
   "source": [
    "sns.catplot(x=\"Category\", y=\"SellingPrice\", hue=\"Brand\",\n",
    "            kind=\"violin\", bw=.15, cut=0,\n",
    "            data=df4);"
   ]
  },
  {
   "cell_type": "markdown",
   "metadata": {},
   "source": [
    "This approach uses the kernel density estimate to provide a richer description of the distribution of values. Additionally, the quartile and whisker values from the boxplot are shown inside the violin"
   ]
  },
  {
   "cell_type": "markdown",
   "metadata": {},
   "source": [
    "It’s also possible to “split” the violins when the hue parameter has only two levels, which can allow for a more efficient use of space:"
   ]
  },
  {
   "cell_type": "markdown",
   "metadata": {},
   "source": [
    "# 4. Visualize the general variation between discounts at all 3 stores based on categories they sell."
   ]
  },
  {
   "cell_type": "code",
   "execution_count": 21,
   "metadata": {},
   "outputs": [
    {
     "data": {
      "image/png": "[encoded data removed]",
      "text/plain": [
       "<Figure size 479.35x360 with 1 Axes>"
      ]
     },
     "metadata": {},
     "output_type": "display_data"
    }
   ],
   "source": [
    "sns.catplot(x=\"Category\", y=\"Discount\", hue=\"Brand\", kind=\"point\", data=df4);"
   ]
  },
  {
   "cell_type": "markdown",
   "metadata": {},
   "source": [
    "Pointplot() connects points from the same hue category. This makes it easy to see how the main relationship is changing as a function of the hue semantic, because our eyes are quite good at picking up on differences of slopes:"
   ]
  },
  {
   "cell_type": "markdown",
   "metadata": {},
   "source": [
    "While the categorical functions lack the style semantic of the relational functions, it can still be a good idea to vary the marker and/or linestyle along with the hue to make figures that are maximally accessible and reproduce well in black and white:"
   ]
  },
  {
   "cell_type": "markdown",
   "metadata": {},
   "source": [
    "# 5. What are the maximum discounts based on different categories and store?"
   ]
  },
  {
   "cell_type": "code",
   "execution_count": 22,
   "metadata": {},
   "outputs": [
    {
     "data": {
      "text/html": [
       "<div>\n",
       "<style scoped>\n",
       "    .dataframe tbody tr th:only-of-type {\n",
       "        vertical-align: middle;\n",
       "    }\n",
       "\n",
       "    .dataframe tbody tr th {\n",
       "        vertical-align: top;\n",
       "    }\n",
       "\n",
       "    .dataframe thead th {\n",
       "        text-align: right;\n",
       "    }\n",
       "</style>\n",
       "<table border=\"1\" class=\"dataframe\">\n",
       "  <thead>\n",
       "    <tr style=\"text-align: right;\">\n",
       "      <th></th>\n",
       "      <th></th>\n",
       "      <th>Discount</th>\n",
       "    </tr>\n",
       "    <tr>\n",
       "      <th>Brand</th>\n",
       "      <th>Category</th>\n",
       "      <th></th>\n",
       "    </tr>\n",
       "  </thead>\n",
       "  <tbody>\n",
       "    <tr>\n",
       "      <th rowspan=\"3\" valign=\"top\">Spencers</th>\n",
       "      <th>Beverages</th>\n",
       "      <td>74.29</td>\n",
       "    </tr>\n",
       "    <tr>\n",
       "      <th>Branded Foods</th>\n",
       "      <td>30.00</td>\n",
       "    </tr>\n",
       "    <tr>\n",
       "      <th>Grocery &amp; Staples</th>\n",
       "      <td>75.03</td>\n",
       "    </tr>\n",
       "    <tr>\n",
       "      <th rowspan=\"3\" valign=\"top\">simplinamdharis</th>\n",
       "      <th>Beverages</th>\n",
       "      <td>23.81</td>\n",
       "    </tr>\n",
       "    <tr>\n",
       "      <th>Branded Foods</th>\n",
       "      <td>25.00</td>\n",
       "    </tr>\n",
       "    <tr>\n",
       "      <th>Grocery &amp; Staples</th>\n",
       "      <td>50.00</td>\n",
       "    </tr>\n",
       "    <tr>\n",
       "      <th rowspan=\"3\" valign=\"top\">storese</th>\n",
       "      <th>Beverages</th>\n",
       "      <td>20.00</td>\n",
       "    </tr>\n",
       "    <tr>\n",
       "      <th>Branded Foods</th>\n",
       "      <td>20.59</td>\n",
       "    </tr>\n",
       "    <tr>\n",
       "      <th>Grocery &amp; Staples</th>\n",
       "      <td>28.57</td>\n",
       "    </tr>\n",
       "  </tbody>\n",
       "</table>\n",
       "</div>"
      ],
      "text/plain": [
       "                                   Discount\n",
       "Brand           Category                   \n",
       "Spencers        Beverages             74.29\n",
       "                Branded Foods         30.00\n",
       "                Grocery & Staples     75.03\n",
       "simplinamdharis Beverages             23.81\n",
       "                Branded Foods         25.00\n",
       "                Grocery & Staples     50.00\n",
       "storese         Beverages             20.00\n",
       "                Branded Foods         20.59\n",
       "                Grocery & Staples     28.57"
      ]
     },
     "execution_count": 22,
     "metadata": {},
     "output_type": "execute_result"
    }
   ],
   "source": [
    "#Top 5 discounted products offered among all three different stores\n",
    "pd.DataFrame(df4.groupby(['Brand','Category']).Discount.max()) #Max function"
   ]
  },
  {
   "cell_type": "markdown",
   "metadata": {},
   "source": [
    "## Test out the products available before going for the recommendation"
   ]
  },
  {
   "cell_type": "code",
   "execution_count": 23,
   "metadata": {
    "scrolled": false
   },
   "outputs": [
    {
     "data": {
      "application/vnd.jupyter.widget-view+json": {
       "model_id": "bc92fcfb940d499f826a5f41b9840c4d",
       "version_major": 2,
       "version_minor": 0
      },
      "text/plain": [
       "interactive(children=(Combobox(value='', description='Product', options=('Kinley 500Ml - Coke', 'Kinley 1Ltr -…"
      ]
     },
     "metadata": {},
     "output_type": "display_data"
    }
   ],
   "source": [
    "from ipywidgets import interact, Combobox\n",
    "import re\n",
    "# Interactive dropdown with a combo of both typing and select\n",
    "def searchProduct(Product):\n",
    "    pattern = '((^\\s*\\w+$))'\n",
    "    matcher = re.compile(pattern)\n",
    "    display(df4[(df4.Name.str.contains(Product, case=False))])\n",
    "product = interact(searchProduct, Product = Combobox(options = df4.Name.tolist(),value=\"\"))"
   ]
  },
  {
   "cell_type": "code",
   "execution_count": 25,
   "metadata": {
    "scrolled": false
   },
   "outputs": [
    {
     "name": "stdout",
     "output_type": "stream",
     "text": [
      "Enter the product name you wish to buy? E.g. Rice, Dal, etc.: orange\n",
      "Enter the approx. quantity you wish to buy (numbers only): 1\n"
     ]
    },
    {
     "data": {
      "text/plain": [
       "'List of products matching the query'"
      ]
     },
     "metadata": {},
     "output_type": "display_data"
    },
    {
     "data": {
      "text/html": [
       "<div>\n",
       "<style scoped>\n",
       "    .dataframe tbody tr th:only-of-type {\n",
       "        vertical-align: middle;\n",
       "    }\n",
       "\n",
       "    .dataframe tbody tr th {\n",
       "        vertical-align: top;\n",
       "    }\n",
       "\n",
       "    .dataframe thead th {\n",
       "        text-align: right;\n",
       "    }\n",
       "</style>\n",
       "<table border=\"1\" class=\"dataframe\">\n",
       "  <thead>\n",
       "    <tr style=\"text-align: right;\">\n",
       "      <th></th>\n",
       "      <th>Name</th>\n",
       "      <th>Brand</th>\n",
       "      <th>Category</th>\n",
       "      <th>Size</th>\n",
       "      <th>Unit</th>\n",
       "      <th>Price</th>\n",
       "      <th>SellingPrice</th>\n",
       "      <th>Discount</th>\n",
       "    </tr>\n",
       "  </thead>\n",
       "  <tbody>\n",
       "    <tr>\n",
       "      <th>33</th>\n",
       "      <td>100% Orange Juice - Tropicana</td>\n",
       "      <td>simplinamdharis</td>\n",
       "      <td>Beverages</td>\n",
       "      <td>1.0</td>\n",
       "      <td>ltr</td>\n",
       "      <td>135.0</td>\n",
       "      <td>135.0</td>\n",
       "      <td>0.00</td>\n",
       "    </tr>\n",
       "    <tr>\n",
       "      <th>3231</th>\n",
       "      <td>Fruit Drinks Orange Real 1 Ltr</td>\n",
       "      <td>storese</td>\n",
       "      <td>Beverages</td>\n",
       "      <td>1.0</td>\n",
       "      <td>ltr</td>\n",
       "      <td>99.0</td>\n",
       "      <td>94.0</td>\n",
       "      <td>5.05</td>\n",
       "    </tr>\n",
       "  </tbody>\n",
       "</table>\n",
       "</div>"
      ],
      "text/plain": [
       "                                Name            Brand   Category  Size Unit  \\\n",
       "33     100% Orange Juice - Tropicana  simplinamdharis  Beverages   1.0  ltr   \n",
       "3231  Fruit Drinks Orange Real 1 Ltr          storese  Beverages   1.0  ltr   \n",
       "\n",
       "      Price  SellingPrice  Discount  \n",
       "33    135.0         135.0      0.00  \n",
       "3231   99.0          94.0      5.05  "
      ]
     },
     "metadata": {},
     "output_type": "display_data"
    },
    {
     "data": {
      "text/plain": [
       "'Best item as per the discounts offered'"
      ]
     },
     "metadata": {},
     "output_type": "display_data"
    },
    {
     "data": {
      "text/html": [
       "<div>\n",
       "<style scoped>\n",
       "    .dataframe tbody tr th:only-of-type {\n",
       "        vertical-align: middle;\n",
       "    }\n",
       "\n",
       "    .dataframe tbody tr th {\n",
       "        vertical-align: top;\n",
       "    }\n",
       "\n",
       "    .dataframe thead th {\n",
       "        text-align: right;\n",
       "    }\n",
       "</style>\n",
       "<table border=\"1\" class=\"dataframe\">\n",
       "  <thead>\n",
       "    <tr style=\"text-align: right;\">\n",
       "      <th></th>\n",
       "      <th>Name</th>\n",
       "      <th>Brand</th>\n",
       "      <th>Category</th>\n",
       "      <th>Size</th>\n",
       "      <th>Unit</th>\n",
       "      <th>Price</th>\n",
       "      <th>SellingPrice</th>\n",
       "      <th>Discount</th>\n",
       "    </tr>\n",
       "  </thead>\n",
       "  <tbody>\n",
       "    <tr>\n",
       "      <th>3231</th>\n",
       "      <td>Fruit Drinks Orange Real 1 Ltr</td>\n",
       "      <td>storese</td>\n",
       "      <td>Beverages</td>\n",
       "      <td>1.0</td>\n",
       "      <td>ltr</td>\n",
       "      <td>99.0</td>\n",
       "      <td>94.0</td>\n",
       "      <td>5.05</td>\n",
       "    </tr>\n",
       "  </tbody>\n",
       "</table>\n",
       "</div>"
      ],
      "text/plain": [
       "                                Name    Brand   Category  Size Unit  Price  \\\n",
       "3231  Fruit Drinks Orange Real 1 Ltr  storese  Beverages   1.0  ltr   99.0   \n",
       "\n",
       "      SellingPrice  Discount  \n",
       "3231          94.0      5.05  "
      ]
     },
     "metadata": {},
     "output_type": "display_data"
    },
    {
     "name": "stdout",
     "output_type": "stream",
     "text": [
      "Do you wish to continue? Y/N: y\n",
      "Enter the product name you wish to buy? E.g. Rice, Dal, etc.: rice\n",
      "Enter the approx. quantity you wish to buy (numbers only): 400\n"
     ]
    },
    {
     "data": {
      "text/plain": [
       "'List of products matching the query'"
      ]
     },
     "metadata": {},
     "output_type": "display_data"
    },
    {
     "data": {
      "text/html": [
       "<div>\n",
       "<style scoped>\n",
       "    .dataframe tbody tr th:only-of-type {\n",
       "        vertical-align: middle;\n",
       "    }\n",
       "\n",
       "    .dataframe tbody tr th {\n",
       "        vertical-align: top;\n",
       "    }\n",
       "\n",
       "    .dataframe thead th {\n",
       "        text-align: right;\n",
       "    }\n",
       "</style>\n",
       "<table border=\"1\" class=\"dataframe\">\n",
       "  <thead>\n",
       "    <tr style=\"text-align: right;\">\n",
       "      <th></th>\n",
       "      <th>Name</th>\n",
       "      <th>Brand</th>\n",
       "      <th>Category</th>\n",
       "      <th>Size</th>\n",
       "      <th>Unit</th>\n",
       "      <th>Price</th>\n",
       "      <th>SellingPrice</th>\n",
       "      <th>Discount</th>\n",
       "    </tr>\n",
       "  </thead>\n",
       "  <tbody>\n",
       "    <tr>\n",
       "      <th>2285</th>\n",
       "      <td>MTR Rice Sevai 400g</td>\n",
       "      <td>Spencers</td>\n",
       "      <td>Branded Foods</td>\n",
       "      <td>400.0</td>\n",
       "      <td>gm</td>\n",
       "      <td>50.0</td>\n",
       "      <td>50.0</td>\n",
       "      <td>0.0</td>\n",
       "    </tr>\n",
       "    <tr>\n",
       "      <th>2883</th>\n",
       "      <td>Vermicelli Rice Sevai MTR 400Gms</td>\n",
       "      <td>storese</td>\n",
       "      <td>Grocery &amp; Staples</td>\n",
       "      <td>400.0</td>\n",
       "      <td>gm</td>\n",
       "      <td>40.0</td>\n",
       "      <td>38.0</td>\n",
       "      <td>5.0</td>\n",
       "    </tr>\n",
       "  </tbody>\n",
       "</table>\n",
       "</div>"
      ],
      "text/plain": [
       "                                  Name     Brand           Category   Size  \\\n",
       "2285               MTR Rice Sevai 400g  Spencers      Branded Foods  400.0   \n",
       "2883  Vermicelli Rice Sevai MTR 400Gms   storese  Grocery & Staples  400.0   \n",
       "\n",
       "     Unit  Price  SellingPrice  Discount  \n",
       "2285   gm   50.0          50.0       0.0  \n",
       "2883   gm   40.0          38.0       5.0  "
      ]
     },
     "metadata": {},
     "output_type": "display_data"
    },
    {
     "data": {
      "text/plain": [
       "'Best item as per the discounts offered'"
      ]
     },
     "metadata": {},
     "output_type": "display_data"
    },
    {
     "data": {
      "text/html": [
       "<div>\n",
       "<style scoped>\n",
       "    .dataframe tbody tr th:only-of-type {\n",
       "        vertical-align: middle;\n",
       "    }\n",
       "\n",
       "    .dataframe tbody tr th {\n",
       "        vertical-align: top;\n",
       "    }\n",
       "\n",
       "    .dataframe thead th {\n",
       "        text-align: right;\n",
       "    }\n",
       "</style>\n",
       "<table border=\"1\" class=\"dataframe\">\n",
       "  <thead>\n",
       "    <tr style=\"text-align: right;\">\n",
       "      <th></th>\n",
       "      <th>Name</th>\n",
       "      <th>Brand</th>\n",
       "      <th>Category</th>\n",
       "      <th>Size</th>\n",
       "      <th>Unit</th>\n",
       "      <th>Price</th>\n",
       "      <th>SellingPrice</th>\n",
       "      <th>Discount</th>\n",
       "    </tr>\n",
       "  </thead>\n",
       "  <tbody>\n",
       "    <tr>\n",
       "      <th>2883</th>\n",
       "      <td>Vermicelli Rice Sevai MTR 400Gms</td>\n",
       "      <td>storese</td>\n",
       "      <td>Grocery &amp; Staples</td>\n",
       "      <td>400.0</td>\n",
       "      <td>gm</td>\n",
       "      <td>40.0</td>\n",
       "      <td>38.0</td>\n",
       "      <td>5.0</td>\n",
       "    </tr>\n",
       "  </tbody>\n",
       "</table>\n",
       "</div>"
      ],
      "text/plain": [
       "                                  Name    Brand           Category   Size  \\\n",
       "2883  Vermicelli Rice Sevai MTR 400Gms  storese  Grocery & Staples  400.0   \n",
       "\n",
       "     Unit  Price  SellingPrice  Discount  \n",
       "2883   gm   40.0          38.0       5.0  "
      ]
     },
     "metadata": {},
     "output_type": "display_data"
    },
    {
     "name": "stdout",
     "output_type": "stream",
     "text": [
      "Do you wish to continue? Y/N: y\n",
      "Enter the product name you wish to buy? E.g. Rice, Dal, etc.: wheat atta\n",
      "Enter the approx. quantity you wish to buy (numbers only): 1\n"
     ]
    },
    {
     "data": {
      "text/plain": [
       "'List of products matching the query'"
      ]
     },
     "metadata": {},
     "output_type": "display_data"
    },
    {
     "data": {
      "text/html": [
       "<div>\n",
       "<style scoped>\n",
       "    .dataframe tbody tr th:only-of-type {\n",
       "        vertical-align: middle;\n",
       "    }\n",
       "\n",
       "    .dataframe tbody tr th {\n",
       "        vertical-align: top;\n",
       "    }\n",
       "\n",
       "    .dataframe thead th {\n",
       "        text-align: right;\n",
       "    }\n",
       "</style>\n",
       "<table border=\"1\" class=\"dataframe\">\n",
       "  <thead>\n",
       "    <tr style=\"text-align: right;\">\n",
       "      <th></th>\n",
       "      <th>Name</th>\n",
       "      <th>Brand</th>\n",
       "      <th>Category</th>\n",
       "      <th>Size</th>\n",
       "      <th>Unit</th>\n",
       "      <th>Price</th>\n",
       "      <th>SellingPrice</th>\n",
       "      <th>Discount</th>\n",
       "    </tr>\n",
       "  </thead>\n",
       "  <tbody>\n",
       "    <tr>\n",
       "      <th>1169</th>\n",
       "      <td>Whole Wheat Atta Regular - Namdharis</td>\n",
       "      <td>simplinamdharis</td>\n",
       "      <td>Grocery &amp; Staples</td>\n",
       "      <td>1.0</td>\n",
       "      <td>kg</td>\n",
       "      <td>45.0</td>\n",
       "      <td>39.0</td>\n",
       "      <td>13.33</td>\n",
       "    </tr>\n",
       "    <tr>\n",
       "      <th>1220</th>\n",
       "      <td>Whole Wheat Atta Select - Namdharis</td>\n",
       "      <td>simplinamdharis</td>\n",
       "      <td>Grocery &amp; Staples</td>\n",
       "      <td>1.0</td>\n",
       "      <td>kg</td>\n",
       "      <td>49.0</td>\n",
       "      <td>42.0</td>\n",
       "      <td>14.29</td>\n",
       "    </tr>\n",
       "    <tr>\n",
       "      <th>1674</th>\n",
       "      <td>Wheat Atta Select - Aashirvaad</td>\n",
       "      <td>simplinamdharis</td>\n",
       "      <td>Grocery &amp; Staples</td>\n",
       "      <td>1.0</td>\n",
       "      <td>kg</td>\n",
       "      <td>62.0</td>\n",
       "      <td>62.0</td>\n",
       "      <td>0.00</td>\n",
       "    </tr>\n",
       "    <tr>\n",
       "      <th>1780</th>\n",
       "      <td>Shyam's Agro fresh Whole Wheat Atta 1kg</td>\n",
       "      <td>Spencers</td>\n",
       "      <td>Grocery &amp; Staples</td>\n",
       "      <td>1.0</td>\n",
       "      <td>kg</td>\n",
       "      <td>40.0</td>\n",
       "      <td>34.0</td>\n",
       "      <td>15.00</td>\n",
       "    </tr>\n",
       "  </tbody>\n",
       "</table>\n",
       "</div>"
      ],
      "text/plain": [
       "                                         Name            Brand  \\\n",
       "1169     Whole Wheat Atta Regular - Namdharis  simplinamdharis   \n",
       "1220      Whole Wheat Atta Select - Namdharis  simplinamdharis   \n",
       "1674           Wheat Atta Select - Aashirvaad  simplinamdharis   \n",
       "1780  Shyam's Agro fresh Whole Wheat Atta 1kg         Spencers   \n",
       "\n",
       "               Category  Size Unit  Price  SellingPrice  Discount  \n",
       "1169  Grocery & Staples   1.0   kg   45.0          39.0     13.33  \n",
       "1220  Grocery & Staples   1.0   kg   49.0          42.0     14.29  \n",
       "1674  Grocery & Staples   1.0   kg   62.0          62.0      0.00  \n",
       "1780  Grocery & Staples   1.0   kg   40.0          34.0     15.00  "
      ]
     },
     "metadata": {},
     "output_type": "display_data"
    },
    {
     "data": {
      "text/plain": [
       "'Best item as per the discounts offered'"
      ]
     },
     "metadata": {},
     "output_type": "display_data"
    },
    {
     "data": {
      "text/html": [
       "<div>\n",
       "<style scoped>\n",
       "    .dataframe tbody tr th:only-of-type {\n",
       "        vertical-align: middle;\n",
       "    }\n",
       "\n",
       "    .dataframe tbody tr th {\n",
       "        vertical-align: top;\n",
       "    }\n",
       "\n",
       "    .dataframe thead th {\n",
       "        text-align: right;\n",
       "    }\n",
       "</style>\n",
       "<table border=\"1\" class=\"dataframe\">\n",
       "  <thead>\n",
       "    <tr style=\"text-align: right;\">\n",
       "      <th></th>\n",
       "      <th>Name</th>\n",
       "      <th>Brand</th>\n",
       "      <th>Category</th>\n",
       "      <th>Size</th>\n",
       "      <th>Unit</th>\n",
       "      <th>Price</th>\n",
       "      <th>SellingPrice</th>\n",
       "      <th>Discount</th>\n",
       "    </tr>\n",
       "  </thead>\n",
       "  <tbody>\n",
       "    <tr>\n",
       "      <th>1780</th>\n",
       "      <td>Shyam's Agro fresh Whole Wheat Atta 1kg</td>\n",
       "      <td>Spencers</td>\n",
       "      <td>Grocery &amp; Staples</td>\n",
       "      <td>1.0</td>\n",
       "      <td>kg</td>\n",
       "      <td>40.0</td>\n",
       "      <td>34.0</td>\n",
       "      <td>15.0</td>\n",
       "    </tr>\n",
       "  </tbody>\n",
       "</table>\n",
       "</div>"
      ],
      "text/plain": [
       "                                         Name     Brand           Category  \\\n",
       "1780  Shyam's Agro fresh Whole Wheat Atta 1kg  Spencers  Grocery & Staples   \n",
       "\n",
       "      Size Unit  Price  SellingPrice  Discount  \n",
       "1780   1.0   kg   40.0          34.0      15.0  "
      ]
     },
     "metadata": {},
     "output_type": "display_data"
    },
    {
     "name": "stdout",
     "output_type": "stream",
     "text": [
      "Do you wish to continue? Y/N: y\n",
      "Enter the product name you wish to buy? E.g. Rice, Dal, etc.: kinley\n",
      "Enter the approx. quantity you wish to buy (numbers only): 1\n"
     ]
    },
    {
     "data": {
      "text/plain": [
       "'List of products matching the query'"
      ]
     },
     "metadata": {},
     "output_type": "display_data"
    },
    {
     "data": {
      "text/html": [
       "<div>\n",
       "<style scoped>\n",
       "    .dataframe tbody tr th:only-of-type {\n",
       "        vertical-align: middle;\n",
       "    }\n",
       "\n",
       "    .dataframe tbody tr th {\n",
       "        vertical-align: top;\n",
       "    }\n",
       "\n",
       "    .dataframe thead th {\n",
       "        text-align: right;\n",
       "    }\n",
       "</style>\n",
       "<table border=\"1\" class=\"dataframe\">\n",
       "  <thead>\n",
       "    <tr style=\"text-align: right;\">\n",
       "      <th></th>\n",
       "      <th>Name</th>\n",
       "      <th>Brand</th>\n",
       "      <th>Category</th>\n",
       "      <th>Size</th>\n",
       "      <th>Unit</th>\n",
       "      <th>Price</th>\n",
       "      <th>SellingPrice</th>\n",
       "      <th>Discount</th>\n",
       "    </tr>\n",
       "  </thead>\n",
       "  <tbody>\n",
       "    <tr>\n",
       "      <th>1</th>\n",
       "      <td>Kinley 1Ltr - Coke</td>\n",
       "      <td>simplinamdharis</td>\n",
       "      <td>Beverages</td>\n",
       "      <td>1.0</td>\n",
       "      <td>ltr</td>\n",
       "      <td>20.0</td>\n",
       "      <td>20.0</td>\n",
       "      <td>0.0</td>\n",
       "    </tr>\n",
       "    <tr>\n",
       "      <th>2674</th>\n",
       "      <td>Kinley Mineral Water 1L</td>\n",
       "      <td>Spencers</td>\n",
       "      <td>Beverages</td>\n",
       "      <td>1.0</td>\n",
       "      <td>ltr</td>\n",
       "      <td>20.0</td>\n",
       "      <td>20.0</td>\n",
       "      <td>0.0</td>\n",
       "    </tr>\n",
       "    <tr>\n",
       "      <th>3207</th>\n",
       "      <td>Kinley Mineral Water 1 Ltr</td>\n",
       "      <td>storese</td>\n",
       "      <td>Beverages</td>\n",
       "      <td>1.0</td>\n",
       "      <td>ltr</td>\n",
       "      <td>20.0</td>\n",
       "      <td>19.0</td>\n",
       "      <td>5.0</td>\n",
       "    </tr>\n",
       "  </tbody>\n",
       "</table>\n",
       "</div>"
      ],
      "text/plain": [
       "                            Name            Brand   Category  Size Unit  \\\n",
       "1             Kinley 1Ltr - Coke  simplinamdharis  Beverages   1.0  ltr   \n",
       "2674     Kinley Mineral Water 1L         Spencers  Beverages   1.0  ltr   \n",
       "3207  Kinley Mineral Water 1 Ltr          storese  Beverages   1.0  ltr   \n",
       "\n",
       "      Price  SellingPrice  Discount  \n",
       "1      20.0          20.0       0.0  \n",
       "2674   20.0          20.0       0.0  \n",
       "3207   20.0          19.0       5.0  "
      ]
     },
     "metadata": {},
     "output_type": "display_data"
    },
    {
     "data": {
      "text/plain": [
       "'Best item as per the discounts offered'"
      ]
     },
     "metadata": {},
     "output_type": "display_data"
    },
    {
     "data": {
      "text/html": [
       "<div>\n",
       "<style scoped>\n",
       "    .dataframe tbody tr th:only-of-type {\n",
       "        vertical-align: middle;\n",
       "    }\n",
       "\n",
       "    .dataframe tbody tr th {\n",
       "        vertical-align: top;\n",
       "    }\n",
       "\n",
       "    .dataframe thead th {\n",
       "        text-align: right;\n",
       "    }\n",
       "</style>\n",
       "<table border=\"1\" class=\"dataframe\">\n",
       "  <thead>\n",
       "    <tr style=\"text-align: right;\">\n",
       "      <th></th>\n",
       "      <th>Name</th>\n",
       "      <th>Brand</th>\n",
       "      <th>Category</th>\n",
       "      <th>Size</th>\n",
       "      <th>Unit</th>\n",
       "      <th>Price</th>\n",
       "      <th>SellingPrice</th>\n",
       "      <th>Discount</th>\n",
       "    </tr>\n",
       "  </thead>\n",
       "  <tbody>\n",
       "    <tr>\n",
       "      <th>3207</th>\n",
       "      <td>Kinley Mineral Water 1 Ltr</td>\n",
       "      <td>storese</td>\n",
       "      <td>Beverages</td>\n",
       "      <td>1.0</td>\n",
       "      <td>ltr</td>\n",
       "      <td>20.0</td>\n",
       "      <td>19.0</td>\n",
       "      <td>5.0</td>\n",
       "    </tr>\n",
       "  </tbody>\n",
       "</table>\n",
       "</div>"
      ],
      "text/plain": [
       "                            Name    Brand   Category  Size Unit  Price  \\\n",
       "3207  Kinley Mineral Water 1 Ltr  storese  Beverages   1.0  ltr   20.0   \n",
       "\n",
       "      SellingPrice  Discount  \n",
       "3207          19.0       5.0  "
      ]
     },
     "metadata": {},
     "output_type": "display_data"
    },
    {
     "name": "stdout",
     "output_type": "stream",
     "text": [
      "Do you wish to continue? Y/N: y\n",
      "Enter the product name you wish to buy? E.g. Rice, Dal, etc.: urad dal\n",
      "Enter the approx. quantity you wish to buy (numbers only): 500\n"
     ]
    },
    {
     "data": {
      "text/plain": [
       "'List of products matching the query'"
      ]
     },
     "metadata": {},
     "output_type": "display_data"
    },
    {
     "data": {
      "text/html": [
       "<div>\n",
       "<style scoped>\n",
       "    .dataframe tbody tr th:only-of-type {\n",
       "        vertical-align: middle;\n",
       "    }\n",
       "\n",
       "    .dataframe tbody tr th {\n",
       "        vertical-align: top;\n",
       "    }\n",
       "\n",
       "    .dataframe thead th {\n",
       "        text-align: right;\n",
       "    }\n",
       "</style>\n",
       "<table border=\"1\" class=\"dataframe\">\n",
       "  <thead>\n",
       "    <tr style=\"text-align: right;\">\n",
       "      <th></th>\n",
       "      <th>Name</th>\n",
       "      <th>Brand</th>\n",
       "      <th>Category</th>\n",
       "      <th>Size</th>\n",
       "      <th>Unit</th>\n",
       "      <th>Price</th>\n",
       "      <th>SellingPrice</th>\n",
       "      <th>Discount</th>\n",
       "    </tr>\n",
       "  </thead>\n",
       "  <tbody>\n",
       "    <tr>\n",
       "      <th>1167</th>\n",
       "      <td>Urad Dal Gota - Namdharis</td>\n",
       "      <td>simplinamdharis</td>\n",
       "      <td>Grocery &amp; Staples</td>\n",
       "      <td>500.0</td>\n",
       "      <td>gm</td>\n",
       "      <td>76.0</td>\n",
       "      <td>69.0</td>\n",
       "      <td>9.21</td>\n",
       "    </tr>\n",
       "    <tr>\n",
       "      <th>1185</th>\n",
       "      <td>Urad Dal - Namdharis</td>\n",
       "      <td>simplinamdharis</td>\n",
       "      <td>Grocery &amp; Staples</td>\n",
       "      <td>500.0</td>\n",
       "      <td>gm</td>\n",
       "      <td>82.0</td>\n",
       "      <td>69.0</td>\n",
       "      <td>15.85</td>\n",
       "    </tr>\n",
       "    <tr>\n",
       "      <th>1330</th>\n",
       "      <td>Phalada Organic Urad Dal Split 500G</td>\n",
       "      <td>simplinamdharis</td>\n",
       "      <td>Grocery &amp; Staples</td>\n",
       "      <td>500.0</td>\n",
       "      <td>gm</td>\n",
       "      <td>110.0</td>\n",
       "      <td>110.0</td>\n",
       "      <td>0.00</td>\n",
       "    </tr>\n",
       "    <tr>\n",
       "      <th>1615</th>\n",
       "      <td>Urad Dal White  Split - 24 Mantra</td>\n",
       "      <td>simplinamdharis</td>\n",
       "      <td>Grocery &amp; Staples</td>\n",
       "      <td>500.0</td>\n",
       "      <td>gm</td>\n",
       "      <td>130.0</td>\n",
       "      <td>130.0</td>\n",
       "      <td>0.00</td>\n",
       "    </tr>\n",
       "    <tr>\n",
       "      <th>1732</th>\n",
       "      <td>Urad Dal - Namdharis Organic</td>\n",
       "      <td>simplinamdharis</td>\n",
       "      <td>Grocery &amp; Staples</td>\n",
       "      <td>500.0</td>\n",
       "      <td>gm</td>\n",
       "      <td>110.0</td>\n",
       "      <td>99.0</td>\n",
       "      <td>10.00</td>\n",
       "    </tr>\n",
       "    <tr>\n",
       "      <th>2780</th>\n",
       "      <td>Urad Dal 24 Carat Town 500 Gms</td>\n",
       "      <td>storese</td>\n",
       "      <td>Grocery &amp; Staples</td>\n",
       "      <td>500.0</td>\n",
       "      <td>gm</td>\n",
       "      <td>70.0</td>\n",
       "      <td>63.0</td>\n",
       "      <td>10.00</td>\n",
       "    </tr>\n",
       "    <tr>\n",
       "      <th>3024</th>\n",
       "      <td>Urad Dal Organic Town 500 Gms</td>\n",
       "      <td>storese</td>\n",
       "      <td>Grocery &amp; Staples</td>\n",
       "      <td>500.0</td>\n",
       "      <td>gm</td>\n",
       "      <td>111.0</td>\n",
       "      <td>100.0</td>\n",
       "      <td>9.91</td>\n",
       "    </tr>\n",
       "    <tr>\n",
       "      <th>3190</th>\n",
       "      <td>Urad Dal Staff Town 500 Gms</td>\n",
       "      <td>storese</td>\n",
       "      <td>Grocery &amp; Staples</td>\n",
       "      <td>500.0</td>\n",
       "      <td>gm</td>\n",
       "      <td>59.0</td>\n",
       "      <td>53.0</td>\n",
       "      <td>10.17</td>\n",
       "    </tr>\n",
       "  </tbody>\n",
       "</table>\n",
       "</div>"
      ],
      "text/plain": [
       "                                     Name            Brand           Category  \\\n",
       "1167            Urad Dal Gota - Namdharis  simplinamdharis  Grocery & Staples   \n",
       "1185                 Urad Dal - Namdharis  simplinamdharis  Grocery & Staples   \n",
       "1330  Phalada Organic Urad Dal Split 500G  simplinamdharis  Grocery & Staples   \n",
       "1615    Urad Dal White  Split - 24 Mantra  simplinamdharis  Grocery & Staples   \n",
       "1732         Urad Dal - Namdharis Organic  simplinamdharis  Grocery & Staples   \n",
       "2780       Urad Dal 24 Carat Town 500 Gms          storese  Grocery & Staples   \n",
       "3024        Urad Dal Organic Town 500 Gms          storese  Grocery & Staples   \n",
       "3190          Urad Dal Staff Town 500 Gms          storese  Grocery & Staples   \n",
       "\n",
       "       Size Unit  Price  SellingPrice  Discount  \n",
       "1167  500.0   gm   76.0          69.0      9.21  \n",
       "1185  500.0   gm   82.0          69.0     15.85  \n",
       "1330  500.0   gm  110.0         110.0      0.00  \n",
       "1615  500.0   gm  130.0         130.0      0.00  \n",
       "1732  500.0   gm  110.0          99.0     10.00  \n",
       "2780  500.0   gm   70.0          63.0     10.00  \n",
       "3024  500.0   gm  111.0         100.0      9.91  \n",
       "3190  500.0   gm   59.0          53.0     10.17  "
      ]
     },
     "metadata": {},
     "output_type": "display_data"
    },
    {
     "data": {
      "text/plain": [
       "'Best item as per the discounts offered'"
      ]
     },
     "metadata": {},
     "output_type": "display_data"
    },
    {
     "data": {
      "text/html": [
       "<div>\n",
       "<style scoped>\n",
       "    .dataframe tbody tr th:only-of-type {\n",
       "        vertical-align: middle;\n",
       "    }\n",
       "\n",
       "    .dataframe tbody tr th {\n",
       "        vertical-align: top;\n",
       "    }\n",
       "\n",
       "    .dataframe thead th {\n",
       "        text-align: right;\n",
       "    }\n",
       "</style>\n",
       "<table border=\"1\" class=\"dataframe\">\n",
       "  <thead>\n",
       "    <tr style=\"text-align: right;\">\n",
       "      <th></th>\n",
       "      <th>Name</th>\n",
       "      <th>Brand</th>\n",
       "      <th>Category</th>\n",
       "      <th>Size</th>\n",
       "      <th>Unit</th>\n",
       "      <th>Price</th>\n",
       "      <th>SellingPrice</th>\n",
       "      <th>Discount</th>\n",
       "    </tr>\n",
       "  </thead>\n",
       "  <tbody>\n",
       "    <tr>\n",
       "      <th>3190</th>\n",
       "      <td>Urad Dal Staff Town 500 Gms</td>\n",
       "      <td>storese</td>\n",
       "      <td>Grocery &amp; Staples</td>\n",
       "      <td>500.0</td>\n",
       "      <td>gm</td>\n",
       "      <td>59.0</td>\n",
       "      <td>53.0</td>\n",
       "      <td>10.17</td>\n",
       "    </tr>\n",
       "  </tbody>\n",
       "</table>\n",
       "</div>"
      ],
      "text/plain": [
       "                             Name    Brand           Category   Size Unit  \\\n",
       "3190  Urad Dal Staff Town 500 Gms  storese  Grocery & Staples  500.0   gm   \n",
       "\n",
       "      Price  SellingPrice  Discount  \n",
       "3190   59.0          53.0     10.17  "
      ]
     },
     "metadata": {},
     "output_type": "display_data"
    },
    {
     "name": "stdout",
     "output_type": "stream",
     "text": [
      "Do you wish to continue? Y/N: n\n"
     ]
    }
   ],
   "source": [
    "# Run the cell, enter the product brand/name and size (ex. 400gm, 1ltr, etc.)\n",
    "# Sample run output below, note that it is an infinite loop, enter N/n when prompted or restart/interrupt the kernel to break\n",
    "while(True):\n",
    "    product =  input(\"Enter the product name you wish to buy? E.g. Rice, Dal, etc.: \")\n",
    "    size = input(\"Enter the approx. quantity you wish to buy (numbers only): \")\n",
    "    pattern = '(.*(\\w+).*)'\n",
    "    matcher = re.compile(pattern)\n",
    "    #data = df4[category]\n",
    "    cols = ['Name', 'Brand', 'Size', 'Unit' ]\n",
    "    items = df4[(df4.Name.str.contains(product, case=False)) & (df4.Size==float(size))]\n",
    "    display('List of products matching the query', items)\n",
    "    display('Best item as per the discounts offered', items[items.SellingPrice == items.SellingPrice.min()])\n",
    "    proceed = input(\"Do you wish to continue? Y/N: \")\n",
    "    if (proceed=='N') | (proceed=='n'):\n",
    "        break\n",
    "    else:\n",
    "        continue"
   ]
  }
 ],
 "metadata": {
  "kernelspec": {
   "display_name": "Python 3",
   "language": "python",
   "name": "python3"
  },
  "language_info": {
   "codemirror_mode": {
    "name": "ipython",
    "version": 3
   },
   "file_extension": ".py",
   "mimetype": "text/x-python",
   "name": "python",
   "nbconvert_exporter": "python",
   "pygments_lexer": "ipython3",
   "version": "3.7.6"
  }
 },
 "nbformat": 4,
 "nbformat_minor": 4
}
