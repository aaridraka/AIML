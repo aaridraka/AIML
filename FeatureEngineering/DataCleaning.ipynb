{
 "cells": [
  {
   "cell_type": "markdown",
   "metadata": {},
   "source": [
    "# Data Cleaning - Feature Engineering"
   ]
  },
  {
   "cell_type": "code",
   "execution_count": 1,
   "metadata": {},
   "outputs": [],
   "source": [
    "# Import reqd. libs.\n",
    "import pandas as pd\n",
    "import seaborn as sb\n",
    "import numpy as np\n",
    "import matplotlib.pyplot as plt\n",
    "import os\n",
    "%matplotlib inline"
   ]
  },
  {
   "cell_type": "code",
   "execution_count": 2,
   "metadata": {},
   "outputs": [],
   "source": [
    "# Import the given data sets (personally despised and hence the dataset names)\n",
    "hateset1 = pd.read_csv(\"bollywood.csv\")\n",
    "hateset2 = pd.read_csv(\"bollywood - 2.csv\")"
   ]
  },
  {
   "cell_type": "code",
   "execution_count": 3,
   "metadata": {},
   "outputs": [
    {
     "data": {
      "text/html": [
       "<div>\n",
       "<style scoped>\n",
       "    .dataframe tbody tr th:only-of-type {\n",
       "        vertical-align: middle;\n",
       "    }\n",
       "\n",
       "    .dataframe tbody tr th {\n",
       "        vertical-align: top;\n",
       "    }\n",
       "\n",
       "    .dataframe thead th {\n",
       "        text-align: right;\n",
       "    }\n",
       "</style>\n",
       "<table border=\"1\" class=\"dataframe\">\n",
       "  <thead>\n",
       "    <tr style=\"text-align: right;\">\n",
       "      <th></th>\n",
       "      <th>No</th>\n",
       "      <th>RelDate</th>\n",
       "      <th>MovieName</th>\n",
       "      <th>ReleaseTime</th>\n",
       "      <th>Genre</th>\n",
       "      <th>Budget</th>\n",
       "      <th>BoxOfficeCollection</th>\n",
       "      <th>YoutubeViews</th>\n",
       "      <th>YoutubeLikes</th>\n",
       "      <th>YoutubeDislikes</th>\n",
       "      <th>YoutubeLikeDislikes</th>\n",
       "    </tr>\n",
       "  </thead>\n",
       "  <tbody>\n",
       "    <tr>\n",
       "      <th>0</th>\n",
       "      <td>1</td>\n",
       "      <td>Apr-18-2014</td>\n",
       "      <td>2 States</td>\n",
       "      <td>3</td>\n",
       "      <td>RomanceGenre</td>\n",
       "      <td>36Cr</td>\n",
       "      <td>104</td>\n",
       "      <td>8576361</td>\n",
       "      <td>26622.0</td>\n",
       "      <td>2527.0</td>\n",
       "      <td>29149</td>\n",
       "    </tr>\n",
       "    <tr>\n",
       "      <th>1</th>\n",
       "      <td>2</td>\n",
       "      <td>Jan-4-2013</td>\n",
       "      <td>Table No. 21</td>\n",
       "      <td>4</td>\n",
       "      <td>Thriller</td>\n",
       "      <td>Cr10</td>\n",
       "      <td>12</td>\n",
       "      <td>1087320</td>\n",
       "      <td>1129.0</td>\n",
       "      <td>137.0</td>\n",
       "      <td>1266</td>\n",
       "    </tr>\n",
       "    <tr>\n",
       "      <th>2</th>\n",
       "      <td>3</td>\n",
       "      <td>Jul-18-2014</td>\n",
       "      <td>Amit Sahni Ki List</td>\n",
       "      <td>4</td>\n",
       "      <td>ComedyGenre</td>\n",
       "      <td>10Cr</td>\n",
       "      <td>4</td>\n",
       "      <td>572336</td>\n",
       "      <td>586.0</td>\n",
       "      <td>54.0</td>\n",
       "      <td>640</td>\n",
       "    </tr>\n",
       "  </tbody>\n",
       "</table>\n",
       "</div>"
      ],
      "text/plain": [
       "   No      RelDate           MovieName  ReleaseTime         Genre Budget  \\\n",
       "0   1  Apr-18-2014            2 States            3  RomanceGenre   36Cr   \n",
       "1   2   Jan-4-2013        Table No. 21            4     Thriller    Cr10   \n",
       "2   3  Jul-18-2014  Amit Sahni Ki List            4   ComedyGenre   10Cr   \n",
       "\n",
       "  BoxOfficeCollection  YoutubeViews  YoutubeLikes  YoutubeDislikes  \\\n",
       "0                 104       8576361       26622.0           2527.0   \n",
       "1                  12       1087320        1129.0            137.0   \n",
       "2                   4        572336         586.0             54.0   \n",
       "\n",
       "   YoutubeLikeDislikes  \n",
       "0                29149  \n",
       "1                 1266  \n",
       "2                  640  "
      ]
     },
     "metadata": {},
     "output_type": "display_data"
    },
    {
     "data": {
      "text/html": [
       "<div>\n",
       "<style scoped>\n",
       "    .dataframe tbody tr th:only-of-type {\n",
       "        vertical-align: middle;\n",
       "    }\n",
       "\n",
       "    .dataframe tbody tr th {\n",
       "        vertical-align: top;\n",
       "    }\n",
       "\n",
       "    .dataframe thead th {\n",
       "        text-align: right;\n",
       "    }\n",
       "</style>\n",
       "<table border=\"1\" class=\"dataframe\">\n",
       "  <thead>\n",
       "    <tr style=\"text-align: right;\">\n",
       "      <th></th>\n",
       "      <th>Movie_ID</th>\n",
       "      <th>Release_Date</th>\n",
       "      <th>Movie_Name</th>\n",
       "      <th>Release_Time</th>\n",
       "      <th>Genre</th>\n",
       "      <th>BudgetCr</th>\n",
       "      <th>BoxOfficeCollectionCr</th>\n",
       "      <th>Youtube_Views</th>\n",
       "      <th>Youtube_Likes</th>\n",
       "      <th>Youtube_Dislikes</th>\n",
       "    </tr>\n",
       "  </thead>\n",
       "  <tbody>\n",
       "    <tr>\n",
       "      <th>96</th>\n",
       "      <td>147</td>\n",
       "      <td>20-Mar-15</td>\n",
       "      <td>Dilliwali Zaalim Girlfriend</td>\n",
       "      <td>N</td>\n",
       "      <td>Comedy</td>\n",
       "      <td>32</td>\n",
       "      <td>12.00</td>\n",
       "      <td>2316047</td>\n",
       "      <td>4289</td>\n",
       "      <td>807</td>\n",
       "    </tr>\n",
       "    <tr>\n",
       "      <th>97</th>\n",
       "      <td>148</td>\n",
       "      <td>20-Mar-15</td>\n",
       "      <td>Hunterrr</td>\n",
       "      <td>N</td>\n",
       "      <td>Comedy</td>\n",
       "      <td>5</td>\n",
       "      <td>11.89</td>\n",
       "      <td>4674795</td>\n",
       "      <td>3706</td>\n",
       "      <td>762</td>\n",
       "    </tr>\n",
       "    <tr>\n",
       "      <th>98</th>\n",
       "      <td>149</td>\n",
       "      <td>23-May-14</td>\n",
       "      <td>Kochadaiiyaan</td>\n",
       "      <td>HS</td>\n",
       "      <td>Action</td>\n",
       "      <td>150</td>\n",
       "      <td>120.00</td>\n",
       "      <td>4740727</td>\n",
       "      <td>13466</td>\n",
       "      <td>2649</td>\n",
       "    </tr>\n",
       "  </tbody>\n",
       "</table>\n",
       "</div>"
      ],
      "text/plain": [
       "    Movie_ID Release_Date                   Movie_Name Release_Time   Genre  \\\n",
       "96       147    20-Mar-15  Dilliwali Zaalim Girlfriend            N  Comedy   \n",
       "97       148    20-Mar-15                     Hunterrr            N  Comedy   \n",
       "98       149    23-May-14                Kochadaiiyaan           HS  Action   \n",
       "\n",
       "    BudgetCr  BoxOfficeCollectionCr  Youtube_Views  Youtube_Likes  \\\n",
       "96        32                  12.00        2316047           4289   \n",
       "97         5                  11.89        4674795           3706   \n",
       "98       150                 120.00        4740727          13466   \n",
       "\n",
       "    Youtube_Dislikes  \n",
       "96               807  \n",
       "97               762  \n",
       "98              2649  "
      ]
     },
     "metadata": {},
     "output_type": "display_data"
    }
   ],
   "source": [
    "# Peek at the data\n",
    "display(hateset1.head(3), hateset2.tail(3))"
   ]
  },
  {
   "cell_type": "code",
   "execution_count": null,
   "metadata": {},
   "outputs": [],
   "source": []
  },
  {
   "cell_type": "markdown",
   "metadata": {},
   "source": [
    "## Clean the data"
   ]
  },
  {
   "cell_type": "code",
   "execution_count": 4,
   "metadata": {},
   "outputs": [
    {
     "name": "stdout",
     "output_type": "stream",
     "text": [
      "Hateset1 column names before rename:\n",
      "['No', 'RelDate', 'MovieName', 'ReleaseTime', 'Genre', 'Budget', 'BoxOfficeCollection', 'YoutubeViews', 'YoutubeLikes', 'YoutubeDislikes', 'YoutubeLikeDislikes']\n",
      "\n",
      "Hateset1 column names after rename:\n",
      "['MovieIndex', 'DateReleased', 'Name', 'TimeReleased', 'Genre', 'Budget', 'Collection', 'Views', 'Likes', 'Dislikes', 'TotalVotes']\n"
     ]
    }
   ],
   "source": [
    "# Column names between data-sets differ\n",
    "# Rename columns to a common name between the sets\n",
    "# Hateset2 has a missing column TotalVotes (YoutubeLikeDislikes)\n",
    "print('Hateset1 column names before rename:')\n",
    "print(list(hateset1.columns))\n",
    "print()\n",
    "hateset1.rename(columns={'No':'MovieIndex',\n",
    "                         'RelDate':'DateReleased',\n",
    "                         'MovieName':'Name',\n",
    "                         'ReleaseTime':'TimeReleased',\n",
    "                         'Genre':'Genre',\n",
    "                         'Budget':'Budget',\n",
    "                         'BoxOfficeCollection':'Collection',\n",
    "                         'YoutubeViews':'Views',\n",
    "                         'YoutubeLikes':'Likes',\n",
    "                         'YoutubeDislikes':'Dislikes',\n",
    "                         'YoutubeLikeDislikes':'TotalVotes'},inplace=True)\n",
    "print('Hateset1 column names after rename:')\n",
    "print(list(hateset1.columns))"
   ]
  },
  {
   "cell_type": "code",
   "execution_count": 5,
   "metadata": {},
   "outputs": [
    {
     "name": "stdout",
     "output_type": "stream",
     "text": [
      "Hateset2 column names before rename:\n",
      "['Movie_ID', 'Release_Date', 'Movie_Name', 'Release_Time', 'Genre', 'BudgetCr', 'BoxOfficeCollectionCr', 'Youtube_Views', 'Youtube_Likes', 'Youtube_Dislikes']\n",
      "\n",
      "Hateset2 column names after rename:\n",
      "['MovieIndex', 'DateReleased', 'Name', 'TimeReleased', 'Genre', 'Budget', 'Collection', 'Views', 'Likes', 'Dislikes']\n"
     ]
    }
   ],
   "source": [
    "print('Hateset2 column names before rename:')\n",
    "print(list(hateset2.columns))\n",
    "print()\n",
    "hateset2.rename(columns={'Movie_ID':'MovieIndex',\n",
    "                         'Release_Date':'DateReleased',\n",
    "                         'Movie_Name':'Name',\n",
    "                         'Release_Time':'TimeReleased',\n",
    "                         'Genre':'Genre',\n",
    "                         'BudgetCr':'Budget',\n",
    "                         'BoxOfficeCollectionCr':'Collection',\n",
    "                         'Youtube_Views':'Views',\n",
    "                         'Youtube_Likes':'Likes',\n",
    "                         'Youtube_Dislikes':'Dislikes'},inplace=True)\n",
    "print('Hateset2 column names after rename:')\n",
    "print(list(hateset2.columns))"
   ]
  },
  {
   "cell_type": "code",
   "execution_count": 6,
   "metadata": {},
   "outputs": [
    {
     "name": "stdout",
     "output_type": "stream",
     "text": [
      "Hateset2 columns after adding missing column:\n",
      "['MovieIndex', 'DateReleased', 'Name', 'TimeReleased', 'Genre', 'Budget', 'Collection', 'Views', 'Likes', 'Dislikes', 'TotalVotes']\n"
     ]
    }
   ],
   "source": [
    "# Add missing column in second hateset\n",
    "hateset2['TotalVotes'] = hateset2.Likes + hateset2.Dislikes\n",
    "print('Hateset2 columns after adding missing column:')\n",
    "print(list(hateset2.columns))"
   ]
  },
  {
   "cell_type": "code",
   "execution_count": 7,
   "metadata": {},
   "outputs": [
    {
     "data": {
      "text/html": [
       "<div>\n",
       "<style scoped>\n",
       "    .dataframe tbody tr th:only-of-type {\n",
       "        vertical-align: middle;\n",
       "    }\n",
       "\n",
       "    .dataframe tbody tr th {\n",
       "        vertical-align: top;\n",
       "    }\n",
       "\n",
       "    .dataframe thead th {\n",
       "        text-align: right;\n",
       "    }\n",
       "</style>\n",
       "<table border=\"1\" class=\"dataframe\">\n",
       "  <thead>\n",
       "    <tr style=\"text-align: right;\">\n",
       "      <th></th>\n",
       "      <th>MovieIndex</th>\n",
       "      <th>DateReleased</th>\n",
       "      <th>Name</th>\n",
       "      <th>TimeReleased</th>\n",
       "      <th>Genre</th>\n",
       "      <th>Budget</th>\n",
       "      <th>Collection</th>\n",
       "      <th>Views</th>\n",
       "      <th>Likes</th>\n",
       "      <th>Dislikes</th>\n",
       "      <th>TotalVotes</th>\n",
       "    </tr>\n",
       "  </thead>\n",
       "  <tbody>\n",
       "    <tr>\n",
       "      <th>9</th>\n",
       "      <td>10</td>\n",
       "      <td>Jan-11-2013</td>\n",
       "      <td>Gangoobai</td>\n",
       "      <td>4</td>\n",
       "      <td>DramaGenre</td>\n",
       "      <td>2Cr</td>\n",
       "      <td>Cr0.01</td>\n",
       "      <td>4354</td>\n",
       "      <td>1.0</td>\n",
       "      <td>NaN</td>\n",
       "      <td>2</td>\n",
       "    </tr>\n",
       "    <tr>\n",
       "      <th>31</th>\n",
       "      <td>32</td>\n",
       "      <td>Feb-15-2013</td>\n",
       "      <td>Murder 3</td>\n",
       "      <td>1</td>\n",
       "      <td>Thriller</td>\n",
       "      <td>12Cr</td>\n",
       "      <td>25</td>\n",
       "      <td>2249055</td>\n",
       "      <td>1879.0</td>\n",
       "      <td>NaN</td>\n",
       "      <td>2626</td>\n",
       "    </tr>\n",
       "    <tr>\n",
       "      <th>39</th>\n",
       "      <td>40</td>\n",
       "      <td>Jun-20-2014</td>\n",
       "      <td>Humshakals</td>\n",
       "      <td>2</td>\n",
       "      <td>ComedyGenre</td>\n",
       "      <td>75Cr</td>\n",
       "      <td>63.7</td>\n",
       "      <td>6280868</td>\n",
       "      <td>NaN</td>\n",
       "      <td>1.0</td>\n",
       "      <td>2</td>\n",
       "    </tr>\n",
       "    <tr>\n",
       "      <th>46</th>\n",
       "      <td>47</td>\n",
       "      <td>Mar-15-2013</td>\n",
       "      <td>Mere Dad Ki Maruti</td>\n",
       "      <td>4</td>\n",
       "      <td>ComedyGenre</td>\n",
       "      <td>5Cr</td>\n",
       "      <td>11</td>\n",
       "      <td>569711</td>\n",
       "      <td>1226.0</td>\n",
       "      <td>NaN</td>\n",
       "      <td>1359</td>\n",
       "    </tr>\n",
       "  </tbody>\n",
       "</table>\n",
       "</div>"
      ],
      "text/plain": [
       "    MovieIndex DateReleased                Name  TimeReleased        Genre  \\\n",
       "9           10  Jan-11-2013           Gangoobai             4   DramaGenre   \n",
       "31          32  Feb-15-2013            Murder 3             1     Thriller   \n",
       "39          40  Jun-20-2014          Humshakals             2  ComedyGenre   \n",
       "46          47  Mar-15-2013  Mere Dad Ki Maruti             4  ComedyGenre   \n",
       "\n",
       "   Budget Collection    Views   Likes  Dislikes  TotalVotes  \n",
       "9     2Cr     Cr0.01     4354     1.0       NaN           2  \n",
       "31   12Cr         25  2249055  1879.0       NaN        2626  \n",
       "39   75Cr       63.7  6280868     NaN       1.0           2  \n",
       "46    5Cr         11   569711  1226.0       NaN        1359  "
      ]
     },
     "execution_count": 7,
     "metadata": {},
     "output_type": "execute_result"
    }
   ],
   "source": [
    "# Check and correct null/na columns to avoid future errors\n",
    "# Check and replace null/na to most sensible values\n",
    "hateset1[hateset1.isna().any(axis=1)]"
   ]
  },
  {
   "cell_type": "code",
   "execution_count": 8,
   "metadata": {},
   "outputs": [
    {
     "data": {
      "text/html": [
       "<div>\n",
       "<style scoped>\n",
       "    .dataframe tbody tr th:only-of-type {\n",
       "        vertical-align: middle;\n",
       "    }\n",
       "\n",
       "    .dataframe tbody tr th {\n",
       "        vertical-align: top;\n",
       "    }\n",
       "\n",
       "    .dataframe thead th {\n",
       "        text-align: right;\n",
       "    }\n",
       "</style>\n",
       "<table border=\"1\" class=\"dataframe\">\n",
       "  <thead>\n",
       "    <tr style=\"text-align: right;\">\n",
       "      <th></th>\n",
       "      <th>MovieIndex</th>\n",
       "      <th>DateReleased</th>\n",
       "      <th>Name</th>\n",
       "      <th>TimeReleased</th>\n",
       "      <th>Genre</th>\n",
       "      <th>Budget</th>\n",
       "      <th>Collection</th>\n",
       "      <th>Views</th>\n",
       "      <th>Likes</th>\n",
       "      <th>Dislikes</th>\n",
       "      <th>TotalVotes</th>\n",
       "    </tr>\n",
       "  </thead>\n",
       "  <tbody>\n",
       "  </tbody>\n",
       "</table>\n",
       "</div>"
      ],
      "text/plain": [
       "Empty DataFrame\n",
       "Columns: [MovieIndex, DateReleased, Name, TimeReleased, Genre, Budget, Collection, Views, Likes, Dislikes, TotalVotes]\n",
       "Index: []"
      ]
     },
     "execution_count": 8,
     "metadata": {},
     "output_type": "execute_result"
    }
   ],
   "source": [
    "# Replace Likes and Dislikes with correct values\n",
    "index = hateset1[pd.isna(hateset1.Likes)].index\n",
    "hateset1.loc[index,('Likes')] = hateset1.TotalVotes[index] - hateset1.Dislikes[index]\n",
    "\n",
    "index = hateset1[pd.isna(hateset1.Dislikes)].index\n",
    "hateset1.loc[index,('Dislikes')] = hateset1.TotalVotes[index] - hateset1.Likes[index]\n",
    "hateset1[hateset1.isna().any(axis=1)]"
   ]
  },
  {
   "cell_type": "code",
   "execution_count": 9,
   "metadata": {},
   "outputs": [
    {
     "data": {
      "text/html": [
       "<div>\n",
       "<style scoped>\n",
       "    .dataframe tbody tr th:only-of-type {\n",
       "        vertical-align: middle;\n",
       "    }\n",
       "\n",
       "    .dataframe tbody tr th {\n",
       "        vertical-align: top;\n",
       "    }\n",
       "\n",
       "    .dataframe thead th {\n",
       "        text-align: right;\n",
       "    }\n",
       "</style>\n",
       "<table border=\"1\" class=\"dataframe\">\n",
       "  <thead>\n",
       "    <tr style=\"text-align: right;\">\n",
       "      <th></th>\n",
       "      <th>MovieIndex</th>\n",
       "      <th>DateReleased</th>\n",
       "      <th>Name</th>\n",
       "      <th>TimeReleased</th>\n",
       "      <th>Genre</th>\n",
       "      <th>Budget</th>\n",
       "      <th>Collection</th>\n",
       "      <th>Views</th>\n",
       "      <th>Likes</th>\n",
       "      <th>Dislikes</th>\n",
       "      <th>TotalVotes</th>\n",
       "    </tr>\n",
       "  </thead>\n",
       "  <tbody>\n",
       "  </tbody>\n",
       "</table>\n",
       "</div>"
      ],
      "text/plain": [
       "Empty DataFrame\n",
       "Columns: [MovieIndex, DateReleased, Name, TimeReleased, Genre, Budget, Collection, Views, Likes, Dislikes, TotalVotes]\n",
       "Index: []"
      ]
     },
     "execution_count": 9,
     "metadata": {},
     "output_type": "execute_result"
    }
   ],
   "source": [
    "hateset2[hateset2.isnull().any(axis=1)]\n",
    "# Nothing here"
   ]
  },
  {
   "cell_type": "code",
   "execution_count": 10,
   "metadata": {},
   "outputs": [
    {
     "data": {
      "text/plain": [
       "Budget           object\n",
       "Collection       object\n",
       "DateReleased     object\n",
       "Dislikes        float64\n",
       "Genre            object\n",
       "Likes           float64\n",
       "MovieIndex        int64\n",
       "Name             object\n",
       "TimeReleased      int64\n",
       "TotalVotes        int64\n",
       "Views             int64\n",
       "dtype: object"
      ]
     },
     "metadata": {},
     "output_type": "display_data"
    },
    {
     "data": {
      "text/plain": [
       "Budget            int64\n",
       "Collection      float64\n",
       "DateReleased     object\n",
       "Dislikes          int64\n",
       "Genre            object\n",
       "Likes             int64\n",
       "MovieIndex        int64\n",
       "Name             object\n",
       "TimeReleased     object\n",
       "TotalVotes        int64\n",
       "Views             int64\n",
       "dtype: object"
      ]
     },
     "metadata": {},
     "output_type": "display_data"
    }
   ],
   "source": [
    "# Columns types between data-sets differ\n",
    "# Convert types between the sets to most sensible common type\n",
    "display(hateset1.sort_index(axis=1).dtypes, hateset2.sort_index(axis=1).dtypes)"
   ]
  },
  {
   "cell_type": "code",
   "execution_count": 11,
   "metadata": {},
   "outputs": [],
   "source": [
    "# Likes and Dislikes to be int\n",
    "hateset1.Likes = hateset1.Likes.astype('int64', copy=False)\n",
    "hateset1.Dislikes = hateset1.Dislikes.astype('int64', copy=False)\n",
    "\n",
    "# Name, Genre to be string in both hatesets\n",
    "hateset1.Name = hateset1.Name.astype('string', copy=False)\n",
    "hateset2.Name = hateset2.Name.astype('string', copy=False)"
   ]
  },
  {
   "cell_type": "code",
   "execution_count": 12,
   "metadata": {},
   "outputs": [
    {
     "name": "stdout",
     "output_type": "stream",
     "text": [
      "Before cleaning: \n",
      "Hateset1: {' DramaGenre', 'RomanceGenre', ' Drama ', 'ActionGenre', 'ComedyGenre', 'Thriller ', 'Action ', 'Thriller'}\n",
      "Hateset2: {'Romance', ' Drama ', 'Action', 'Thriller', 'Comedy'}\n",
      "\n",
      "After cleaning: \n",
      "Hateset1: {'Romance', 'Action', 'Thriller', 'Drama', 'Comedy'}\n",
      "Hateset2: {'Romance', 'Action', 'Thriller', 'Drama', 'Comedy'}\n"
     ]
    }
   ],
   "source": [
    "# Genre data is messed with string Genre and whitespaces\n",
    "print('Before cleaning: ')\n",
    "print('Hateset1: ' + str(set(hateset1.Genre)))\n",
    "print('Hateset2: ' + str(set(hateset2.Genre)))\n",
    "print()\n",
    "\n",
    "hateset1.Genre = hateset1.Genre.str.replace('Genre','')\n",
    "hateset1.Genre = hateset2.Genre.str.strip().astype('string', copy=False)\n",
    "hateset2.Genre = hateset2.Genre.str.strip().astype('string', copy=False)\n",
    "\n",
    "print('After cleaning: ')\n",
    "print('Hateset1: ' + str(set(hateset1.Genre)))\n",
    "print('Hateset2: ' + str(set(hateset2.Genre)))"
   ]
  },
  {
   "cell_type": "code",
   "execution_count": 13,
   "metadata": {},
   "outputs": [],
   "source": [
    "# Budget data is messed with string Cr\n",
    "# Convert Budget to string to ease cleaning and make it as int\n",
    "hateset1.Budget.astype('string')\n",
    "hateset1.Budget = hateset1.Budget.str.replace('Cr','')\n",
    "hateset1.Budget = hateset1.Budget.astype('int64', copy=False)"
   ]
  },
  {
   "cell_type": "code",
   "execution_count": 14,
   "metadata": {},
   "outputs": [],
   "source": [
    "# Collection data is messed with string Cr\n",
    "# Convert Collection to string to ease cleaning and make it as int\n",
    "hateset1.Collection.astype('string')\n",
    "hateset1.Collection = hateset1.Collection.str.replace('Cr','')\n",
    "hateset1.Collection = hateset1.Collection.astype('float', copy=False)"
   ]
  },
  {
   "cell_type": "code",
   "execution_count": 15,
   "metadata": {},
   "outputs": [
    {
     "data": {
      "text/html": [
       "<div>\n",
       "<style scoped>\n",
       "    .dataframe tbody tr th:only-of-type {\n",
       "        vertical-align: middle;\n",
       "    }\n",
       "\n",
       "    .dataframe tbody tr th {\n",
       "        vertical-align: top;\n",
       "    }\n",
       "\n",
       "    .dataframe thead th {\n",
       "        text-align: right;\n",
       "    }\n",
       "</style>\n",
       "<table border=\"1\" class=\"dataframe\">\n",
       "  <thead>\n",
       "    <tr style=\"text-align: right;\">\n",
       "      <th></th>\n",
       "      <th>MovieIndex</th>\n",
       "      <th>DateReleased</th>\n",
       "      <th>Name</th>\n",
       "      <th>TimeReleased</th>\n",
       "      <th>Genre</th>\n",
       "      <th>Budget</th>\n",
       "      <th>Collection</th>\n",
       "      <th>Views</th>\n",
       "      <th>Likes</th>\n",
       "      <th>Dislikes</th>\n",
       "      <th>TotalVotes</th>\n",
       "    </tr>\n",
       "  </thead>\n",
       "  <tbody>\n",
       "    <tr>\n",
       "      <th>6</th>\n",
       "      <td>7</td>\n",
       "      <td>Sqp-19-2014</td>\n",
       "      <td>Daawat-E-Ishq</td>\n",
       "      <td>4</td>\n",
       "      <td>Drama</td>\n",
       "      <td>30</td>\n",
       "      <td>24.60</td>\n",
       "      <td>3905050</td>\n",
       "      <td>8315</td>\n",
       "      <td>1373</td>\n",
       "      <td>9688</td>\n",
       "    </tr>\n",
       "    <tr>\n",
       "      <th>12</th>\n",
       "      <td>13</td>\n",
       "      <td>Jum-27-2014</td>\n",
       "      <td>Ek Villain</td>\n",
       "      <td>2</td>\n",
       "      <td>Thriller</td>\n",
       "      <td>35</td>\n",
       "      <td>105.50</td>\n",
       "      <td>4518748</td>\n",
       "      <td>13558</td>\n",
       "      <td>1094</td>\n",
       "      <td>14652</td>\n",
       "    </tr>\n",
       "    <tr>\n",
       "      <th>17</th>\n",
       "      <td>18</td>\n",
       "      <td>juu-6-2014</td>\n",
       "      <td>Filmistaan</td>\n",
       "      <td>2</td>\n",
       "      <td>Romance</td>\n",
       "      <td>10</td>\n",
       "      <td>6.00</td>\n",
       "      <td>989096</td>\n",
       "      <td>1608</td>\n",
       "      <td>173</td>\n",
       "      <td>1781</td>\n",
       "    </tr>\n",
       "    <tr>\n",
       "      <th>34</th>\n",
       "      <td>35</td>\n",
       "      <td>Feb-21-204</td>\n",
       "      <td>Highway</td>\n",
       "      <td>4</td>\n",
       "      <td>Comedy</td>\n",
       "      <td>30</td>\n",
       "      <td>27.25</td>\n",
       "      <td>3043012</td>\n",
       "      <td>9100</td>\n",
       "      <td>971</td>\n",
       "      <td>10071</td>\n",
       "    </tr>\n",
       "  </tbody>\n",
       "</table>\n",
       "</div>"
      ],
      "text/plain": [
       "    MovieIndex DateReleased           Name  TimeReleased     Genre  Budget  \\\n",
       "6            7  Sqp-19-2014  Daawat-E-Ishq             4     Drama      30   \n",
       "12          13  Jum-27-2014     Ek Villain             2  Thriller      35   \n",
       "17          18   juu-6-2014     Filmistaan             2   Romance      10   \n",
       "34          35   Feb-21-204        Highway             4    Comedy      30   \n",
       "\n",
       "    Collection    Views  Likes  Dislikes  TotalVotes  \n",
       "6        24.60  3905050   8315      1373        9688  \n",
       "12      105.50  4518748  13558      1094       14652  \n",
       "17        6.00   989096   1608       173        1781  \n",
       "34       27.25  3043012   9100       971       10071  "
      ]
     },
     "execution_count": 15,
     "metadata": {},
     "output_type": "execute_result"
    }
   ],
   "source": [
    "# Clean the DateReleased column and data\n",
    "hateset1[pd.to_datetime(hateset1.DateReleased, errors='coerce', infer_datetime_format=True).isnull()]"
   ]
  },
  {
   "cell_type": "code",
   "execution_count": 16,
   "metadata": {},
   "outputs": [],
   "source": [
    "# Getting the actual dates from an external KB (google.com)\n",
    "hateset1.loc[6, ['DateReleased']] = 'Sep-19-2014'\n",
    "hateset1.loc[12, ['DateReleased']] = 'Jun-27-2014'\n",
    "hateset1.loc[17, ['DateReleased']] = 'Jun-6-2014'\n",
    "hateset1.loc[34, ['DateReleased']] = 'Feb-21-2014'\n",
    "hateset1.DateReleased = pd.to_datetime(hateset1.DateReleased, errors='coerce', infer_datetime_format=True)"
   ]
  },
  {
   "cell_type": "code",
   "execution_count": 17,
   "metadata": {},
   "outputs": [
    {
     "data": {
      "text/html": [
       "<div>\n",
       "<style scoped>\n",
       "    .dataframe tbody tr th:only-of-type {\n",
       "        vertical-align: middle;\n",
       "    }\n",
       "\n",
       "    .dataframe tbody tr th {\n",
       "        vertical-align: top;\n",
       "    }\n",
       "\n",
       "    .dataframe thead th {\n",
       "        text-align: right;\n",
       "    }\n",
       "</style>\n",
       "<table border=\"1\" class=\"dataframe\">\n",
       "  <thead>\n",
       "    <tr style=\"text-align: right;\">\n",
       "      <th></th>\n",
       "      <th>MovieIndex</th>\n",
       "      <th>DateReleased</th>\n",
       "      <th>Name</th>\n",
       "      <th>TimeReleased</th>\n",
       "      <th>Genre</th>\n",
       "      <th>Budget</th>\n",
       "      <th>Collection</th>\n",
       "      <th>Views</th>\n",
       "      <th>Likes</th>\n",
       "      <th>Dislikes</th>\n",
       "      <th>TotalVotes</th>\n",
       "    </tr>\n",
       "  </thead>\n",
       "  <tbody>\n",
       "  </tbody>\n",
       "</table>\n",
       "</div>"
      ],
      "text/plain": [
       "Empty DataFrame\n",
       "Columns: [MovieIndex, DateReleased, Name, TimeReleased, Genre, Budget, Collection, Views, Likes, Dislikes, TotalVotes]\n",
       "Index: []"
      ]
     },
     "execution_count": 17,
     "metadata": {},
     "output_type": "execute_result"
    }
   ],
   "source": [
    "hateset2[pd.to_datetime(hateset2.DateReleased, errors='coerce', infer_datetime_format=True).isnull()]"
   ]
  },
  {
   "cell_type": "code",
   "execution_count": 18,
   "metadata": {},
   "outputs": [],
   "source": [
    "hateset2.DateReleased = pd.to_datetime(hateset2.DateReleased, errors='coerce', infer_datetime_format=True)"
   ]
  },
  {
   "cell_type": "code",
   "execution_count": 19,
   "metadata": {},
   "outputs": [
    {
     "data": {
      "text/plain": [
       "Budget                   int64\n",
       "Collection             float64\n",
       "DateReleased    datetime64[ns]\n",
       "Dislikes                 int64\n",
       "Genre                   string\n",
       "Likes                    int64\n",
       "MovieIndex               int64\n",
       "Name                    string\n",
       "TimeReleased             int64\n",
       "TotalVotes               int64\n",
       "Views                    int64\n",
       "dtype: object"
      ]
     },
     "metadata": {},
     "output_type": "display_data"
    },
    {
     "data": {
      "text/plain": [
       "Budget                   int64\n",
       "Collection             float64\n",
       "DateReleased    datetime64[ns]\n",
       "Dislikes                 int64\n",
       "Genre                   string\n",
       "Likes                    int64\n",
       "MovieIndex               int64\n",
       "Name                    string\n",
       "TimeReleased            object\n",
       "TotalVotes               int64\n",
       "Views                    int64\n",
       "dtype: object"
      ]
     },
     "metadata": {},
     "output_type": "display_data"
    }
   ],
   "source": [
    "# Check that we are satisfied with the cleaning and data types\n",
    "display(hateset1.sort_index(axis=1).dtypes, hateset2.sort_index(axis=1).dtypes)"
   ]
  },
  {
   "cell_type": "code",
   "execution_count": 20,
   "metadata": {},
   "outputs": [
    {
     "data": {
      "text/html": [
       "<div>\n",
       "<style scoped>\n",
       "    .dataframe tbody tr th:only-of-type {\n",
       "        vertical-align: middle;\n",
       "    }\n",
       "\n",
       "    .dataframe tbody tr th {\n",
       "        vertical-align: top;\n",
       "    }\n",
       "\n",
       "    .dataframe thead th {\n",
       "        text-align: right;\n",
       "    }\n",
       "</style>\n",
       "<table border=\"1\" class=\"dataframe\">\n",
       "  <thead>\n",
       "    <tr style=\"text-align: right;\">\n",
       "      <th></th>\n",
       "      <th>MovieIndex</th>\n",
       "      <th>DateReleased</th>\n",
       "      <th>Name</th>\n",
       "      <th>TimeReleased</th>\n",
       "      <th>Genre</th>\n",
       "      <th>Budget</th>\n",
       "      <th>Collection</th>\n",
       "      <th>Views</th>\n",
       "      <th>Likes</th>\n",
       "      <th>Dislikes</th>\n",
       "      <th>TotalVotes</th>\n",
       "    </tr>\n",
       "  </thead>\n",
       "  <tbody>\n",
       "    <tr>\n",
       "      <th>0</th>\n",
       "      <td>1</td>\n",
       "      <td>2014-04-18</td>\n",
       "      <td>2 States</td>\n",
       "      <td>3</td>\n",
       "      <td>Romance</td>\n",
       "      <td>36</td>\n",
       "      <td>104.0</td>\n",
       "      <td>8576361</td>\n",
       "      <td>26622</td>\n",
       "      <td>2527</td>\n",
       "      <td>29149</td>\n",
       "    </tr>\n",
       "    <tr>\n",
       "      <th>1</th>\n",
       "      <td>2</td>\n",
       "      <td>2013-01-04</td>\n",
       "      <td>Table No. 21</td>\n",
       "      <td>4</td>\n",
       "      <td>Thriller</td>\n",
       "      <td>10</td>\n",
       "      <td>12.0</td>\n",
       "      <td>1087320</td>\n",
       "      <td>1129</td>\n",
       "      <td>137</td>\n",
       "      <td>1266</td>\n",
       "    </tr>\n",
       "  </tbody>\n",
       "</table>\n",
       "</div>"
      ],
      "text/plain": [
       "   MovieIndex DateReleased          Name TimeReleased     Genre  Budget  \\\n",
       "0           1   2014-04-18      2 States            3   Romance      36   \n",
       "1           2   2013-01-04  Table No. 21            4  Thriller      10   \n",
       "\n",
       "   Collection    Views  Likes  Dislikes  TotalVotes  \n",
       "0       104.0  8576361  26622      2527       29149  \n",
       "1        12.0  1087320   1129       137        1266  "
      ]
     },
     "metadata": {},
     "output_type": "display_data"
    },
    {
     "data": {
      "text/html": [
       "<div>\n",
       "<style scoped>\n",
       "    .dataframe tbody tr th:only-of-type {\n",
       "        vertical-align: middle;\n",
       "    }\n",
       "\n",
       "    .dataframe tbody tr th {\n",
       "        vertical-align: top;\n",
       "    }\n",
       "\n",
       "    .dataframe thead th {\n",
       "        text-align: right;\n",
       "    }\n",
       "</style>\n",
       "<table border=\"1\" class=\"dataframe\">\n",
       "  <thead>\n",
       "    <tr style=\"text-align: right;\">\n",
       "      <th></th>\n",
       "      <th>MovieIndex</th>\n",
       "      <th>DateReleased</th>\n",
       "      <th>Name</th>\n",
       "      <th>TimeReleased</th>\n",
       "      <th>Genre</th>\n",
       "      <th>Budget</th>\n",
       "      <th>Collection</th>\n",
       "      <th>Views</th>\n",
       "      <th>Likes</th>\n",
       "      <th>Dislikes</th>\n",
       "      <th>TotalVotes</th>\n",
       "    </tr>\n",
       "  </thead>\n",
       "  <tbody>\n",
       "    <tr>\n",
       "      <th>148</th>\n",
       "      <td>148</td>\n",
       "      <td>2015-03-20</td>\n",
       "      <td>Hunterrr</td>\n",
       "      <td>N</td>\n",
       "      <td>Comedy</td>\n",
       "      <td>5</td>\n",
       "      <td>11.89</td>\n",
       "      <td>4674795</td>\n",
       "      <td>3706</td>\n",
       "      <td>762</td>\n",
       "      <td>4468</td>\n",
       "    </tr>\n",
       "    <tr>\n",
       "      <th>149</th>\n",
       "      <td>149</td>\n",
       "      <td>2014-05-23</td>\n",
       "      <td>Kochadaiiyaan</td>\n",
       "      <td>HS</td>\n",
       "      <td>Action</td>\n",
       "      <td>150</td>\n",
       "      <td>120.00</td>\n",
       "      <td>4740727</td>\n",
       "      <td>13466</td>\n",
       "      <td>2649</td>\n",
       "      <td>16115</td>\n",
       "    </tr>\n",
       "  </tbody>\n",
       "</table>\n",
       "</div>"
      ],
      "text/plain": [
       "     MovieIndex DateReleased           Name TimeReleased   Genre  Budget  \\\n",
       "148         148   2015-03-20       Hunterrr            N  Comedy       5   \n",
       "149         149   2014-05-23  Kochadaiiyaan           HS  Action     150   \n",
       "\n",
       "     Collection    Views  Likes  Dislikes  TotalVotes  \n",
       "148       11.89  4674795   3706       762        4468  \n",
       "149      120.00  4740727  13466      2649       16115  "
      ]
     },
     "metadata": {},
     "output_type": "display_data"
    }
   ],
   "source": [
    "# Merge the very hated data sets\n",
    "# Note that TimeReleased is still a mixed data type column and we will clean this after merge\n",
    "hateset = pd.concat([hateset1,hateset2], ignore_index=True)\n",
    "display(hateset.head(2), hateset.tail(2))"
   ]
  },
  {
   "cell_type": "code",
   "execution_count": 21,
   "metadata": {},
   "outputs": [
    {
     "data": {
      "text/plain": [
       "1"
      ]
     },
     "execution_count": 21,
     "metadata": {},
     "output_type": "execute_result"
    }
   ],
   "source": [
    "# Check resulting duplicates on the data-set's index which is MovieIndex\n",
    "hateset.iloc[:,0].duplicated().sum()"
   ]
  },
  {
   "cell_type": "code",
   "execution_count": 22,
   "metadata": {},
   "outputs": [
    {
     "data": {
      "text/plain": [
       "51     2\n",
       "149    1\n",
       "Name: MovieIndex, dtype: int64"
      ]
     },
     "execution_count": 22,
     "metadata": {},
     "output_type": "execute_result"
    }
   ],
   "source": [
    "# Alternate way of testing uniques\n",
    "hateset.MovieIndex.value_counts().head(2)"
   ]
  },
  {
   "cell_type": "code",
   "execution_count": 23,
   "metadata": {},
   "outputs": [
    {
     "data": {
      "text/html": [
       "<div>\n",
       "<style scoped>\n",
       "    .dataframe tbody tr th:only-of-type {\n",
       "        vertical-align: middle;\n",
       "    }\n",
       "\n",
       "    .dataframe tbody tr th {\n",
       "        vertical-align: top;\n",
       "    }\n",
       "\n",
       "    .dataframe thead th {\n",
       "        text-align: right;\n",
       "    }\n",
       "</style>\n",
       "<table border=\"1\" class=\"dataframe\">\n",
       "  <thead>\n",
       "    <tr style=\"text-align: right;\">\n",
       "      <th></th>\n",
       "      <th>MovieIndex</th>\n",
       "      <th>DateReleased</th>\n",
       "      <th>Name</th>\n",
       "      <th>TimeReleased</th>\n",
       "      <th>Genre</th>\n",
       "      <th>Budget</th>\n",
       "      <th>Collection</th>\n",
       "      <th>Views</th>\n",
       "      <th>Likes</th>\n",
       "      <th>Dislikes</th>\n",
       "      <th>TotalVotes</th>\n",
       "    </tr>\n",
       "  </thead>\n",
       "  <tbody>\n",
       "    <tr>\n",
       "      <th>50</th>\n",
       "      <td>51</td>\n",
       "      <td>2014-07-07</td>\n",
       "      <td>Lekar Hum Deewana Dil</td>\n",
       "      <td>4</td>\n",
       "      <td>Action</td>\n",
       "      <td>16</td>\n",
       "      <td>2.5</td>\n",
       "      <td>3998331</td>\n",
       "      <td>2307</td>\n",
       "      <td>497</td>\n",
       "      <td>2804</td>\n",
       "    </tr>\n",
       "    <tr>\n",
       "      <th>51</th>\n",
       "      <td>51</td>\n",
       "      <td>2014-07-04</td>\n",
       "      <td>Lekar Hum Deewana Dil</td>\n",
       "      <td>N</td>\n",
       "      <td>Romance</td>\n",
       "      <td>16</td>\n",
       "      <td>2.5</td>\n",
       "      <td>3998331</td>\n",
       "      <td>2307</td>\n",
       "      <td>497</td>\n",
       "      <td>2804</td>\n",
       "    </tr>\n",
       "  </tbody>\n",
       "</table>\n",
       "</div>"
      ],
      "text/plain": [
       "    MovieIndex DateReleased                   Name TimeReleased    Genre  \\\n",
       "50          51   2014-07-07  Lekar Hum Deewana Dil            4   Action   \n",
       "51          51   2014-07-04  Lekar Hum Deewana Dil            N  Romance   \n",
       "\n",
       "    Budget  Collection    Views  Likes  Dislikes  TotalVotes  \n",
       "50      16         2.5  3998331   2307       497        2804  \n",
       "51      16         2.5  3998331   2307       497        2804  "
      ]
     },
     "execution_count": 23,
     "metadata": {},
     "output_type": "execute_result"
    }
   ],
   "source": [
    "# We have one duplicate row, get and sort it out\n",
    "hateset[hateset.MovieIndex == hateset[hateset.MovieIndex.duplicated()].index[0]]"
   ]
  },
  {
   "cell_type": "code",
   "execution_count": 24,
   "metadata": {},
   "outputs": [],
   "source": [
    "# The first hate set was more prone to errors and hence we keep the second one\n",
    "hateset.drop(index=hateset[(hateset.MovieIndex == 51) & (hateset.TimeReleased == 4)].index, inplace=True, axis=0)\n",
    "# Set the index to MovieIndex\n",
    "hateset.set_index('MovieIndex', inplace=True)"
   ]
  },
  {
   "cell_type": "code",
   "execution_count": 25,
   "metadata": {},
   "outputs": [
    {
     "name": "stdout",
     "output_type": "stream",
     "text": [
      "Before cleaning: \n",
      "TimeReleased: {'N', 1, 2, 3, 4, 44, 'LW', 'HS', 'FS'}\n",
      "\n",
      "After cleaning: \n",
      "TimeReleased: {'N', 'HS', 'LW', 'FS'}\n"
     ]
    }
   ],
   "source": [
    "# Clean TimeReleased data\n",
    "print('Before cleaning: ')\n",
    "print('TimeReleased: ' + str(set(hateset.TimeReleased)))\n",
    "print()\n",
    "\n",
    "def timeMap(l):\n",
    "    mapper = {1:\"FS\", 2:\"HS\", 3:\"LW\", 4:\"N\", 44:\"N\", \"LW\":\"LW\", \"N\":\"N\", \"FS\":\"FS\", \"HS\":\"HS\"}\n",
    "    return mapper.get(l, 'NaN')\n",
    "hateset.TimeReleased = hateset.TimeReleased.map(lambda l:timeMap(l))\n",
    "hateset.TimeReleased = hateset.TimeReleased.astype('string', copy=False)\n",
    "\n",
    "print('After cleaning: ')\n",
    "print('TimeReleased: ' + str(set(hateset.TimeReleased)))"
   ]
  },
  {
   "cell_type": "code",
   "execution_count": 26,
   "metadata": {},
   "outputs": [],
   "source": [
    "# Add ROI column to hateset\n",
    "hateset['ROI'] = (hateset.Collection - hateset.Budget)/hateset.Budget"
   ]
  },
  {
   "cell_type": "code",
   "execution_count": 27,
   "metadata": {},
   "outputs": [
    {
     "data": {
      "text/plain": [
       "DateReleased    datetime64[ns]\n",
       "Name                    string\n",
       "TimeReleased            string\n",
       "Genre                   string\n",
       "Budget                   int64\n",
       "Collection             float64\n",
       "Views                    int64\n",
       "Likes                    int64\n",
       "Dislikes                 int64\n",
       "TotalVotes               int64\n",
       "ROI                    float64\n",
       "dtype: object"
      ]
     },
     "execution_count": 27,
     "metadata": {},
     "output_type": "execute_result"
    }
   ],
   "source": [
    "hateset.dtypes"
   ]
  },
  {
   "cell_type": "code",
   "execution_count": null,
   "metadata": {},
   "outputs": [],
   "source": []
  },
  {
   "cell_type": "markdown",
   "metadata": {},
   "source": [
    "### Q1. Identify and rectify the eight prominent data quality issues present in the given datasets."
   ]
  },
  {
   "cell_type": "code",
   "execution_count": 28,
   "metadata": {},
   "outputs": [],
   "source": [
    "### Below line items were performed in order listed from the top of the notebook\n",
    "# 1.  Column indices/names\n",
    "# 2.  Missing column\n",
    "# 3.  Genre enumeration set cleaning\n",
    "# 4.  Budget column cleaning\n",
    "# 5.  Collection column cleaning\n",
    "# 6.  DateReleased column cleaning\n",
    "# 7.  Cleaning NaNs from Likes\n",
    "# 8.  Cleaning NaNs from Dislikes\n",
    "# 9.  Removing duplicated records\n",
    "# 10. Cleaning TimeReleased enum\n",
    "# 11. Set the column types for easy operations"
   ]
  },
  {
   "cell_type": "markdown",
   "metadata": {},
   "source": [
    "### Q2. How many records are present in the dataset? Print the metadata information of dataset. "
   ]
  },
  {
   "cell_type": "code",
   "execution_count": 29,
   "metadata": {},
   "outputs": [
    {
     "name": "stdout",
     "output_type": "stream",
     "text": [
      "Hateset1 :  51 records\n",
      "Hateset2 :  99 records\n",
      "   Total : 149 records\n"
     ]
    }
   ],
   "source": [
    "print(\"\"\"Hateset1 :  {} records\n",
    "Hateset2 :  {} records\n",
    "   Total : {} records\"\"\".format(hateset1.shape[0], hateset2.shape[0], hateset.shape[0]))\n",
    "# A duplicate record was removed and hence you will see one less in Total records"
   ]
  },
  {
   "cell_type": "code",
   "execution_count": 30,
   "metadata": {},
   "outputs": [
    {
     "name": "stdout",
     "output_type": "stream",
     "text": [
      "Size - 1639\n",
      "Shape - (149, 11)\n",
      "Dimensions - 2\n",
      "\n",
      "<class 'pandas.core.frame.DataFrame'>\n",
      "Int64Index: 149 entries, 1 to 149\n",
      "Data columns (total 11 columns):\n",
      " #   Column        Non-Null Count  Dtype         \n",
      "---  ------        --------------  -----         \n",
      " 0   DateReleased  149 non-null    datetime64[ns]\n",
      " 1   Name          149 non-null    string        \n",
      " 2   TimeReleased  149 non-null    string        \n",
      " 3   Genre         149 non-null    string        \n",
      " 4   Budget        149 non-null    int64         \n",
      " 5   Collection    149 non-null    float64       \n",
      " 6   Views         149 non-null    int64         \n",
      " 7   Likes         149 non-null    int64         \n",
      " 8   Dislikes      149 non-null    int64         \n",
      " 9   TotalVotes    149 non-null    int64         \n",
      " 10  ROI           149 non-null    float64       \n",
      "dtypes: datetime64[ns](1), float64(2), int64(5), string(3)\n",
      "memory usage: 14.0 KB\n",
      "None\n"
     ]
    }
   ],
   "source": [
    "# 149 records are present in the dataset\n",
    "# Some more Metadata below. We have already seen the data-types and column listings\n",
    "print(\"\"\"Size - {}\n",
    "Shape - {}\n",
    "Dimensions - {}\n",
    "\"\"\".format(hateset.size, hateset.shape, hateset.ndim))\n",
    "print(hateset.info())"
   ]
  },
  {
   "cell_type": "markdown",
   "metadata": {},
   "source": [
    "### Q3. How many movies in each genre got released in different release times?"
   ]
  },
  {
   "cell_type": "code",
   "execution_count": 31,
   "metadata": {},
   "outputs": [
    {
     "data": {
      "text/plain": [
       "{'Comedy': 37, 'Drama': 34, 'Thriller': 32, 'Romance': 26, 'Action': 20}"
      ]
     },
     "execution_count": 31,
     "metadata": {},
     "output_type": "execute_result"
    }
   ],
   "source": [
    "dict(hateset.Genre.value_counts())"
   ]
  },
  {
   "cell_type": "code",
   "execution_count": 32,
   "metadata": {},
   "outputs": [
    {
     "data": {
      "text/html": [
       "<div>\n",
       "<style scoped>\n",
       "    .dataframe tbody tr th:only-of-type {\n",
       "        vertical-align: middle;\n",
       "    }\n",
       "\n",
       "    .dataframe tbody tr th {\n",
       "        vertical-align: top;\n",
       "    }\n",
       "\n",
       "    .dataframe thead th {\n",
       "        text-align: right;\n",
       "    }\n",
       "</style>\n",
       "<table border=\"1\" class=\"dataframe\">\n",
       "  <thead>\n",
       "    <tr style=\"text-align: right;\">\n",
       "      <th>TimeReleased</th>\n",
       "      <th>FS</th>\n",
       "      <th>HS</th>\n",
       "      <th>LW</th>\n",
       "      <th>N</th>\n",
       "    </tr>\n",
       "    <tr>\n",
       "      <th>Genre</th>\n",
       "      <th></th>\n",
       "      <th></th>\n",
       "      <th></th>\n",
       "      <th></th>\n",
       "    </tr>\n",
       "  </thead>\n",
       "  <tbody>\n",
       "    <tr>\n",
       "      <th>Action</th>\n",
       "      <td>3</td>\n",
       "      <td>1</td>\n",
       "      <td>3</td>\n",
       "      <td>13</td>\n",
       "    </tr>\n",
       "    <tr>\n",
       "      <th>Comedy</th>\n",
       "      <td>3</td>\n",
       "      <td>3</td>\n",
       "      <td>4</td>\n",
       "      <td>27</td>\n",
       "    </tr>\n",
       "    <tr>\n",
       "      <th>Drama</th>\n",
       "      <td>3</td>\n",
       "      <td>7</td>\n",
       "      <td>2</td>\n",
       "      <td>22</td>\n",
       "    </tr>\n",
       "    <tr>\n",
       "      <th>Romance</th>\n",
       "      <td>4</td>\n",
       "      <td>3</td>\n",
       "      <td>5</td>\n",
       "      <td>14</td>\n",
       "    </tr>\n",
       "    <tr>\n",
       "      <th>Thriller</th>\n",
       "      <td>4</td>\n",
       "      <td>4</td>\n",
       "      <td>1</td>\n",
       "      <td>23</td>\n",
       "    </tr>\n",
       "  </tbody>\n",
       "</table>\n",
       "</div>"
      ],
      "text/plain": [
       "TimeReleased  FS  HS  LW   N\n",
       "Genre                       \n",
       "Action         3   1   3  13\n",
       "Comedy         3   3   4  27\n",
       "Drama          3   7   2  22\n",
       "Romance        4   3   5  14\n",
       "Thriller       4   4   1  23"
      ]
     },
     "execution_count": 32,
     "metadata": {},
     "output_type": "execute_result"
    }
   ],
   "source": [
    "# Comedy saw 37 movie releases while Drama had 34 releases, also 32 Thriller, 26 Romance and 20 Action movies were released.\n",
    "# Break-up of each Genre w.r.t the Release Time is shown below\n",
    "hateset.groupby([hateset.Genre, hateset.TimeReleased]).Genre.count().unstack()"
   ]
  },
  {
   "cell_type": "markdown",
   "metadata": {},
   "source": [
    "### Q4. Which month of the year, maximum movie releases are seen?"
   ]
  },
  {
   "cell_type": "code",
   "execution_count": 33,
   "metadata": {},
   "outputs": [
    {
     "data": {
      "text/plain": [
       "{2013, 2014, 2015}"
      ]
     },
     "execution_count": 33,
     "metadata": {},
     "output_type": "execute_result"
    }
   ],
   "source": [
    "# Year is not specified, check how many years are present\n",
    "set(hateset.DateReleased.dt.year.unique())"
   ]
  },
  {
   "cell_type": "code",
   "execution_count": 34,
   "metadata": {},
   "outputs": [
    {
     "data": {
      "text/plain": [
       "Year  Month  \n",
       "2013  July       9\n",
       "      March      8\n",
       "      January    8\n",
       "      October    6\n",
       "      May        6\n",
       "Name: DateReleased, dtype: int64"
      ]
     },
     "metadata": {},
     "output_type": "display_data"
    },
    {
     "data": {
      "text/plain": [
       "Year  Month   \n",
       "2014  May         12\n",
       "      March        8\n",
       "      July         7\n",
       "      January      7\n",
       "      February     6\n",
       "Name: DateReleased, dtype: int64"
      ]
     },
     "metadata": {},
     "output_type": "display_data"
    },
    {
     "data": {
      "text/plain": [
       "Year  Month   \n",
       "2015  January     5\n",
       "      February    4\n",
       "      March       3\n",
       "Name: DateReleased, dtype: int64"
      ]
     },
     "metadata": {},
     "output_type": "display_data"
    }
   ],
   "source": [
    "# We have 3 years, check which month of each year maximum movie releases are seen\n",
    "display(hateset[hateset.DateReleased.dt.year == 2013].groupby(by=[hateset.DateReleased.dt.year,\n",
    "                                                                  hateset.DateReleased.dt.strftime('%B')]).\n",
    "        agg({'DateReleased':'count'}).DateReleased.sort_values(ascending=False).rename_axis([\"Year\", \"Month\"]).head(),\n",
    "        hateset[hateset.DateReleased.dt.year == 2014].groupby(by=[hateset.DateReleased.dt.year,\n",
    "                                                                  hateset.DateReleased.dt.strftime('%B')]).\n",
    "        agg({'DateReleased':'count'}).DateReleased.sort_values(ascending=False).rename_axis([\"Year\", \"Month\"]).head(),\n",
    "        hateset[hateset.DateReleased.dt.year == 2015].groupby(by=[hateset.DateReleased.dt.year,hateset.\n",
    "                                                                  DateReleased.dt.strftime('%B')]).\n",
    "        agg({'DateReleased':'count'}).DateReleased.sort_values(ascending=False).rename_axis([\"Year\", \"Month\"]).head())"
   ]
  },
  {
   "cell_type": "code",
   "execution_count": 35,
   "metadata": {},
   "outputs": [],
   "source": [
    "## We can see thus infer the following -\n",
    "# 1) July has the maximum movie releases (9) in 2013\n",
    "# 2) May has the maximum movie releases (12) in 2014\n",
    "# 3) January has maximum movie releases (5) in 2015"
   ]
  },
  {
   "cell_type": "code",
   "execution_count": 36,
   "metadata": {},
   "outputs": [
    {
     "name": "stdout",
     "output_type": "stream",
     "text": [
      "Month\n",
      "January    20\n",
      "March      19\n",
      "May        18\n",
      "Name: DateReleased, dtype: int64\n"
     ]
    }
   ],
   "source": [
    "# Aggregating over all years (since the question is ambiguous - which month of which year???)\n",
    "print(hateset.groupby(by=[hateset.DateReleased.dt.strftime('%B')]).agg({'DateReleased':'count'}).\n",
    "      DateReleased.sort_values(ascending=False).rename_axis([\"Month\"]).head(3))\n",
    "# January has the higest of 20 movie releases over 2013/14/15"
   ]
  },
  {
   "cell_type": "markdown",
   "metadata": {},
   "source": [
    "### Q5. Which month of the year typically sees most releases of high budgeted movies, that is, movies with budget of 25 crore or more?"
   ]
  },
  {
   "cell_type": "code",
   "execution_count": 37,
   "metadata": {},
   "outputs": [
    {
     "data": {
      "text/plain": [
       "Year  Month    \n",
       "2013  July         5\n",
       "      September    4\n",
       "      August       4\n",
       "      November     3\n",
       "      February     3\n",
       "Name: DateReleased, dtype: int64"
      ]
     },
     "metadata": {},
     "output_type": "display_data"
    },
    {
     "data": {
      "text/plain": [
       "Year  Month   \n",
       "2014  March       4\n",
       "      February    4\n",
       "      April       4\n",
       "      November    3\n",
       "      June        3\n",
       "Name: DateReleased, dtype: int64"
      ]
     },
     "metadata": {},
     "output_type": "display_data"
    },
    {
     "data": {
      "text/plain": [
       "Year  Month   \n",
       "2015  January     3\n",
       "      February    2\n",
       "      March       1\n",
       "Name: DateReleased, dtype: int64"
      ]
     },
     "metadata": {},
     "output_type": "display_data"
    }
   ],
   "source": [
    "display(hateset[(hateset.Budget >= 25) & (hateset.DateReleased.dt.year == 2013)].\n",
    "        groupby(by=[hateset.DateReleased.dt.year, hateset.DateReleased.dt.strftime('%B')]).\n",
    "        agg({'DateReleased':'count'}).DateReleased.sort_values(ascending=False).rename_axis([\"Year\", \"Month\"]).head(),\n",
    "        hateset[(hateset.Budget >= 25) & (hateset.DateReleased.dt.year == 2014)].\n",
    "        groupby(by=[hateset.DateReleased.dt.year, hateset.DateReleased.dt.strftime('%B')]).\n",
    "        agg({'DateReleased':'count'}).DateReleased.sort_values(ascending=False).rename_axis([\"Year\", \"Month\"]).head(),\n",
    "        hateset[(hateset.Budget >= 25) & (hateset.DateReleased.dt.year == 2015)].\n",
    "        groupby(by=[hateset.DateReleased.dt.year, hateset.DateReleased.dt.strftime('%B')]).\n",
    "        agg({'DateReleased':'count'}).DateReleased.sort_values(ascending=False).rename_axis([\"Year\", \"Month\"]))"
   ]
  },
  {
   "cell_type": "code",
   "execution_count": 38,
   "metadata": {},
   "outputs": [],
   "source": [
    "## We can conclude these facts about high budgeted movies -\n",
    "# 1) 2013 - July had a highest of 5 releases\n",
    "# 2) 2014 - February, March and April equally saw the highest of 4 releases each\n",
    "# 3) 2015 - January had a highest of 3 releases"
   ]
  },
  {
   "cell_type": "code",
   "execution_count": 39,
   "metadata": {},
   "outputs": [
    {
     "name": "stdout",
     "output_type": "stream",
     "text": [
      "Month\n",
      "February    9\n",
      "January     8\n",
      "March       7\n",
      "Name: DateReleased, dtype: int64\n"
     ]
    }
   ],
   "source": [
    "# Aggregating over all years (since the question is ambiguous - which month of which year???)\n",
    "print(hateset[hateset.Budget >= 25].groupby(by=[hateset.DateReleased.dt.strftime('%B')]).agg({'DateReleased':'count'}).\n",
    "      DateReleased.sort_values(ascending=False).rename_axis([\"Month\"]).head(3))\n",
    "# February has the highest of 9 high budget movie releases over 2013/14/15"
   ]
  },
  {
   "cell_type": "markdown",
   "metadata": {},
   "source": [
    "### Q6. Which are the top 10 movies with maximum return of investment (ROI)? Calculate ROI as (Box office collection – Budget) / Budget."
   ]
  },
  {
   "cell_type": "code",
   "execution_count": 40,
   "metadata": {},
   "outputs": [
    {
     "data": {
      "text/html": [
       "<style  type=\"text/css\" >\n",
       "</style><table id=\"T_70af159c_935a_11ea_b95f_f48e38f24abc\" ><thead>    <tr>        <th class=\"col_heading level0 col0\" >Name</th>        <th class=\"col_heading level0 col1\" >ROI</th>    </tr></thead><tbody>\n",
       "                <tr>\n",
       "                                <td id=\"T_70af159c_935a_11ea_b95f_f48e38f24abcrow0_col0\" class=\"data row0 col0\" >Rajdhani Express</td>\n",
       "                        <td id=\"T_70af159c_935a_11ea_b95f_f48e38f24abcrow0_col1\" class=\"data row0 col1\" >53.71 Cr</td>\n",
       "            </tr>\n",
       "            <tr>\n",
       "                                <td id=\"T_70af159c_935a_11ea_b95f_f48e38f24abcrow1_col0\" class=\"data row1 col0\" >Aashiqui 2</td>\n",
       "                        <td id=\"T_70af159c_935a_11ea_b95f_f48e38f24abcrow1_col1\" class=\"data row1 col1\" >8.17 Cr</td>\n",
       "            </tr>\n",
       "            <tr>\n",
       "                                <td id=\"T_70af159c_935a_11ea_b95f_f48e38f24abcrow2_col0\" class=\"data row2 col0\" >PK</td>\n",
       "                        <td id=\"T_70af159c_935a_11ea_b95f_f48e38f24abcrow2_col1\" class=\"data row2 col1\" >7.65 Cr</td>\n",
       "            </tr>\n",
       "            <tr>\n",
       "                                <td id=\"T_70af159c_935a_11ea_b95f_f48e38f24abcrow3_col0\" class=\"data row3 col0\" >Grand Masti</td>\n",
       "                        <td id=\"T_70af159c_935a_11ea_b95f_f48e38f24abcrow3_col1\" class=\"data row3 col1\" >7.51 Cr</td>\n",
       "            </tr>\n",
       "            <tr>\n",
       "                                <td id=\"T_70af159c_935a_11ea_b95f_f48e38f24abcrow4_col0\" class=\"data row4 col0\" >The Lunchbox</td>\n",
       "                        <td id=\"T_70af159c_935a_11ea_b95f_f48e38f24abcrow4_col1\" class=\"data row4 col1\" >7.50 Cr</td>\n",
       "            </tr>\n",
       "            <tr>\n",
       "                                <td id=\"T_70af159c_935a_11ea_b95f_f48e38f24abcrow5_col0\" class=\"data row5 col0\" >Fukrey</td>\n",
       "                        <td id=\"T_70af159c_935a_11ea_b95f_f48e38f24abcrow5_col1\" class=\"data row5 col1\" >6.24 Cr</td>\n",
       "            </tr>\n",
       "            <tr>\n",
       "                                <td id=\"T_70af159c_935a_11ea_b95f_f48e38f24abcrow6_col0\" class=\"data row6 col0\" >Mary Kom</td>\n",
       "                        <td id=\"T_70af159c_935a_11ea_b95f_f48e38f24abcrow6_col1\" class=\"data row6 col1\" >5.93 Cr</td>\n",
       "            </tr>\n",
       "            <tr>\n",
       "                                <td id=\"T_70af159c_935a_11ea_b95f_f48e38f24abcrow7_col0\" class=\"data row7 col0\" >Shahid</td>\n",
       "                        <td id=\"T_70af159c_935a_11ea_b95f_f48e38f24abcrow7_col1\" class=\"data row7 col1\" >5.67 Cr</td>\n",
       "            </tr>\n",
       "            <tr>\n",
       "                                <td id=\"T_70af159c_935a_11ea_b95f_f48e38f24abcrow8_col0\" class=\"data row8 col0\" >Humpty Sharma Ki Dulhania</td>\n",
       "                        <td id=\"T_70af159c_935a_11ea_b95f_f48e38f24abcrow8_col1\" class=\"data row8 col1\" >5.50 Cr</td>\n",
       "            </tr>\n",
       "            <tr>\n",
       "                                <td id=\"T_70af159c_935a_11ea_b95f_f48e38f24abcrow9_col0\" class=\"data row9 col0\" >Bhaag Milkha Bhaag</td>\n",
       "                        <td id=\"T_70af159c_935a_11ea_b95f_f48e38f24abcrow9_col1\" class=\"data row9 col1\" >4.47 Cr</td>\n",
       "            </tr>\n",
       "    </tbody></table>"
      ],
      "text/plain": [
       "<pandas.io.formats.style.Styler at 0x1a2526a35c8>"
      ]
     },
     "execution_count": 40,
     "metadata": {},
     "output_type": "execute_result"
    }
   ],
   "source": [
    "hateset.sort_values(by='ROI', ascending=False).loc[:,['Name','ROI']].head(10).style.format({\"ROI\": \"{:,.2f} Cr\"}).hide_index() "
   ]
  },
  {
   "cell_type": "code",
   "execution_count": 41,
   "metadata": {},
   "outputs": [],
   "source": [
    "# Top ten movies with their ROI values in Crores"
   ]
  }
 ],
 "metadata": {
  "kernelspec": {
   "display_name": "Python 3",
   "language": "python",
   "name": "python3"
  },
  "language_info": {
   "codemirror_mode": {
    "name": "ipython",
    "version": 3
   },
   "file_extension": ".py",
   "mimetype": "text/x-python",
   "name": "python",
   "nbconvert_exporter": "python",
   "pygments_lexer": "ipython3",
   "version": "3.7.6"
  }
 },
 "nbformat": 4,
 "nbformat_minor": 4
}
