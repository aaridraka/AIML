{
 "cells": [
  {
   "cell_type": "markdown",
   "metadata": {},
   "source": [
    "# Chi-Merge Binning Algorithm"
   ]
  },
  {
   "cell_type": "code",
   "execution_count": 1,
   "metadata": {
    "scrolled": true
   },
   "outputs": [],
   "source": [
    "# Import usual libraries\n",
    "import pandas as pd\n",
    "import seaborn as sb\n",
    "import matplotlib.pyplot as plt\n",
    "import numpy as np\n",
    "\n",
    "# Import required libraries for chi2 calculation\n",
    "from scipy.stats import chi2_contingency,chisquare\n",
    "from scipy.stats.contingency import expected_freq\n",
    "import more_itertools as mit"
   ]
  },
  {
   "cell_type": "code",
   "execution_count": null,
   "metadata": {
    "scrolled": true
   },
   "outputs": [],
   "source": []
  },
  {
   "cell_type": "markdown",
   "metadata": {},
   "source": [
    "## Part (A)"
   ]
  },
  {
   "cell_type": "code",
   "execution_count": 2,
   "metadata": {
    "scrolled": true
   },
   "outputs": [],
   "source": [
    "# Part(A) practical answers\n",
    "# Generate the X, Y Features and the Class Labels\n",
    "X = [i for i in np.arange(15) if i%2!=0]\n",
    "Y = [i for i in np.arange(15) if (i!=0 | i%2==0)]\n",
    "Class = ['A' if (i%2==0) else 'B' for i in np.arange(7)]\n",
    "\n",
    "# Process to generate a DataFrame\n",
    "data = np.array([X,Y,Class]).T"
   ]
  },
  {
   "cell_type": "code",
   "execution_count": 3,
   "metadata": {
    "scrolled": true
   },
   "outputs": [
    {
     "data": {
      "text/html": [
       "<style  type=\"text/css\" >\n",
       "</style><table id=\"T_b1a1ff40_992f_11ea_8969_f48e38f24abc\" ><thead>    <tr>        <th class=\"col_heading level0 col0\" >X</th>        <th class=\"col_heading level0 col1\" >Y</th>        <th class=\"col_heading level0 col2\" >Class</th>    </tr></thead><tbody>\n",
       "                <tr>\n",
       "                                <td id=\"T_b1a1ff40_992f_11ea_8969_f48e38f24abcrow0_col0\" class=\"data row0 col0\" >1</td>\n",
       "                        <td id=\"T_b1a1ff40_992f_11ea_8969_f48e38f24abcrow0_col1\" class=\"data row0 col1\" >2</td>\n",
       "                        <td id=\"T_b1a1ff40_992f_11ea_8969_f48e38f24abcrow0_col2\" class=\"data row0 col2\" >A</td>\n",
       "            </tr>\n",
       "            <tr>\n",
       "                                <td id=\"T_b1a1ff40_992f_11ea_8969_f48e38f24abcrow1_col0\" class=\"data row1 col0\" >3</td>\n",
       "                        <td id=\"T_b1a1ff40_992f_11ea_8969_f48e38f24abcrow1_col1\" class=\"data row1 col1\" >4</td>\n",
       "                        <td id=\"T_b1a1ff40_992f_11ea_8969_f48e38f24abcrow1_col2\" class=\"data row1 col2\" >B</td>\n",
       "            </tr>\n",
       "            <tr>\n",
       "                                <td id=\"T_b1a1ff40_992f_11ea_8969_f48e38f24abcrow2_col0\" class=\"data row2 col0\" >5</td>\n",
       "                        <td id=\"T_b1a1ff40_992f_11ea_8969_f48e38f24abcrow2_col1\" class=\"data row2 col1\" >6</td>\n",
       "                        <td id=\"T_b1a1ff40_992f_11ea_8969_f48e38f24abcrow2_col2\" class=\"data row2 col2\" >A</td>\n",
       "            </tr>\n",
       "            <tr>\n",
       "                                <td id=\"T_b1a1ff40_992f_11ea_8969_f48e38f24abcrow3_col0\" class=\"data row3 col0\" >7</td>\n",
       "                        <td id=\"T_b1a1ff40_992f_11ea_8969_f48e38f24abcrow3_col1\" class=\"data row3 col1\" >8</td>\n",
       "                        <td id=\"T_b1a1ff40_992f_11ea_8969_f48e38f24abcrow3_col2\" class=\"data row3 col2\" >B</td>\n",
       "            </tr>\n",
       "            <tr>\n",
       "                                <td id=\"T_b1a1ff40_992f_11ea_8969_f48e38f24abcrow4_col0\" class=\"data row4 col0\" >9</td>\n",
       "                        <td id=\"T_b1a1ff40_992f_11ea_8969_f48e38f24abcrow4_col1\" class=\"data row4 col1\" >10</td>\n",
       "                        <td id=\"T_b1a1ff40_992f_11ea_8969_f48e38f24abcrow4_col2\" class=\"data row4 col2\" >A</td>\n",
       "            </tr>\n",
       "            <tr>\n",
       "                                <td id=\"T_b1a1ff40_992f_11ea_8969_f48e38f24abcrow5_col0\" class=\"data row5 col0\" >11</td>\n",
       "                        <td id=\"T_b1a1ff40_992f_11ea_8969_f48e38f24abcrow5_col1\" class=\"data row5 col1\" >12</td>\n",
       "                        <td id=\"T_b1a1ff40_992f_11ea_8969_f48e38f24abcrow5_col2\" class=\"data row5 col2\" >B</td>\n",
       "            </tr>\n",
       "            <tr>\n",
       "                                <td id=\"T_b1a1ff40_992f_11ea_8969_f48e38f24abcrow6_col0\" class=\"data row6 col0\" >13</td>\n",
       "                        <td id=\"T_b1a1ff40_992f_11ea_8969_f48e38f24abcrow6_col1\" class=\"data row6 col1\" >14</td>\n",
       "                        <td id=\"T_b1a1ff40_992f_11ea_8969_f48e38f24abcrow6_col2\" class=\"data row6 col2\" >A</td>\n",
       "            </tr>\n",
       "    </tbody></table>"
      ],
      "text/plain": [
       "<pandas.io.formats.style.Styler at 0x2bcc1469648>"
      ]
     },
     "metadata": {},
     "output_type": "display_data"
    }
   ],
   "source": [
    "# Reproduce the table\n",
    "table = pd.DataFrame.from_records(data, columns=['X','Y','Class']).astype({'X': 'int64', 'Y': 'int64', 'Class' : 'string'})\n",
    "display(table.style.format({}).hide_index())"
   ]
  },
  {
   "cell_type": "code",
   "execution_count": 4,
   "metadata": {
    "scrolled": true
   },
   "outputs": [
    {
     "data": {
      "text/html": [
       "<style  type=\"text/css\" >\n",
       "</style><table id=\"T_b1aaabfa_992f_11ea_80ed_f48e38f24abc\" ><thead>    <tr>        <th class=\"index_name level0\" >X</th>        <th class=\"col_heading level0 col0\" >1</th>        <th class=\"col_heading level0 col1\" >3</th>        <th class=\"col_heading level0 col2\" >5</th>        <th class=\"col_heading level0 col3\" >7</th>        <th class=\"col_heading level0 col4\" >9</th>        <th class=\"col_heading level0 col5\" >11</th>        <th class=\"col_heading level0 col6\" >13</th>        <th class=\"col_heading level0 col7\" >Total</th>    </tr>    <tr>        <th class=\"index_name level0\" >Class</th>        <th class=\"blank\" ></th>        <th class=\"blank\" ></th>        <th class=\"blank\" ></th>        <th class=\"blank\" ></th>        <th class=\"blank\" ></th>        <th class=\"blank\" ></th>        <th class=\"blank\" ></th>        <th class=\"blank\" ></th>    </tr></thead><tbody>\n",
       "                <tr>\n",
       "                        <th id=\"T_b1aaabfa_992f_11ea_80ed_f48e38f24abclevel0_row0\" class=\"row_heading level0 row0\" >A</th>\n",
       "                        <td id=\"T_b1aaabfa_992f_11ea_80ed_f48e38f24abcrow0_col0\" class=\"data row0 col0\" >1</td>\n",
       "                        <td id=\"T_b1aaabfa_992f_11ea_80ed_f48e38f24abcrow0_col1\" class=\"data row0 col1\" >0</td>\n",
       "                        <td id=\"T_b1aaabfa_992f_11ea_80ed_f48e38f24abcrow0_col2\" class=\"data row0 col2\" >1</td>\n",
       "                        <td id=\"T_b1aaabfa_992f_11ea_80ed_f48e38f24abcrow0_col3\" class=\"data row0 col3\" >0</td>\n",
       "                        <td id=\"T_b1aaabfa_992f_11ea_80ed_f48e38f24abcrow0_col4\" class=\"data row0 col4\" >1</td>\n",
       "                        <td id=\"T_b1aaabfa_992f_11ea_80ed_f48e38f24abcrow0_col5\" class=\"data row0 col5\" >0</td>\n",
       "                        <td id=\"T_b1aaabfa_992f_11ea_80ed_f48e38f24abcrow0_col6\" class=\"data row0 col6\" >1</td>\n",
       "                        <td id=\"T_b1aaabfa_992f_11ea_80ed_f48e38f24abcrow0_col7\" class=\"data row0 col7\" >4</td>\n",
       "            </tr>\n",
       "            <tr>\n",
       "                        <th id=\"T_b1aaabfa_992f_11ea_80ed_f48e38f24abclevel0_row1\" class=\"row_heading level0 row1\" >B</th>\n",
       "                        <td id=\"T_b1aaabfa_992f_11ea_80ed_f48e38f24abcrow1_col0\" class=\"data row1 col0\" >0</td>\n",
       "                        <td id=\"T_b1aaabfa_992f_11ea_80ed_f48e38f24abcrow1_col1\" class=\"data row1 col1\" >1</td>\n",
       "                        <td id=\"T_b1aaabfa_992f_11ea_80ed_f48e38f24abcrow1_col2\" class=\"data row1 col2\" >0</td>\n",
       "                        <td id=\"T_b1aaabfa_992f_11ea_80ed_f48e38f24abcrow1_col3\" class=\"data row1 col3\" >1</td>\n",
       "                        <td id=\"T_b1aaabfa_992f_11ea_80ed_f48e38f24abcrow1_col4\" class=\"data row1 col4\" >0</td>\n",
       "                        <td id=\"T_b1aaabfa_992f_11ea_80ed_f48e38f24abcrow1_col5\" class=\"data row1 col5\" >1</td>\n",
       "                        <td id=\"T_b1aaabfa_992f_11ea_80ed_f48e38f24abcrow1_col6\" class=\"data row1 col6\" >0</td>\n",
       "                        <td id=\"T_b1aaabfa_992f_11ea_80ed_f48e38f24abcrow1_col7\" class=\"data row1 col7\" >3</td>\n",
       "            </tr>\n",
       "            <tr>\n",
       "                        <th id=\"T_b1aaabfa_992f_11ea_80ed_f48e38f24abclevel0_row2\" class=\"row_heading level0 row2\" >Total</th>\n",
       "                        <td id=\"T_b1aaabfa_992f_11ea_80ed_f48e38f24abcrow2_col0\" class=\"data row2 col0\" >1</td>\n",
       "                        <td id=\"T_b1aaabfa_992f_11ea_80ed_f48e38f24abcrow2_col1\" class=\"data row2 col1\" >1</td>\n",
       "                        <td id=\"T_b1aaabfa_992f_11ea_80ed_f48e38f24abcrow2_col2\" class=\"data row2 col2\" >1</td>\n",
       "                        <td id=\"T_b1aaabfa_992f_11ea_80ed_f48e38f24abcrow2_col3\" class=\"data row2 col3\" >1</td>\n",
       "                        <td id=\"T_b1aaabfa_992f_11ea_80ed_f48e38f24abcrow2_col4\" class=\"data row2 col4\" >1</td>\n",
       "                        <td id=\"T_b1aaabfa_992f_11ea_80ed_f48e38f24abcrow2_col5\" class=\"data row2 col5\" >1</td>\n",
       "                        <td id=\"T_b1aaabfa_992f_11ea_80ed_f48e38f24abcrow2_col6\" class=\"data row2 col6\" >1</td>\n",
       "                        <td id=\"T_b1aaabfa_992f_11ea_80ed_f48e38f24abcrow2_col7\" class=\"data row2 col7\" >7</td>\n",
       "            </tr>\n",
       "    </tbody></table>"
      ],
      "text/plain": [
       "<pandas.io.formats.style.Styler at 0x2bcc1469648>"
      ]
     },
     "metadata": {},
     "output_type": "display_data"
    }
   ],
   "source": [
    "# Create the contingency table\n",
    "# All calculations below show X, it is the same for Y except column labels\n",
    "tab = pd.crosstab(table.Class, table.X, margins=True, margins_name='Total')\n",
    "display(tab.style.format({}))"
   ]
  },
  {
   "cell_type": "code",
   "execution_count": 5,
   "metadata": {
    "scrolled": true
   },
   "outputs": [
    {
     "data": {
      "text/html": [
       "<div>\n",
       "<style scoped>\n",
       "    .dataframe tbody tr th:only-of-type {\n",
       "        vertical-align: middle;\n",
       "    }\n",
       "\n",
       "    .dataframe tbody tr th {\n",
       "        vertical-align: top;\n",
       "    }\n",
       "\n",
       "    .dataframe thead th {\n",
       "        text-align: right;\n",
       "    }\n",
       "</style>\n",
       "<table border=\"1\" class=\"dataframe\">\n",
       "  <thead>\n",
       "    <tr style=\"text-align: right;\">\n",
       "      <th>X</th>\n",
       "      <th>1</th>\n",
       "      <th>3</th>\n",
       "    </tr>\n",
       "    <tr>\n",
       "      <th>Class</th>\n",
       "      <th></th>\n",
       "      <th></th>\n",
       "    </tr>\n",
       "  </thead>\n",
       "  <tbody>\n",
       "    <tr>\n",
       "      <th>A</th>\n",
       "      <td>1</td>\n",
       "      <td>0</td>\n",
       "    </tr>\n",
       "    <tr>\n",
       "      <th>B</th>\n",
       "      <td>0</td>\n",
       "      <td>1</td>\n",
       "    </tr>\n",
       "  </tbody>\n",
       "</table>\n",
       "</div>"
      ],
      "text/plain": [
       "X      1  3\n",
       "Class      \n",
       "A      1  0\n",
       "B      0  1"
      ]
     },
     "execution_count": 5,
     "metadata": {},
     "output_type": "execute_result"
    }
   ],
   "source": [
    "# Check if chi-score matches the manual calculations answered in the word document\n",
    "# Observed frequency\n",
    "O = pd.crosstab(table.Class.iloc[0:2], table.X.iloc[0:2], colnames='X')\n",
    "O"
   ]
  },
  {
   "cell_type": "code",
   "execution_count": 6,
   "metadata": {
    "scrolled": true
   },
   "outputs": [
    {
     "data": {
      "text/html": [
       "<div>\n",
       "<style scoped>\n",
       "    .dataframe tbody tr th:only-of-type {\n",
       "        vertical-align: middle;\n",
       "    }\n",
       "\n",
       "    .dataframe tbody tr th {\n",
       "        vertical-align: top;\n",
       "    }\n",
       "\n",
       "    .dataframe thead th {\n",
       "        text-align: right;\n",
       "    }\n",
       "</style>\n",
       "<table border=\"1\" class=\"dataframe\">\n",
       "  <thead>\n",
       "    <tr style=\"text-align: right;\">\n",
       "      <th>X</th>\n",
       "      <th>1</th>\n",
       "      <th>3</th>\n",
       "    </tr>\n",
       "    <tr>\n",
       "      <th>Class</th>\n",
       "      <th></th>\n",
       "      <th></th>\n",
       "    </tr>\n",
       "  </thead>\n",
       "  <tbody>\n",
       "    <tr>\n",
       "      <th>A</th>\n",
       "      <td>0.5</td>\n",
       "      <td>0.5</td>\n",
       "    </tr>\n",
       "    <tr>\n",
       "      <th>B</th>\n",
       "      <td>0.5</td>\n",
       "      <td>0.5</td>\n",
       "    </tr>\n",
       "  </tbody>\n",
       "</table>\n",
       "</div>"
      ],
      "text/plain": [
       "X        1    3\n",
       "Class          \n",
       "A      0.5  0.5\n",
       "B      0.5  0.5"
      ]
     },
     "execution_count": 6,
     "metadata": {},
     "output_type": "execute_result"
    }
   ],
   "source": [
    "# Expected frequency\n",
    "E = pd.DataFrame(expected_freq(O), columns=['1','3'], index=['A', 'B',]).rename_axis(['Class']).rename_axis(columns='X')\n",
    "E"
   ]
  },
  {
   "cell_type": "code",
   "execution_count": 7,
   "metadata": {
    "scrolled": true
   },
   "outputs": [
    {
     "name": "stdout",
     "output_type": "stream",
     "text": [
      "Chi-Score: 2.000\n",
      "P-Value  : 0.157\n"
     ]
    }
   ],
   "source": [
    "# Calculate chi-score for this, it should match the answer provided in the word document (2)\n",
    "chi2score, pvalue = chisquare(f_obs=O.values.ravel(), f_exp=expected_freq(O).ravel(), ddof=2)\n",
    "print(\"\"\"Chi-Score: {:.3f}\n",
    "P-Value  : {:.3f}\"\"\".format(chi2score, pvalue))"
   ]
  },
  {
   "cell_type": "code",
   "execution_count": 8,
   "metadata": {
    "scrolled": true
   },
   "outputs": [
    {
     "name": "stdout",
     "output_type": "stream",
     "text": [
      "Chi-Score: 7.000\n",
      "P-Value  : 0.321\n"
     ]
    }
   ],
   "source": [
    "# Chi-score for the whole class, this should match (7) given in the word document\n",
    "# Remove totals from contingency table\n",
    "O = tab.iloc[:2,0:-1].values\n",
    "E = expected_freq(O)\n",
    "chi2score, pvalue = chisquare(O.ravel(), E.ravel(), 7)\n",
    "print(\"\"\"Chi-Score: {:.3f}\n",
    "P-Value  : {:.3f}\"\"\".format(chi2score, pvalue))\n",
    "\n",
    "# Another way when degrees of freedom and expected frequency is not known\n",
    "# chi2, p, df, E = chi2_contingency(O)"
   ]
  },
  {
   "cell_type": "code",
   "execution_count": null,
   "metadata": {
    "scrolled": true
   },
   "outputs": [],
   "source": []
  },
  {
   "cell_type": "markdown",
   "metadata": {},
   "source": [
    "## Part (B)"
   ]
  },
  {
   "cell_type": "code",
   "execution_count": 9,
   "metadata": {
    "scrolled": true
   },
   "outputs": [],
   "source": [
    "# Answers to Part(B) of the Assignment\n",
    "# Iterative bottom-up approach to merge the intervals using Chi-Merge"
   ]
  },
  {
   "cell_type": "code",
   "execution_count": 10,
   "metadata": {
    "scrolled": true
   },
   "outputs": [],
   "source": [
    "# Chi2 for a given contingency matrix\n",
    "def chiSquared(contingencyMatrix):\n",
    "    return chisquare(contingencyMatrix, f_exp=expected_freq(contingencyMatrix))\n",
    "\n",
    "# List and history of chi-squared values per pair for each iteration cycle\n",
    "def chi2Calculator(obs):\n",
    "    chi_list = []\n",
    "    for i in range(obs.shape[0]-1):\n",
    "        chi2, p_val = 0,0\n",
    "        chi, p = chiSquared(np.vstack((obs[i],obs[i+1])))\n",
    "        chi2 = np.nansum(chi)\n",
    "        p_val = float(sum(np.nan_to_num(p)))\n",
    "        chi_list.append(chi2)\n",
    "    return chi_list\n",
    "\n",
    "# Chimerge algorithm that calculates merge-points according to chi-score and discretizes/bins the continuous input feature\n",
    "def chiMerge(obs, f_arr, numOfIntervals=0, chiThreshold=0, mergeType=1):\n",
    "    # Store the history of merged intervals\n",
    "    merge_hist = []    \n",
    "    minChi2 = -1\n",
    "    # Stop criteria is based on intervals, chi2 threshold is also provided for convenience and can be modified\n",
    "    # chiThreshold > minChi2\n",
    "    while (obs.shape[0] > numOfIntervals):\n",
    "        # Get the chi2 scores per adjacent interval\n",
    "        chi_list=chi2Calculator(obs)\n",
    "        minChi2 = min(chi_list)\n",
    "        # Get the indices to be merged with minimum chi-values, there are 2 approaches\n",
    "        ###### 1\n",
    "        # This approach merges all intervals with equal minimum chi-score\n",
    "        # This is faster and helpful in bulk-merge with lesser iterations\n",
    "        # This can be used when stop criterion is based only on chi2 threshold\n",
    "        ######\n",
    "        if(mergeType==1):\n",
    "            mergeIndex = [list(i) for i in mit.consecutive_groups([i for i, j in enumerate(chi_list) if j == minChi2])]\n",
    "        ###### 2\n",
    "        # This approach merges only the first interval with minimim chi-score\n",
    "        # This approach will help when stop criterion has a condition only on number of intervals\n",
    "        # This will only merge interval by interval (1 interval per iteration)\n",
    "        else:\n",
    "            mergeIndex = [list(i) for i in mit.consecutive_groups([chi_list.index(minChi2)])]\n",
    "        ######\n",
    "        \n",
    "        # Merge and squash intervals (interval binning)\n",
    "        squashedArr = np.zeros(len(mergeIndex))\n",
    "        noofelem = 0\n",
    "        for j,k in enumerate(mergeIndex):\n",
    "            k.append(k[-1] + 1)\n",
    "            k = [i - noofelem for i in k]\n",
    "            noofelem += max(k) - min(k)\n",
    "            merged = list([f_arr[min(k)][0], f_arr[max(k)][0]])\n",
    "            merge_hist.append(merged)\n",
    "            squashedArr = np.sum(obs[k,:], axis=0)\n",
    "            obs = np.delete(obs,k,0)\n",
    "            obs = np.insert(obs, min(k), squashedArr, 0)\n",
    "            f_arr = np.delete(f_arr,k,0)\n",
    "            f_arr = np.insert(f_arr, min(k), merged[0], 0)\n",
    "    return np.concatenate((f_arr,obs,),axis=1),chi2Calculator(obs)"
   ]
  },
  {
   "cell_type": "code",
   "execution_count": 11,
   "metadata": {
    "scrolled": true
   },
   "outputs": [
    {
     "data": {
      "text/plain": [
       "(150, 5)"
      ]
     },
     "metadata": {},
     "output_type": "display_data"
    },
    {
     "data": {
      "text/html": [
       "<div>\n",
       "<style scoped>\n",
       "    .dataframe tbody tr th:only-of-type {\n",
       "        vertical-align: middle;\n",
       "    }\n",
       "\n",
       "    .dataframe tbody tr th {\n",
       "        vertical-align: top;\n",
       "    }\n",
       "\n",
       "    .dataframe thead th {\n",
       "        text-align: right;\n",
       "    }\n",
       "</style>\n",
       "<table border=\"1\" class=\"dataframe\">\n",
       "  <thead>\n",
       "    <tr style=\"text-align: right;\">\n",
       "      <th></th>\n",
       "      <th>s_len</th>\n",
       "      <th>s_wid</th>\n",
       "      <th>p_len</th>\n",
       "      <th>p_wid</th>\n",
       "      <th>Class</th>\n",
       "    </tr>\n",
       "  </thead>\n",
       "  <tbody>\n",
       "    <tr>\n",
       "      <th>0</th>\n",
       "      <td>5.1</td>\n",
       "      <td>3.5</td>\n",
       "      <td>1.4</td>\n",
       "      <td>0.2</td>\n",
       "      <td>Iris-setosa</td>\n",
       "    </tr>\n",
       "    <tr>\n",
       "      <th>1</th>\n",
       "      <td>4.9</td>\n",
       "      <td>3.0</td>\n",
       "      <td>1.4</td>\n",
       "      <td>0.2</td>\n",
       "      <td>Iris-setosa</td>\n",
       "    </tr>\n",
       "    <tr>\n",
       "      <th>2</th>\n",
       "      <td>4.7</td>\n",
       "      <td>3.2</td>\n",
       "      <td>1.3</td>\n",
       "      <td>0.2</td>\n",
       "      <td>Iris-setosa</td>\n",
       "    </tr>\n",
       "  </tbody>\n",
       "</table>\n",
       "</div>"
      ],
      "text/plain": [
       "   s_len  s_wid  p_len  p_wid        Class\n",
       "0    5.1    3.5    1.4    0.2  Iris-setosa\n",
       "1    4.9    3.0    1.4    0.2  Iris-setosa\n",
       "2    4.7    3.2    1.3    0.2  Iris-setosa"
      ]
     },
     "metadata": {},
     "output_type": "display_data"
    },
    {
     "data": {
      "text/html": [
       "<div>\n",
       "<style scoped>\n",
       "    .dataframe tbody tr th:only-of-type {\n",
       "        vertical-align: middle;\n",
       "    }\n",
       "\n",
       "    .dataframe tbody tr th {\n",
       "        vertical-align: top;\n",
       "    }\n",
       "\n",
       "    .dataframe thead th {\n",
       "        text-align: right;\n",
       "    }\n",
       "</style>\n",
       "<table border=\"1\" class=\"dataframe\">\n",
       "  <thead>\n",
       "    <tr style=\"text-align: right;\">\n",
       "      <th></th>\n",
       "      <th>s_len</th>\n",
       "      <th>s_wid</th>\n",
       "      <th>p_len</th>\n",
       "      <th>p_wid</th>\n",
       "      <th>Class</th>\n",
       "    </tr>\n",
       "  </thead>\n",
       "  <tbody>\n",
       "    <tr>\n",
       "      <th>147</th>\n",
       "      <td>6.5</td>\n",
       "      <td>3.0</td>\n",
       "      <td>5.2</td>\n",
       "      <td>2.0</td>\n",
       "      <td>Iris-virginica</td>\n",
       "    </tr>\n",
       "    <tr>\n",
       "      <th>148</th>\n",
       "      <td>6.2</td>\n",
       "      <td>3.4</td>\n",
       "      <td>5.4</td>\n",
       "      <td>2.3</td>\n",
       "      <td>Iris-virginica</td>\n",
       "    </tr>\n",
       "    <tr>\n",
       "      <th>149</th>\n",
       "      <td>5.9</td>\n",
       "      <td>3.0</td>\n",
       "      <td>5.1</td>\n",
       "      <td>1.8</td>\n",
       "      <td>Iris-virginica</td>\n",
       "    </tr>\n",
       "  </tbody>\n",
       "</table>\n",
       "</div>"
      ],
      "text/plain": [
       "     s_len  s_wid  p_len  p_wid           Class\n",
       "147    6.5    3.0    5.2    2.0  Iris-virginica\n",
       "148    6.2    3.4    5.4    2.3  Iris-virginica\n",
       "149    5.9    3.0    5.1    1.8  Iris-virginica"
      ]
     },
     "metadata": {},
     "output_type": "display_data"
    }
   ],
   "source": [
    "# Read iris dataset and check that the indexes range from 0 - 149 to represent 150 rows in iris\n",
    "iris = pd.read_csv('iris.data', names=['s_len','s_wid','p_len','p_wid','Class'], header=None)\n",
    "display(iris.shape, iris.head(3), iris.tail(3))\n",
    "# s_len = Sepal Length, s_wid = Sepal Width, p_len = Petal Length, p_wid = Petal Width, Class = Class of Iris"
   ]
  },
  {
   "cell_type": "code",
   "execution_count": 12,
   "metadata": {
    "scrolled": true
   },
   "outputs": [],
   "source": [
    "# Function to get the contingency table sorted ascending by the feature\n",
    "def getContingencyTbl(df, feature):\n",
    "    return pd.crosstab(df[feature], df.Class).reset_index().sort_values(by=feature).values\n",
    "\n",
    "# Get the binned intervals\n",
    "def getBins(f_arr,endVal):\n",
    "    binList = []\n",
    "    for i in range(f_arr.shape[0] - 1):\n",
    "        binList.append(str('[' + str(f_arr[i][0]) + ',' + str(f_arr[i+1][0]) + ')'))\n",
    "    binList.append(str([f_arr[-1][0], endVal]))\n",
    "    return binList\n",
    "\n",
    "# Create a neat dataframe for display instead of raw numpy arrays and numbers\n",
    "def binnedOutput(f_arr,chi2_arr,feature,cols,typeDict,formatDict,endVal,chi2_0):\n",
    "    binList = getBins(f_arr,endVal)\n",
    "    df = pd.DataFrame(f_arr, columns=cols)\n",
    "    df.insert(0,'Bins',binList,True)\n",
    "    df = df.astype(typeDict)\n",
    "    df = df.set_index(pd.DataFrame(np.array(chi2_arr).reshape(1,-1)).astype('float').reset_index().iloc[0].values.T)\n",
    "    df = df.rename(index= {df.index[0] : chi2_0})\n",
    "    df = df.rename_axis('Chi2').rename(index = lambda x : \"{:.2f}\".format(x))\n",
    "    display(df.reset_index().style.format(formatDict).hide_index())"
   ]
  },
  {
   "cell_type": "code",
   "execution_count": 13,
   "metadata": {
    "scrolled": false
   },
   "outputs": [
    {
     "data": {
      "text/html": [
       "<style  type=\"text/css\" >\n",
       "</style><table id=\"T_b1cc2724_992f_11ea_ae1a_f48e38f24abc\" ><thead>    <tr>        <th class=\"col_heading level0 col0\" >Chi2</th>        <th class=\"col_heading level0 col1\" >Bins</th>        <th class=\"col_heading level0 col2\" >s_len</th>        <th class=\"col_heading level0 col3\" >Iris-setosa</th>        <th class=\"col_heading level0 col4\" >Iris-versicolor</th>        <th class=\"col_heading level0 col5\" >Iris-virginica</th>    </tr></thead><tbody>\n",
       "                <tr>\n",
       "                                <td id=\"T_b1cc2724_992f_11ea_ae1a_f48e38f24abcrow0_col0\" class=\"data row0 col0\" >156.27</td>\n",
       "                        <td id=\"T_b1cc2724_992f_11ea_ae1a_f48e38f24abcrow0_col1\" class=\"data row0 col1\" >[4.3,5.5)</td>\n",
       "                        <td id=\"T_b1cc2724_992f_11ea_ae1a_f48e38f24abcrow0_col2\" class=\"data row0 col2\" >4.3</td>\n",
       "                        <td id=\"T_b1cc2724_992f_11ea_ae1a_f48e38f24abcrow0_col3\" class=\"data row0 col3\" >45</td>\n",
       "                        <td id=\"T_b1cc2724_992f_11ea_ae1a_f48e38f24abcrow0_col4\" class=\"data row0 col4\" >6</td>\n",
       "                        <td id=\"T_b1cc2724_992f_11ea_ae1a_f48e38f24abcrow0_col5\" class=\"data row0 col5\" >1</td>\n",
       "            </tr>\n",
       "            <tr>\n",
       "                                <td id=\"T_b1cc2724_992f_11ea_ae1a_f48e38f24abcrow1_col0\" class=\"data row1 col0\" >30.91</td>\n",
       "                        <td id=\"T_b1cc2724_992f_11ea_ae1a_f48e38f24abcrow1_col1\" class=\"data row1 col1\" >[5.5,5.8)</td>\n",
       "                        <td id=\"T_b1cc2724_992f_11ea_ae1a_f48e38f24abcrow1_col2\" class=\"data row1 col2\" >5.5</td>\n",
       "                        <td id=\"T_b1cc2724_992f_11ea_ae1a_f48e38f24abcrow1_col3\" class=\"data row1 col3\" >4</td>\n",
       "                        <td id=\"T_b1cc2724_992f_11ea_ae1a_f48e38f24abcrow1_col4\" class=\"data row1 col4\" >15</td>\n",
       "                        <td id=\"T_b1cc2724_992f_11ea_ae1a_f48e38f24abcrow1_col5\" class=\"data row1 col5\" >2</td>\n",
       "            </tr>\n",
       "            <tr>\n",
       "                                <td id=\"T_b1cc2724_992f_11ea_ae1a_f48e38f24abcrow2_col0\" class=\"data row2 col0\" >17.85</td>\n",
       "                        <td id=\"T_b1cc2724_992f_11ea_ae1a_f48e38f24abcrow2_col1\" class=\"data row2 col1\" >[5.8,7.1)</td>\n",
       "                        <td id=\"T_b1cc2724_992f_11ea_ae1a_f48e38f24abcrow2_col2\" class=\"data row2 col2\" >5.8</td>\n",
       "                        <td id=\"T_b1cc2724_992f_11ea_ae1a_f48e38f24abcrow2_col3\" class=\"data row2 col3\" >1</td>\n",
       "                        <td id=\"T_b1cc2724_992f_11ea_ae1a_f48e38f24abcrow2_col4\" class=\"data row2 col4\" >29</td>\n",
       "                        <td id=\"T_b1cc2724_992f_11ea_ae1a_f48e38f24abcrow2_col5\" class=\"data row2 col5\" >35</td>\n",
       "            </tr>\n",
       "            <tr>\n",
       "                                <td id=\"T_b1cc2724_992f_11ea_ae1a_f48e38f24abcrow3_col0\" class=\"data row3 col0\" >9.07</td>\n",
       "                        <td id=\"T_b1cc2724_992f_11ea_ae1a_f48e38f24abcrow3_col1\" class=\"data row3 col1\" >[7.1, 7.9]</td>\n",
       "                        <td id=\"T_b1cc2724_992f_11ea_ae1a_f48e38f24abcrow3_col2\" class=\"data row3 col2\" >7.1</td>\n",
       "                        <td id=\"T_b1cc2724_992f_11ea_ae1a_f48e38f24abcrow3_col3\" class=\"data row3 col3\" >0</td>\n",
       "                        <td id=\"T_b1cc2724_992f_11ea_ae1a_f48e38f24abcrow3_col4\" class=\"data row3 col4\" >0</td>\n",
       "                        <td id=\"T_b1cc2724_992f_11ea_ae1a_f48e38f24abcrow3_col5\" class=\"data row3 col5\" >12</td>\n",
       "            </tr>\n",
       "    </tbody></table>"
      ],
      "text/plain": [
       "<pandas.io.formats.style.Styler at 0x2bcc2b8dc88>"
      ]
     },
     "metadata": {},
     "output_type": "display_data"
    },
    {
     "data": {
      "text/html": [
       "<style  type=\"text/css\" >\n",
       "</style><table id=\"T_b1d5e59a_992f_11ea_a11e_f48e38f24abc\" ><thead>    <tr>        <th class=\"col_heading level0 col0\" >Chi2</th>        <th class=\"col_heading level0 col1\" >Bins</th>        <th class=\"col_heading level0 col2\" >s_wid</th>        <th class=\"col_heading level0 col3\" >Iris-setosa</th>        <th class=\"col_heading level0 col4\" >Iris-versicolor</th>        <th class=\"col_heading level0 col5\" >Iris-virginica</th>    </tr></thead><tbody>\n",
       "                <tr>\n",
       "                                <td id=\"T_b1d5e59a_992f_11ea_a11e_f48e38f24abcrow0_col0\" class=\"data row0 col0\" >88.36</td>\n",
       "                        <td id=\"T_b1d5e59a_992f_11ea_a11e_f48e38f24abcrow0_col1\" class=\"data row0 col1\" >[2.0,2.5)</td>\n",
       "                        <td id=\"T_b1d5e59a_992f_11ea_a11e_f48e38f24abcrow0_col2\" class=\"data row0 col2\" >2.0</td>\n",
       "                        <td id=\"T_b1d5e59a_992f_11ea_a11e_f48e38f24abcrow0_col3\" class=\"data row0 col3\" >1</td>\n",
       "                        <td id=\"T_b1d5e59a_992f_11ea_a11e_f48e38f24abcrow0_col4\" class=\"data row0 col4\" >9</td>\n",
       "                        <td id=\"T_b1d5e59a_992f_11ea_a11e_f48e38f24abcrow0_col5\" class=\"data row0 col5\" >1</td>\n",
       "            </tr>\n",
       "            <tr>\n",
       "                                <td id=\"T_b1d5e59a_992f_11ea_a11e_f48e38f24abcrow1_col0\" class=\"data row1 col0\" >5.18</td>\n",
       "                        <td id=\"T_b1d5e59a_992f_11ea_a11e_f48e38f24abcrow1_col1\" class=\"data row1 col1\" >[2.5,3.0)</td>\n",
       "                        <td id=\"T_b1d5e59a_992f_11ea_a11e_f48e38f24abcrow1_col2\" class=\"data row1 col2\" >2.5</td>\n",
       "                        <td id=\"T_b1d5e59a_992f_11ea_a11e_f48e38f24abcrow1_col3\" class=\"data row1 col3\" >1</td>\n",
       "                        <td id=\"T_b1d5e59a_992f_11ea_a11e_f48e38f24abcrow1_col4\" class=\"data row1 col4\" >25</td>\n",
       "                        <td id=\"T_b1d5e59a_992f_11ea_a11e_f48e38f24abcrow1_col5\" class=\"data row1 col5\" >20</td>\n",
       "            </tr>\n",
       "            <tr>\n",
       "                                <td id=\"T_b1d5e59a_992f_11ea_a11e_f48e38f24abcrow2_col0\" class=\"data row2 col0\" >17.09</td>\n",
       "                        <td id=\"T_b1d5e59a_992f_11ea_a11e_f48e38f24abcrow2_col1\" class=\"data row2 col1\" >[3.0,3.4)</td>\n",
       "                        <td id=\"T_b1d5e59a_992f_11ea_a11e_f48e38f24abcrow2_col2\" class=\"data row2 col2\" >3.0</td>\n",
       "                        <td id=\"T_b1d5e59a_992f_11ea_a11e_f48e38f24abcrow2_col3\" class=\"data row2 col3\" >18</td>\n",
       "                        <td id=\"T_b1d5e59a_992f_11ea_a11e_f48e38f24abcrow2_col4\" class=\"data row2 col4\" >15</td>\n",
       "                        <td id=\"T_b1d5e59a_992f_11ea_a11e_f48e38f24abcrow2_col5\" class=\"data row2 col5\" >24</td>\n",
       "            </tr>\n",
       "            <tr>\n",
       "                                <td id=\"T_b1d5e59a_992f_11ea_a11e_f48e38f24abcrow3_col0\" class=\"data row3 col0\" >24.19</td>\n",
       "                        <td id=\"T_b1d5e59a_992f_11ea_a11e_f48e38f24abcrow3_col1\" class=\"data row3 col1\" >[3.4, 4.4]</td>\n",
       "                        <td id=\"T_b1d5e59a_992f_11ea_a11e_f48e38f24abcrow3_col2\" class=\"data row3 col2\" >3.4</td>\n",
       "                        <td id=\"T_b1d5e59a_992f_11ea_a11e_f48e38f24abcrow3_col3\" class=\"data row3 col3\" >30</td>\n",
       "                        <td id=\"T_b1d5e59a_992f_11ea_a11e_f48e38f24abcrow3_col4\" class=\"data row3 col4\" >1</td>\n",
       "                        <td id=\"T_b1d5e59a_992f_11ea_a11e_f48e38f24abcrow3_col5\" class=\"data row3 col5\" >5</td>\n",
       "            </tr>\n",
       "    </tbody></table>"
      ],
      "text/plain": [
       "<pandas.io.formats.style.Styler at 0x2bcc2ba6248>"
      ]
     },
     "metadata": {},
     "output_type": "display_data"
    },
    {
     "data": {
      "text/html": [
       "<style  type=\"text/css\" >\n",
       "</style><table id=\"T_b1dbd408_992f_11ea_b95f_f48e38f24abc\" ><thead>    <tr>        <th class=\"col_heading level0 col0\" >Chi2</th>        <th class=\"col_heading level0 col1\" >Bins</th>        <th class=\"col_heading level0 col2\" >p_len</th>        <th class=\"col_heading level0 col3\" >Iris-setosa</th>        <th class=\"col_heading level0 col4\" >Iris-versicolor</th>        <th class=\"col_heading level0 col5\" >Iris-virginica</th>    </tr></thead><tbody>\n",
       "                <tr>\n",
       "                                <td id=\"T_b1dbd408_992f_11ea_b95f_f48e38f24abcrow0_col0\" class=\"data row0 col0\" >271.80</td>\n",
       "                        <td id=\"T_b1dbd408_992f_11ea_b95f_f48e38f24abcrow0_col1\" class=\"data row0 col1\" >[1.0,3.0)</td>\n",
       "                        <td id=\"T_b1dbd408_992f_11ea_b95f_f48e38f24abcrow0_col2\" class=\"data row0 col2\" >1.0</td>\n",
       "                        <td id=\"T_b1dbd408_992f_11ea_b95f_f48e38f24abcrow0_col3\" class=\"data row0 col3\" >50</td>\n",
       "                        <td id=\"T_b1dbd408_992f_11ea_b95f_f48e38f24abcrow0_col4\" class=\"data row0 col4\" >0</td>\n",
       "                        <td id=\"T_b1dbd408_992f_11ea_b95f_f48e38f24abcrow0_col5\" class=\"data row0 col5\" >0</td>\n",
       "            </tr>\n",
       "            <tr>\n",
       "                                <td id=\"T_b1dbd408_992f_11ea_b95f_f48e38f24abcrow1_col0\" class=\"data row1 col0\" >95.00</td>\n",
       "                        <td id=\"T_b1dbd408_992f_11ea_b95f_f48e38f24abcrow1_col1\" class=\"data row1 col1\" >[3.0,4.8)</td>\n",
       "                        <td id=\"T_b1dbd408_992f_11ea_b95f_f48e38f24abcrow1_col2\" class=\"data row1 col2\" >3.0</td>\n",
       "                        <td id=\"T_b1dbd408_992f_11ea_b95f_f48e38f24abcrow1_col3\" class=\"data row1 col3\" >0</td>\n",
       "                        <td id=\"T_b1dbd408_992f_11ea_b95f_f48e38f24abcrow1_col4\" class=\"data row1 col4\" >44</td>\n",
       "                        <td id=\"T_b1dbd408_992f_11ea_b95f_f48e38f24abcrow1_col5\" class=\"data row1 col5\" >1</td>\n",
       "            </tr>\n",
       "            <tr>\n",
       "                                <td id=\"T_b1dbd408_992f_11ea_b95f_f48e38f24abcrow2_col0\" class=\"data row2 col0\" >37.34</td>\n",
       "                        <td id=\"T_b1dbd408_992f_11ea_b95f_f48e38f24abcrow2_col1\" class=\"data row2 col1\" >[4.8,5.2)</td>\n",
       "                        <td id=\"T_b1dbd408_992f_11ea_b95f_f48e38f24abcrow2_col2\" class=\"data row2 col2\" >4.8</td>\n",
       "                        <td id=\"T_b1dbd408_992f_11ea_b95f_f48e38f24abcrow2_col3\" class=\"data row2 col3\" >0</td>\n",
       "                        <td id=\"T_b1dbd408_992f_11ea_b95f_f48e38f24abcrow2_col4\" class=\"data row2 col4\" >6</td>\n",
       "                        <td id=\"T_b1dbd408_992f_11ea_b95f_f48e38f24abcrow2_col5\" class=\"data row2 col5\" >15</td>\n",
       "            </tr>\n",
       "            <tr>\n",
       "                                <td id=\"T_b1dbd408_992f_11ea_b95f_f48e38f24abcrow3_col0\" class=\"data row3 col0\" >10.90</td>\n",
       "                        <td id=\"T_b1dbd408_992f_11ea_b95f_f48e38f24abcrow3_col1\" class=\"data row3 col1\" >[5.2, 6.9]</td>\n",
       "                        <td id=\"T_b1dbd408_992f_11ea_b95f_f48e38f24abcrow3_col2\" class=\"data row3 col2\" >5.2</td>\n",
       "                        <td id=\"T_b1dbd408_992f_11ea_b95f_f48e38f24abcrow3_col3\" class=\"data row3 col3\" >0</td>\n",
       "                        <td id=\"T_b1dbd408_992f_11ea_b95f_f48e38f24abcrow3_col4\" class=\"data row3 col4\" >0</td>\n",
       "                        <td id=\"T_b1dbd408_992f_11ea_b95f_f48e38f24abcrow3_col5\" class=\"data row3 col5\" >34</td>\n",
       "            </tr>\n",
       "    </tbody></table>"
      ],
      "text/plain": [
       "<pandas.io.formats.style.Styler at 0x2bcc2bb0fc8>"
      ]
     },
     "metadata": {},
     "output_type": "display_data"
    },
    {
     "data": {
      "text/html": [
       "<style  type=\"text/css\" >\n",
       "</style><table id=\"T_b1e08bc6_992f_11ea_b362_f48e38f24abc\" ><thead>    <tr>        <th class=\"col_heading level0 col0\" >Chi2</th>        <th class=\"col_heading level0 col1\" >Bins</th>        <th class=\"col_heading level0 col2\" >p_wid</th>        <th class=\"col_heading level0 col3\" >Iris-setosa</th>        <th class=\"col_heading level0 col4\" >Iris-versicolor</th>        <th class=\"col_heading level0 col5\" >Iris-virginica</th>    </tr></thead><tbody>\n",
       "                <tr>\n",
       "                                <td id=\"T_b1e08bc6_992f_11ea_b362_f48e38f24abcrow0_col0\" class=\"data row0 col0\" >271.75</td>\n",
       "                        <td id=\"T_b1e08bc6_992f_11ea_b362_f48e38f24abcrow0_col1\" class=\"data row0 col1\" >[0.1,1.0)</td>\n",
       "                        <td id=\"T_b1e08bc6_992f_11ea_b362_f48e38f24abcrow0_col2\" class=\"data row0 col2\" >0.1</td>\n",
       "                        <td id=\"T_b1e08bc6_992f_11ea_b362_f48e38f24abcrow0_col3\" class=\"data row0 col3\" >50</td>\n",
       "                        <td id=\"T_b1e08bc6_992f_11ea_b362_f48e38f24abcrow0_col4\" class=\"data row0 col4\" >0</td>\n",
       "                        <td id=\"T_b1e08bc6_992f_11ea_b362_f48e38f24abcrow0_col5\" class=\"data row0 col5\" >0</td>\n",
       "            </tr>\n",
       "            <tr>\n",
       "                                <td id=\"T_b1e08bc6_992f_11ea_b362_f48e38f24abcrow1_col0\" class=\"data row1 col0\" >78.00</td>\n",
       "                        <td id=\"T_b1e08bc6_992f_11ea_b362_f48e38f24abcrow1_col1\" class=\"data row1 col1\" >[1.0,1.4)</td>\n",
       "                        <td id=\"T_b1e08bc6_992f_11ea_b362_f48e38f24abcrow1_col2\" class=\"data row1 col2\" >1.0</td>\n",
       "                        <td id=\"T_b1e08bc6_992f_11ea_b362_f48e38f24abcrow1_col3\" class=\"data row1 col3\" >0</td>\n",
       "                        <td id=\"T_b1e08bc6_992f_11ea_b362_f48e38f24abcrow1_col4\" class=\"data row1 col4\" >28</td>\n",
       "                        <td id=\"T_b1e08bc6_992f_11ea_b362_f48e38f24abcrow1_col5\" class=\"data row1 col5\" >0</td>\n",
       "            </tr>\n",
       "            <tr>\n",
       "                                <td id=\"T_b1e08bc6_992f_11ea_b362_f48e38f24abcrow2_col0\" class=\"data row2 col0\" >5.93</td>\n",
       "                        <td id=\"T_b1e08bc6_992f_11ea_b362_f48e38f24abcrow2_col1\" class=\"data row2 col1\" >[1.4,1.8)</td>\n",
       "                        <td id=\"T_b1e08bc6_992f_11ea_b362_f48e38f24abcrow2_col2\" class=\"data row2 col2\" >1.4</td>\n",
       "                        <td id=\"T_b1e08bc6_992f_11ea_b362_f48e38f24abcrow2_col3\" class=\"data row2 col3\" >0</td>\n",
       "                        <td id=\"T_b1e08bc6_992f_11ea_b362_f48e38f24abcrow2_col4\" class=\"data row2 col4\" >21</td>\n",
       "                        <td id=\"T_b1e08bc6_992f_11ea_b362_f48e38f24abcrow2_col5\" class=\"data row2 col5\" >5</td>\n",
       "            </tr>\n",
       "            <tr>\n",
       "                                <td id=\"T_b1e08bc6_992f_11ea_b362_f48e38f24abcrow3_col0\" class=\"data row3 col0\" >48.36</td>\n",
       "                        <td id=\"T_b1e08bc6_992f_11ea_b362_f48e38f24abcrow3_col1\" class=\"data row3 col1\" >[1.8, 2.5]</td>\n",
       "                        <td id=\"T_b1e08bc6_992f_11ea_b362_f48e38f24abcrow3_col2\" class=\"data row3 col2\" >1.8</td>\n",
       "                        <td id=\"T_b1e08bc6_992f_11ea_b362_f48e38f24abcrow3_col3\" class=\"data row3 col3\" >0</td>\n",
       "                        <td id=\"T_b1e08bc6_992f_11ea_b362_f48e38f24abcrow3_col4\" class=\"data row3 col4\" >1</td>\n",
       "                        <td id=\"T_b1e08bc6_992f_11ea_b362_f48e38f24abcrow3_col5\" class=\"data row3 col5\" >45</td>\n",
       "            </tr>\n",
       "    </tbody></table>"
      ],
      "text/plain": [
       "<pandas.io.formats.style.Styler at 0x2bcc2b8e408>"
      ]
     },
     "metadata": {},
     "output_type": "display_data"
    }
   ],
   "source": [
    "# Ignore runtime warnings\n",
    "import warnings\n",
    "warnings.filterwarnings(\"ignore\", category=RuntimeWarning)\n",
    "\n",
    "# Calulate and output the discretized values for all features of the iris data-set\n",
    "for feature in iris.columns:\n",
    "    # Ignore discretization for the target label\n",
    "    if feature=='Class':\n",
    "        continue\n",
    "    f = getContingencyTbl(iris, feature)\n",
    "\n",
    "    # Perform discretization, set numOfIntervals (enforced) which is the number of bins/discretized intervals\n",
    "    # Also define a chiThreshold where known, it is set (not enforced) for 95% independence on 2 degrees of freedom\n",
    "    f_arr, chi2_arr = chiMerge(f[:,1:], f[:,0:1], numOfIntervals=4, chiThreshold=5.99)    \n",
    "    cols = [feature, 'Iris-setosa', 'Iris-versicolor', 'Iris-virginica']\n",
    "    typeDict = {'Iris-setosa':'int64', 'Iris-versicolor':'int64', 'Iris-virginica':'int64', 'Bins':'string'}\n",
    "    formatDict = {feature:\"{:.1f}\"}\n",
    "    \n",
    "    # Display all the discretized features one by one\n",
    "    binnedOutput(f_arr, chi2_arr, feature, cols, typeDict, formatDict, f[-1][0], chi2_contingency(f[:,1:])[0])\n",
    "    \n",
    "# The first Chi2 will be 0 as we are not comparing the first row with anything\n",
    "# For every subsequent row Chi2 is the value between the row in question and the previous row\n",
    "# Note that it is replaced with the chi2 of the contingency matrix as a whole instead of 0\n",
    "# Split points are neatly captured in the Bins column which also summarized the final intervals\n",
    "\n",
    "# Check the paper at the below link to see that the results exactly match\n",
    "# https://sci2s.ugr.es/keel/pdf/algorithm/congreso/1992-Kerber-ChimErge-AAAI92.pdf"
   ]
  },
  {
   "cell_type": "code",
   "execution_count": 14,
   "metadata": {
    "scrolled": false
   },
   "outputs": [
    {
     "data": {
      "text/html": [
       "<style  type=\"text/css\" >\n",
       "</style><table id=\"T_b1e59180_992f_11ea_8b11_f48e38f24abc\" ><thead>    <tr>        <th class=\"col_heading level0 col0\" >Chi2</th>        <th class=\"col_heading level0 col1\" >Bins</th>        <th class=\"col_heading level0 col2\" >X</th>        <th class=\"col_heading level0 col3\" >A</th>        <th class=\"col_heading level0 col4\" >B</th>    </tr></thead><tbody>\n",
       "                <tr>\n",
       "                                <td id=\"T_b1e59180_992f_11ea_8b11_f48e38f24abcrow0_col0\" class=\"data row0 col0\" >7.00</td>\n",
       "                        <td id=\"T_b1e59180_992f_11ea_8b11_f48e38f24abcrow0_col1\" class=\"data row0 col1\" >[1,3)</td>\n",
       "                        <td id=\"T_b1e59180_992f_11ea_8b11_f48e38f24abcrow0_col2\" class=\"data row0 col2\" >1</td>\n",
       "                        <td id=\"T_b1e59180_992f_11ea_8b11_f48e38f24abcrow0_col3\" class=\"data row0 col3\" >1</td>\n",
       "                        <td id=\"T_b1e59180_992f_11ea_8b11_f48e38f24abcrow0_col4\" class=\"data row0 col4\" >0</td>\n",
       "            </tr>\n",
       "            <tr>\n",
       "                                <td id=\"T_b1e59180_992f_11ea_8b11_f48e38f24abcrow1_col0\" class=\"data row1 col0\" >2.00</td>\n",
       "                        <td id=\"T_b1e59180_992f_11ea_8b11_f48e38f24abcrow1_col1\" class=\"data row1 col1\" >[3,5)</td>\n",
       "                        <td id=\"T_b1e59180_992f_11ea_8b11_f48e38f24abcrow1_col2\" class=\"data row1 col2\" >3</td>\n",
       "                        <td id=\"T_b1e59180_992f_11ea_8b11_f48e38f24abcrow1_col3\" class=\"data row1 col3\" >0</td>\n",
       "                        <td id=\"T_b1e59180_992f_11ea_8b11_f48e38f24abcrow1_col4\" class=\"data row1 col4\" >1</td>\n",
       "            </tr>\n",
       "            <tr>\n",
       "                                <td id=\"T_b1e59180_992f_11ea_8b11_f48e38f24abcrow2_col0\" class=\"data row2 col0\" >2.00</td>\n",
       "                        <td id=\"T_b1e59180_992f_11ea_8b11_f48e38f24abcrow2_col1\" class=\"data row2 col1\" >[5,7)</td>\n",
       "                        <td id=\"T_b1e59180_992f_11ea_8b11_f48e38f24abcrow2_col2\" class=\"data row2 col2\" >5</td>\n",
       "                        <td id=\"T_b1e59180_992f_11ea_8b11_f48e38f24abcrow2_col3\" class=\"data row2 col3\" >1</td>\n",
       "                        <td id=\"T_b1e59180_992f_11ea_8b11_f48e38f24abcrow2_col4\" class=\"data row2 col4\" >0</td>\n",
       "            </tr>\n",
       "            <tr>\n",
       "                                <td id=\"T_b1e59180_992f_11ea_8b11_f48e38f24abcrow3_col0\" class=\"data row3 col0\" >2.00</td>\n",
       "                        <td id=\"T_b1e59180_992f_11ea_8b11_f48e38f24abcrow3_col1\" class=\"data row3 col1\" >[7,9)</td>\n",
       "                        <td id=\"T_b1e59180_992f_11ea_8b11_f48e38f24abcrow3_col2\" class=\"data row3 col2\" >7</td>\n",
       "                        <td id=\"T_b1e59180_992f_11ea_8b11_f48e38f24abcrow3_col3\" class=\"data row3 col3\" >0</td>\n",
       "                        <td id=\"T_b1e59180_992f_11ea_8b11_f48e38f24abcrow3_col4\" class=\"data row3 col4\" >1</td>\n",
       "            </tr>\n",
       "            <tr>\n",
       "                                <td id=\"T_b1e59180_992f_11ea_8b11_f48e38f24abcrow4_col0\" class=\"data row4 col0\" >2.00</td>\n",
       "                        <td id=\"T_b1e59180_992f_11ea_8b11_f48e38f24abcrow4_col1\" class=\"data row4 col1\" >[9,11)</td>\n",
       "                        <td id=\"T_b1e59180_992f_11ea_8b11_f48e38f24abcrow4_col2\" class=\"data row4 col2\" >9</td>\n",
       "                        <td id=\"T_b1e59180_992f_11ea_8b11_f48e38f24abcrow4_col3\" class=\"data row4 col3\" >1</td>\n",
       "                        <td id=\"T_b1e59180_992f_11ea_8b11_f48e38f24abcrow4_col4\" class=\"data row4 col4\" >0</td>\n",
       "            </tr>\n",
       "            <tr>\n",
       "                                <td id=\"T_b1e59180_992f_11ea_8b11_f48e38f24abcrow5_col0\" class=\"data row5 col0\" >2.00</td>\n",
       "                        <td id=\"T_b1e59180_992f_11ea_8b11_f48e38f24abcrow5_col1\" class=\"data row5 col1\" >[11,13)</td>\n",
       "                        <td id=\"T_b1e59180_992f_11ea_8b11_f48e38f24abcrow5_col2\" class=\"data row5 col2\" >11</td>\n",
       "                        <td id=\"T_b1e59180_992f_11ea_8b11_f48e38f24abcrow5_col3\" class=\"data row5 col3\" >0</td>\n",
       "                        <td id=\"T_b1e59180_992f_11ea_8b11_f48e38f24abcrow5_col4\" class=\"data row5 col4\" >1</td>\n",
       "            </tr>\n",
       "            <tr>\n",
       "                                <td id=\"T_b1e59180_992f_11ea_8b11_f48e38f24abcrow6_col0\" class=\"data row6 col0\" >2.00</td>\n",
       "                        <td id=\"T_b1e59180_992f_11ea_8b11_f48e38f24abcrow6_col1\" class=\"data row6 col1\" >[13, 13]</td>\n",
       "                        <td id=\"T_b1e59180_992f_11ea_8b11_f48e38f24abcrow6_col2\" class=\"data row6 col2\" >13</td>\n",
       "                        <td id=\"T_b1e59180_992f_11ea_8b11_f48e38f24abcrow6_col3\" class=\"data row6 col3\" >1</td>\n",
       "                        <td id=\"T_b1e59180_992f_11ea_8b11_f48e38f24abcrow6_col4\" class=\"data row6 col4\" >0</td>\n",
       "            </tr>\n",
       "    </tbody></table>"
      ],
      "text/plain": [
       "<pandas.io.formats.style.Styler at 0x2bcc2bb8cc8>"
      ]
     },
     "metadata": {},
     "output_type": "display_data"
    },
    {
     "data": {
      "text/html": [
       "<style  type=\"text/css\" >\n",
       "</style><table id=\"T_b1e7b2e6_992f_11ea_8bee_f48e38f24abc\" ><thead>    <tr>        <th class=\"col_heading level0 col0\" >Chi2</th>        <th class=\"col_heading level0 col1\" >Bins</th>        <th class=\"col_heading level0 col2\" >X</th>        <th class=\"col_heading level0 col3\" >A</th>        <th class=\"col_heading level0 col4\" >B</th>    </tr></thead><tbody>\n",
       "                <tr>\n",
       "                                <td id=\"T_b1e7b2e6_992f_11ea_8bee_f48e38f24abcrow0_col0\" class=\"data row0 col0\" >7.00</td>\n",
       "                        <td id=\"T_b1e7b2e6_992f_11ea_8bee_f48e38f24abcrow0_col1\" class=\"data row0 col1\" >[1,5)</td>\n",
       "                        <td id=\"T_b1e7b2e6_992f_11ea_8bee_f48e38f24abcrow0_col2\" class=\"data row0 col2\" >1</td>\n",
       "                        <td id=\"T_b1e7b2e6_992f_11ea_8bee_f48e38f24abcrow0_col3\" class=\"data row0 col3\" >1</td>\n",
       "                        <td id=\"T_b1e7b2e6_992f_11ea_8bee_f48e38f24abcrow0_col4\" class=\"data row0 col4\" >1</td>\n",
       "            </tr>\n",
       "            <tr>\n",
       "                                <td id=\"T_b1e7b2e6_992f_11ea_8bee_f48e38f24abcrow1_col0\" class=\"data row1 col0\" >0.75</td>\n",
       "                        <td id=\"T_b1e7b2e6_992f_11ea_8bee_f48e38f24abcrow1_col1\" class=\"data row1 col1\" >[5,7)</td>\n",
       "                        <td id=\"T_b1e7b2e6_992f_11ea_8bee_f48e38f24abcrow1_col2\" class=\"data row1 col2\" >5</td>\n",
       "                        <td id=\"T_b1e7b2e6_992f_11ea_8bee_f48e38f24abcrow1_col3\" class=\"data row1 col3\" >1</td>\n",
       "                        <td id=\"T_b1e7b2e6_992f_11ea_8bee_f48e38f24abcrow1_col4\" class=\"data row1 col4\" >0</td>\n",
       "            </tr>\n",
       "            <tr>\n",
       "                                <td id=\"T_b1e7b2e6_992f_11ea_8bee_f48e38f24abcrow2_col0\" class=\"data row2 col0\" >2.00</td>\n",
       "                        <td id=\"T_b1e7b2e6_992f_11ea_8bee_f48e38f24abcrow2_col1\" class=\"data row2 col1\" >[7,9)</td>\n",
       "                        <td id=\"T_b1e7b2e6_992f_11ea_8bee_f48e38f24abcrow2_col2\" class=\"data row2 col2\" >7</td>\n",
       "                        <td id=\"T_b1e7b2e6_992f_11ea_8bee_f48e38f24abcrow2_col3\" class=\"data row2 col3\" >0</td>\n",
       "                        <td id=\"T_b1e7b2e6_992f_11ea_8bee_f48e38f24abcrow2_col4\" class=\"data row2 col4\" >1</td>\n",
       "            </tr>\n",
       "            <tr>\n",
       "                                <td id=\"T_b1e7b2e6_992f_11ea_8bee_f48e38f24abcrow3_col0\" class=\"data row3 col0\" >2.00</td>\n",
       "                        <td id=\"T_b1e7b2e6_992f_11ea_8bee_f48e38f24abcrow3_col1\" class=\"data row3 col1\" >[9,11)</td>\n",
       "                        <td id=\"T_b1e7b2e6_992f_11ea_8bee_f48e38f24abcrow3_col2\" class=\"data row3 col2\" >9</td>\n",
       "                        <td id=\"T_b1e7b2e6_992f_11ea_8bee_f48e38f24abcrow3_col3\" class=\"data row3 col3\" >1</td>\n",
       "                        <td id=\"T_b1e7b2e6_992f_11ea_8bee_f48e38f24abcrow3_col4\" class=\"data row3 col4\" >0</td>\n",
       "            </tr>\n",
       "            <tr>\n",
       "                                <td id=\"T_b1e7b2e6_992f_11ea_8bee_f48e38f24abcrow4_col0\" class=\"data row4 col0\" >2.00</td>\n",
       "                        <td id=\"T_b1e7b2e6_992f_11ea_8bee_f48e38f24abcrow4_col1\" class=\"data row4 col1\" >[11,13)</td>\n",
       "                        <td id=\"T_b1e7b2e6_992f_11ea_8bee_f48e38f24abcrow4_col2\" class=\"data row4 col2\" >11</td>\n",
       "                        <td id=\"T_b1e7b2e6_992f_11ea_8bee_f48e38f24abcrow4_col3\" class=\"data row4 col3\" >0</td>\n",
       "                        <td id=\"T_b1e7b2e6_992f_11ea_8bee_f48e38f24abcrow4_col4\" class=\"data row4 col4\" >1</td>\n",
       "            </tr>\n",
       "            <tr>\n",
       "                                <td id=\"T_b1e7b2e6_992f_11ea_8bee_f48e38f24abcrow5_col0\" class=\"data row5 col0\" >2.00</td>\n",
       "                        <td id=\"T_b1e7b2e6_992f_11ea_8bee_f48e38f24abcrow5_col1\" class=\"data row5 col1\" >[13, 13]</td>\n",
       "                        <td id=\"T_b1e7b2e6_992f_11ea_8bee_f48e38f24abcrow5_col2\" class=\"data row5 col2\" >13</td>\n",
       "                        <td id=\"T_b1e7b2e6_992f_11ea_8bee_f48e38f24abcrow5_col3\" class=\"data row5 col3\" >1</td>\n",
       "                        <td id=\"T_b1e7b2e6_992f_11ea_8bee_f48e38f24abcrow5_col4\" class=\"data row5 col4\" >0</td>\n",
       "            </tr>\n",
       "    </tbody></table>"
      ],
      "text/plain": [
       "<pandas.io.formats.style.Styler at 0x2bcc2bc2b48>"
      ]
     },
     "metadata": {},
     "output_type": "display_data"
    },
    {
     "data": {
      "text/html": [
       "<style  type=\"text/css\" >\n",
       "</style><table id=\"T_b1e98664_992f_11ea_ae96_f48e38f24abc\" ><thead>    <tr>        <th class=\"col_heading level0 col0\" >Chi2</th>        <th class=\"col_heading level0 col1\" >Bins</th>        <th class=\"col_heading level0 col2\" >X</th>        <th class=\"col_heading level0 col3\" >A</th>        <th class=\"col_heading level0 col4\" >B</th>    </tr></thead><tbody>\n",
       "                <tr>\n",
       "                                <td id=\"T_b1e98664_992f_11ea_ae96_f48e38f24abcrow0_col0\" class=\"data row0 col0\" >7.00</td>\n",
       "                        <td id=\"T_b1e98664_992f_11ea_ae96_f48e38f24abcrow0_col1\" class=\"data row0 col1\" >[1,7)</td>\n",
       "                        <td id=\"T_b1e98664_992f_11ea_ae96_f48e38f24abcrow0_col2\" class=\"data row0 col2\" >1</td>\n",
       "                        <td id=\"T_b1e98664_992f_11ea_ae96_f48e38f24abcrow0_col3\" class=\"data row0 col3\" >2</td>\n",
       "                        <td id=\"T_b1e98664_992f_11ea_ae96_f48e38f24abcrow0_col4\" class=\"data row0 col4\" >1</td>\n",
       "            </tr>\n",
       "            <tr>\n",
       "                                <td id=\"T_b1e98664_992f_11ea_ae96_f48e38f24abcrow1_col0\" class=\"data row1 col0\" >1.33</td>\n",
       "                        <td id=\"T_b1e98664_992f_11ea_ae96_f48e38f24abcrow1_col1\" class=\"data row1 col1\" >[7,9)</td>\n",
       "                        <td id=\"T_b1e98664_992f_11ea_ae96_f48e38f24abcrow1_col2\" class=\"data row1 col2\" >7</td>\n",
       "                        <td id=\"T_b1e98664_992f_11ea_ae96_f48e38f24abcrow1_col3\" class=\"data row1 col3\" >0</td>\n",
       "                        <td id=\"T_b1e98664_992f_11ea_ae96_f48e38f24abcrow1_col4\" class=\"data row1 col4\" >1</td>\n",
       "            </tr>\n",
       "            <tr>\n",
       "                                <td id=\"T_b1e98664_992f_11ea_ae96_f48e38f24abcrow2_col0\" class=\"data row2 col0\" >2.00</td>\n",
       "                        <td id=\"T_b1e98664_992f_11ea_ae96_f48e38f24abcrow2_col1\" class=\"data row2 col1\" >[9,11)</td>\n",
       "                        <td id=\"T_b1e98664_992f_11ea_ae96_f48e38f24abcrow2_col2\" class=\"data row2 col2\" >9</td>\n",
       "                        <td id=\"T_b1e98664_992f_11ea_ae96_f48e38f24abcrow2_col3\" class=\"data row2 col3\" >1</td>\n",
       "                        <td id=\"T_b1e98664_992f_11ea_ae96_f48e38f24abcrow2_col4\" class=\"data row2 col4\" >0</td>\n",
       "            </tr>\n",
       "            <tr>\n",
       "                                <td id=\"T_b1e98664_992f_11ea_ae96_f48e38f24abcrow3_col0\" class=\"data row3 col0\" >2.00</td>\n",
       "                        <td id=\"T_b1e98664_992f_11ea_ae96_f48e38f24abcrow3_col1\" class=\"data row3 col1\" >[11,13)</td>\n",
       "                        <td id=\"T_b1e98664_992f_11ea_ae96_f48e38f24abcrow3_col2\" class=\"data row3 col2\" >11</td>\n",
       "                        <td id=\"T_b1e98664_992f_11ea_ae96_f48e38f24abcrow3_col3\" class=\"data row3 col3\" >0</td>\n",
       "                        <td id=\"T_b1e98664_992f_11ea_ae96_f48e38f24abcrow3_col4\" class=\"data row3 col4\" >1</td>\n",
       "            </tr>\n",
       "            <tr>\n",
       "                                <td id=\"T_b1e98664_992f_11ea_ae96_f48e38f24abcrow4_col0\" class=\"data row4 col0\" >2.00</td>\n",
       "                        <td id=\"T_b1e98664_992f_11ea_ae96_f48e38f24abcrow4_col1\" class=\"data row4 col1\" >[13, 13]</td>\n",
       "                        <td id=\"T_b1e98664_992f_11ea_ae96_f48e38f24abcrow4_col2\" class=\"data row4 col2\" >13</td>\n",
       "                        <td id=\"T_b1e98664_992f_11ea_ae96_f48e38f24abcrow4_col3\" class=\"data row4 col3\" >1</td>\n",
       "                        <td id=\"T_b1e98664_992f_11ea_ae96_f48e38f24abcrow4_col4\" class=\"data row4 col4\" >0</td>\n",
       "            </tr>\n",
       "    </tbody></table>"
      ],
      "text/plain": [
       "<pandas.io.formats.style.Styler at 0x2bcc2bc26c8>"
      ]
     },
     "metadata": {},
     "output_type": "display_data"
    },
    {
     "data": {
      "text/html": [
       "<style  type=\"text/css\" >\n",
       "</style><table id=\"T_b1ebcecc_992f_11ea_b4dd_f48e38f24abc\" ><thead>    <tr>        <th class=\"col_heading level0 col0\" >Chi2</th>        <th class=\"col_heading level0 col1\" >Bins</th>        <th class=\"col_heading level0 col2\" >X</th>        <th class=\"col_heading level0 col3\" >A</th>        <th class=\"col_heading level0 col4\" >B</th>    </tr></thead><tbody>\n",
       "                <tr>\n",
       "                                <td id=\"T_b1ebcecc_992f_11ea_b4dd_f48e38f24abcrow0_col0\" class=\"data row0 col0\" >7.00</td>\n",
       "                        <td id=\"T_b1ebcecc_992f_11ea_b4dd_f48e38f24abcrow0_col1\" class=\"data row0 col1\" >[1,9)</td>\n",
       "                        <td id=\"T_b1ebcecc_992f_11ea_b4dd_f48e38f24abcrow0_col2\" class=\"data row0 col2\" >1</td>\n",
       "                        <td id=\"T_b1ebcecc_992f_11ea_b4dd_f48e38f24abcrow0_col3\" class=\"data row0 col3\" >2</td>\n",
       "                        <td id=\"T_b1ebcecc_992f_11ea_b4dd_f48e38f24abcrow0_col4\" class=\"data row0 col4\" >2</td>\n",
       "            </tr>\n",
       "            <tr>\n",
       "                                <td id=\"T_b1ebcecc_992f_11ea_b4dd_f48e38f24abcrow1_col0\" class=\"data row1 col0\" >0.83</td>\n",
       "                        <td id=\"T_b1ebcecc_992f_11ea_b4dd_f48e38f24abcrow1_col1\" class=\"data row1 col1\" >[9,11)</td>\n",
       "                        <td id=\"T_b1ebcecc_992f_11ea_b4dd_f48e38f24abcrow1_col2\" class=\"data row1 col2\" >9</td>\n",
       "                        <td id=\"T_b1ebcecc_992f_11ea_b4dd_f48e38f24abcrow1_col3\" class=\"data row1 col3\" >1</td>\n",
       "                        <td id=\"T_b1ebcecc_992f_11ea_b4dd_f48e38f24abcrow1_col4\" class=\"data row1 col4\" >0</td>\n",
       "            </tr>\n",
       "            <tr>\n",
       "                                <td id=\"T_b1ebcecc_992f_11ea_b4dd_f48e38f24abcrow2_col0\" class=\"data row2 col0\" >2.00</td>\n",
       "                        <td id=\"T_b1ebcecc_992f_11ea_b4dd_f48e38f24abcrow2_col1\" class=\"data row2 col1\" >[11,13)</td>\n",
       "                        <td id=\"T_b1ebcecc_992f_11ea_b4dd_f48e38f24abcrow2_col2\" class=\"data row2 col2\" >11</td>\n",
       "                        <td id=\"T_b1ebcecc_992f_11ea_b4dd_f48e38f24abcrow2_col3\" class=\"data row2 col3\" >0</td>\n",
       "                        <td id=\"T_b1ebcecc_992f_11ea_b4dd_f48e38f24abcrow2_col4\" class=\"data row2 col4\" >1</td>\n",
       "            </tr>\n",
       "            <tr>\n",
       "                                <td id=\"T_b1ebcecc_992f_11ea_b4dd_f48e38f24abcrow3_col0\" class=\"data row3 col0\" >2.00</td>\n",
       "                        <td id=\"T_b1ebcecc_992f_11ea_b4dd_f48e38f24abcrow3_col1\" class=\"data row3 col1\" >[13, 13]</td>\n",
       "                        <td id=\"T_b1ebcecc_992f_11ea_b4dd_f48e38f24abcrow3_col2\" class=\"data row3 col2\" >13</td>\n",
       "                        <td id=\"T_b1ebcecc_992f_11ea_b4dd_f48e38f24abcrow3_col3\" class=\"data row3 col3\" >1</td>\n",
       "                        <td id=\"T_b1ebcecc_992f_11ea_b4dd_f48e38f24abcrow3_col4\" class=\"data row3 col4\" >0</td>\n",
       "            </tr>\n",
       "    </tbody></table>"
      ],
      "text/plain": [
       "<pandas.io.formats.style.Styler at 0x2bcc2bbafc8>"
      ]
     },
     "metadata": {},
     "output_type": "display_data"
    },
    {
     "data": {
      "text/html": [
       "<style  type=\"text/css\" >\n",
       "</style><table id=\"T_b1ee8c12_992f_11ea_9d66_f48e38f24abc\" ><thead>    <tr>        <th class=\"col_heading level0 col0\" >Chi2</th>        <th class=\"col_heading level0 col1\" >Bins</th>        <th class=\"col_heading level0 col2\" >X</th>        <th class=\"col_heading level0 col3\" >A</th>        <th class=\"col_heading level0 col4\" >B</th>    </tr></thead><tbody>\n",
       "                <tr>\n",
       "                                <td id=\"T_b1ee8c12_992f_11ea_9d66_f48e38f24abcrow0_col0\" class=\"data row0 col0\" >7.00</td>\n",
       "                        <td id=\"T_b1ee8c12_992f_11ea_9d66_f48e38f24abcrow0_col1\" class=\"data row0 col1\" >[1,11)</td>\n",
       "                        <td id=\"T_b1ee8c12_992f_11ea_9d66_f48e38f24abcrow0_col2\" class=\"data row0 col2\" >1</td>\n",
       "                        <td id=\"T_b1ee8c12_992f_11ea_9d66_f48e38f24abcrow0_col3\" class=\"data row0 col3\" >3</td>\n",
       "                        <td id=\"T_b1ee8c12_992f_11ea_9d66_f48e38f24abcrow0_col4\" class=\"data row0 col4\" >2</td>\n",
       "            </tr>\n",
       "            <tr>\n",
       "                                <td id=\"T_b1ee8c12_992f_11ea_9d66_f48e38f24abcrow1_col0\" class=\"data row1 col0\" >1.20</td>\n",
       "                        <td id=\"T_b1ee8c12_992f_11ea_9d66_f48e38f24abcrow1_col1\" class=\"data row1 col1\" >[11,13)</td>\n",
       "                        <td id=\"T_b1ee8c12_992f_11ea_9d66_f48e38f24abcrow1_col2\" class=\"data row1 col2\" >11</td>\n",
       "                        <td id=\"T_b1ee8c12_992f_11ea_9d66_f48e38f24abcrow1_col3\" class=\"data row1 col3\" >0</td>\n",
       "                        <td id=\"T_b1ee8c12_992f_11ea_9d66_f48e38f24abcrow1_col4\" class=\"data row1 col4\" >1</td>\n",
       "            </tr>\n",
       "            <tr>\n",
       "                                <td id=\"T_b1ee8c12_992f_11ea_9d66_f48e38f24abcrow2_col0\" class=\"data row2 col0\" >2.00</td>\n",
       "                        <td id=\"T_b1ee8c12_992f_11ea_9d66_f48e38f24abcrow2_col1\" class=\"data row2 col1\" >[13, 13]</td>\n",
       "                        <td id=\"T_b1ee8c12_992f_11ea_9d66_f48e38f24abcrow2_col2\" class=\"data row2 col2\" >13</td>\n",
       "                        <td id=\"T_b1ee8c12_992f_11ea_9d66_f48e38f24abcrow2_col3\" class=\"data row2 col3\" >1</td>\n",
       "                        <td id=\"T_b1ee8c12_992f_11ea_9d66_f48e38f24abcrow2_col4\" class=\"data row2 col4\" >0</td>\n",
       "            </tr>\n",
       "    </tbody></table>"
      ],
      "text/plain": [
       "<pandas.io.formats.style.Styler at 0x2bcc2bbd708>"
      ]
     },
     "metadata": {},
     "output_type": "display_data"
    },
    {
     "data": {
      "text/html": [
       "<style  type=\"text/css\" >\n",
       "</style><table id=\"T_b1f1226e_992f_11ea_9ed7_f48e38f24abc\" ><thead>    <tr>        <th class=\"col_heading level0 col0\" >Chi2</th>        <th class=\"col_heading level0 col1\" >Bins</th>        <th class=\"col_heading level0 col2\" >X</th>        <th class=\"col_heading level0 col3\" >A</th>        <th class=\"col_heading level0 col4\" >B</th>    </tr></thead><tbody>\n",
       "                <tr>\n",
       "                                <td id=\"T_b1f1226e_992f_11ea_9ed7_f48e38f24abcrow0_col0\" class=\"data row0 col0\" >7.00</td>\n",
       "                        <td id=\"T_b1f1226e_992f_11ea_9ed7_f48e38f24abcrow0_col1\" class=\"data row0 col1\" >[1,13)</td>\n",
       "                        <td id=\"T_b1f1226e_992f_11ea_9ed7_f48e38f24abcrow0_col2\" class=\"data row0 col2\" >1</td>\n",
       "                        <td id=\"T_b1f1226e_992f_11ea_9ed7_f48e38f24abcrow0_col3\" class=\"data row0 col3\" >3</td>\n",
       "                        <td id=\"T_b1f1226e_992f_11ea_9ed7_f48e38f24abcrow0_col4\" class=\"data row0 col4\" >3</td>\n",
       "            </tr>\n",
       "            <tr>\n",
       "                                <td id=\"T_b1f1226e_992f_11ea_9ed7_f48e38f24abcrow1_col0\" class=\"data row1 col0\" >0.88</td>\n",
       "                        <td id=\"T_b1f1226e_992f_11ea_9ed7_f48e38f24abcrow1_col1\" class=\"data row1 col1\" >[13, 13]</td>\n",
       "                        <td id=\"T_b1f1226e_992f_11ea_9ed7_f48e38f24abcrow1_col2\" class=\"data row1 col2\" >13</td>\n",
       "                        <td id=\"T_b1f1226e_992f_11ea_9ed7_f48e38f24abcrow1_col3\" class=\"data row1 col3\" >1</td>\n",
       "                        <td id=\"T_b1f1226e_992f_11ea_9ed7_f48e38f24abcrow1_col4\" class=\"data row1 col4\" >0</td>\n",
       "            </tr>\n",
       "    </tbody></table>"
      ],
      "text/plain": [
       "<pandas.io.formats.style.Styler at 0x2bcc2acaf48>"
      ]
     },
     "metadata": {},
     "output_type": "display_data"
    },
    {
     "data": {
      "text/html": [
       "<style  type=\"text/css\" >\n",
       "</style><table id=\"T_b1f3b8b8_992f_11ea_9c91_f48e38f24abc\" ><thead>    <tr>        <th class=\"col_heading level0 col0\" >Chi2</th>        <th class=\"col_heading level0 col1\" >Bins</th>        <th class=\"col_heading level0 col2\" >X</th>        <th class=\"col_heading level0 col3\" >A</th>        <th class=\"col_heading level0 col4\" >B</th>    </tr></thead><tbody>\n",
       "                <tr>\n",
       "                                <td id=\"T_b1f3b8b8_992f_11ea_9c91_f48e38f24abcrow0_col0\" class=\"data row0 col0\" >7.00</td>\n",
       "                        <td id=\"T_b1f3b8b8_992f_11ea_9c91_f48e38f24abcrow0_col1\" class=\"data row0 col1\" >[1, 13]</td>\n",
       "                        <td id=\"T_b1f3b8b8_992f_11ea_9c91_f48e38f24abcrow0_col2\" class=\"data row0 col2\" >1</td>\n",
       "                        <td id=\"T_b1f3b8b8_992f_11ea_9c91_f48e38f24abcrow0_col3\" class=\"data row0 col3\" >4</td>\n",
       "                        <td id=\"T_b1f3b8b8_992f_11ea_9c91_f48e38f24abcrow0_col4\" class=\"data row0 col4\" >3</td>\n",
       "            </tr>\n",
       "    </tbody></table>"
      ],
      "text/plain": [
       "<pandas.io.formats.style.Styler at 0x2bcc2bc2388>"
      ]
     },
     "metadata": {},
     "output_type": "display_data"
    },
    {
     "data": {
      "text/html": [
       "<style  type=\"text/css\" >\n",
       "</style><table id=\"T_b1f711d4_992f_11ea_b136_f48e38f24abc\" ><thead>    <tr>        <th class=\"col_heading level0 col0\" >Chi2</th>        <th class=\"col_heading level0 col1\" >Bins</th>        <th class=\"col_heading level0 col2\" >Y</th>        <th class=\"col_heading level0 col3\" >A</th>        <th class=\"col_heading level0 col4\" >B</th>    </tr></thead><tbody>\n",
       "                <tr>\n",
       "                                <td id=\"T_b1f711d4_992f_11ea_b136_f48e38f24abcrow0_col0\" class=\"data row0 col0\" >7.00</td>\n",
       "                        <td id=\"T_b1f711d4_992f_11ea_b136_f48e38f24abcrow0_col1\" class=\"data row0 col1\" >[2,4)</td>\n",
       "                        <td id=\"T_b1f711d4_992f_11ea_b136_f48e38f24abcrow0_col2\" class=\"data row0 col2\" >2</td>\n",
       "                        <td id=\"T_b1f711d4_992f_11ea_b136_f48e38f24abcrow0_col3\" class=\"data row0 col3\" >1</td>\n",
       "                        <td id=\"T_b1f711d4_992f_11ea_b136_f48e38f24abcrow0_col4\" class=\"data row0 col4\" >0</td>\n",
       "            </tr>\n",
       "            <tr>\n",
       "                                <td id=\"T_b1f711d4_992f_11ea_b136_f48e38f24abcrow1_col0\" class=\"data row1 col0\" >2.00</td>\n",
       "                        <td id=\"T_b1f711d4_992f_11ea_b136_f48e38f24abcrow1_col1\" class=\"data row1 col1\" >[4,6)</td>\n",
       "                        <td id=\"T_b1f711d4_992f_11ea_b136_f48e38f24abcrow1_col2\" class=\"data row1 col2\" >4</td>\n",
       "                        <td id=\"T_b1f711d4_992f_11ea_b136_f48e38f24abcrow1_col3\" class=\"data row1 col3\" >0</td>\n",
       "                        <td id=\"T_b1f711d4_992f_11ea_b136_f48e38f24abcrow1_col4\" class=\"data row1 col4\" >1</td>\n",
       "            </tr>\n",
       "            <tr>\n",
       "                                <td id=\"T_b1f711d4_992f_11ea_b136_f48e38f24abcrow2_col0\" class=\"data row2 col0\" >2.00</td>\n",
       "                        <td id=\"T_b1f711d4_992f_11ea_b136_f48e38f24abcrow2_col1\" class=\"data row2 col1\" >[6,8)</td>\n",
       "                        <td id=\"T_b1f711d4_992f_11ea_b136_f48e38f24abcrow2_col2\" class=\"data row2 col2\" >6</td>\n",
       "                        <td id=\"T_b1f711d4_992f_11ea_b136_f48e38f24abcrow2_col3\" class=\"data row2 col3\" >1</td>\n",
       "                        <td id=\"T_b1f711d4_992f_11ea_b136_f48e38f24abcrow2_col4\" class=\"data row2 col4\" >0</td>\n",
       "            </tr>\n",
       "            <tr>\n",
       "                                <td id=\"T_b1f711d4_992f_11ea_b136_f48e38f24abcrow3_col0\" class=\"data row3 col0\" >2.00</td>\n",
       "                        <td id=\"T_b1f711d4_992f_11ea_b136_f48e38f24abcrow3_col1\" class=\"data row3 col1\" >[8,10)</td>\n",
       "                        <td id=\"T_b1f711d4_992f_11ea_b136_f48e38f24abcrow3_col2\" class=\"data row3 col2\" >8</td>\n",
       "                        <td id=\"T_b1f711d4_992f_11ea_b136_f48e38f24abcrow3_col3\" class=\"data row3 col3\" >0</td>\n",
       "                        <td id=\"T_b1f711d4_992f_11ea_b136_f48e38f24abcrow3_col4\" class=\"data row3 col4\" >1</td>\n",
       "            </tr>\n",
       "            <tr>\n",
       "                                <td id=\"T_b1f711d4_992f_11ea_b136_f48e38f24abcrow4_col0\" class=\"data row4 col0\" >2.00</td>\n",
       "                        <td id=\"T_b1f711d4_992f_11ea_b136_f48e38f24abcrow4_col1\" class=\"data row4 col1\" >[10,12)</td>\n",
       "                        <td id=\"T_b1f711d4_992f_11ea_b136_f48e38f24abcrow4_col2\" class=\"data row4 col2\" >10</td>\n",
       "                        <td id=\"T_b1f711d4_992f_11ea_b136_f48e38f24abcrow4_col3\" class=\"data row4 col3\" >1</td>\n",
       "                        <td id=\"T_b1f711d4_992f_11ea_b136_f48e38f24abcrow4_col4\" class=\"data row4 col4\" >0</td>\n",
       "            </tr>\n",
       "            <tr>\n",
       "                                <td id=\"T_b1f711d4_992f_11ea_b136_f48e38f24abcrow5_col0\" class=\"data row5 col0\" >2.00</td>\n",
       "                        <td id=\"T_b1f711d4_992f_11ea_b136_f48e38f24abcrow5_col1\" class=\"data row5 col1\" >[12,14)</td>\n",
       "                        <td id=\"T_b1f711d4_992f_11ea_b136_f48e38f24abcrow5_col2\" class=\"data row5 col2\" >12</td>\n",
       "                        <td id=\"T_b1f711d4_992f_11ea_b136_f48e38f24abcrow5_col3\" class=\"data row5 col3\" >0</td>\n",
       "                        <td id=\"T_b1f711d4_992f_11ea_b136_f48e38f24abcrow5_col4\" class=\"data row5 col4\" >1</td>\n",
       "            </tr>\n",
       "            <tr>\n",
       "                                <td id=\"T_b1f711d4_992f_11ea_b136_f48e38f24abcrow6_col0\" class=\"data row6 col0\" >2.00</td>\n",
       "                        <td id=\"T_b1f711d4_992f_11ea_b136_f48e38f24abcrow6_col1\" class=\"data row6 col1\" >[14, 14]</td>\n",
       "                        <td id=\"T_b1f711d4_992f_11ea_b136_f48e38f24abcrow6_col2\" class=\"data row6 col2\" >14</td>\n",
       "                        <td id=\"T_b1f711d4_992f_11ea_b136_f48e38f24abcrow6_col3\" class=\"data row6 col3\" >1</td>\n",
       "                        <td id=\"T_b1f711d4_992f_11ea_b136_f48e38f24abcrow6_col4\" class=\"data row6 col4\" >0</td>\n",
       "            </tr>\n",
       "    </tbody></table>"
      ],
      "text/plain": [
       "<pandas.io.formats.style.Styler at 0x2bcc2bc6488>"
      ]
     },
     "metadata": {},
     "output_type": "display_data"
    },
    {
     "data": {
      "text/html": [
       "<style  type=\"text/css\" >\n",
       "</style><table id=\"T_b1f90c4a_992f_11ea_982c_f48e38f24abc\" ><thead>    <tr>        <th class=\"col_heading level0 col0\" >Chi2</th>        <th class=\"col_heading level0 col1\" >Bins</th>        <th class=\"col_heading level0 col2\" >Y</th>        <th class=\"col_heading level0 col3\" >A</th>        <th class=\"col_heading level0 col4\" >B</th>    </tr></thead><tbody>\n",
       "                <tr>\n",
       "                                <td id=\"T_b1f90c4a_992f_11ea_982c_f48e38f24abcrow0_col0\" class=\"data row0 col0\" >7.00</td>\n",
       "                        <td id=\"T_b1f90c4a_992f_11ea_982c_f48e38f24abcrow0_col1\" class=\"data row0 col1\" >[2,6)</td>\n",
       "                        <td id=\"T_b1f90c4a_992f_11ea_982c_f48e38f24abcrow0_col2\" class=\"data row0 col2\" >2</td>\n",
       "                        <td id=\"T_b1f90c4a_992f_11ea_982c_f48e38f24abcrow0_col3\" class=\"data row0 col3\" >1</td>\n",
       "                        <td id=\"T_b1f90c4a_992f_11ea_982c_f48e38f24abcrow0_col4\" class=\"data row0 col4\" >1</td>\n",
       "            </tr>\n",
       "            <tr>\n",
       "                                <td id=\"T_b1f90c4a_992f_11ea_982c_f48e38f24abcrow1_col0\" class=\"data row1 col0\" >0.75</td>\n",
       "                        <td id=\"T_b1f90c4a_992f_11ea_982c_f48e38f24abcrow1_col1\" class=\"data row1 col1\" >[6,8)</td>\n",
       "                        <td id=\"T_b1f90c4a_992f_11ea_982c_f48e38f24abcrow1_col2\" class=\"data row1 col2\" >6</td>\n",
       "                        <td id=\"T_b1f90c4a_992f_11ea_982c_f48e38f24abcrow1_col3\" class=\"data row1 col3\" >1</td>\n",
       "                        <td id=\"T_b1f90c4a_992f_11ea_982c_f48e38f24abcrow1_col4\" class=\"data row1 col4\" >0</td>\n",
       "            </tr>\n",
       "            <tr>\n",
       "                                <td id=\"T_b1f90c4a_992f_11ea_982c_f48e38f24abcrow2_col0\" class=\"data row2 col0\" >2.00</td>\n",
       "                        <td id=\"T_b1f90c4a_992f_11ea_982c_f48e38f24abcrow2_col1\" class=\"data row2 col1\" >[8,10)</td>\n",
       "                        <td id=\"T_b1f90c4a_992f_11ea_982c_f48e38f24abcrow2_col2\" class=\"data row2 col2\" >8</td>\n",
       "                        <td id=\"T_b1f90c4a_992f_11ea_982c_f48e38f24abcrow2_col3\" class=\"data row2 col3\" >0</td>\n",
       "                        <td id=\"T_b1f90c4a_992f_11ea_982c_f48e38f24abcrow2_col4\" class=\"data row2 col4\" >1</td>\n",
       "            </tr>\n",
       "            <tr>\n",
       "                                <td id=\"T_b1f90c4a_992f_11ea_982c_f48e38f24abcrow3_col0\" class=\"data row3 col0\" >2.00</td>\n",
       "                        <td id=\"T_b1f90c4a_992f_11ea_982c_f48e38f24abcrow3_col1\" class=\"data row3 col1\" >[10,12)</td>\n",
       "                        <td id=\"T_b1f90c4a_992f_11ea_982c_f48e38f24abcrow3_col2\" class=\"data row3 col2\" >10</td>\n",
       "                        <td id=\"T_b1f90c4a_992f_11ea_982c_f48e38f24abcrow3_col3\" class=\"data row3 col3\" >1</td>\n",
       "                        <td id=\"T_b1f90c4a_992f_11ea_982c_f48e38f24abcrow3_col4\" class=\"data row3 col4\" >0</td>\n",
       "            </tr>\n",
       "            <tr>\n",
       "                                <td id=\"T_b1f90c4a_992f_11ea_982c_f48e38f24abcrow4_col0\" class=\"data row4 col0\" >2.00</td>\n",
       "                        <td id=\"T_b1f90c4a_992f_11ea_982c_f48e38f24abcrow4_col1\" class=\"data row4 col1\" >[12,14)</td>\n",
       "                        <td id=\"T_b1f90c4a_992f_11ea_982c_f48e38f24abcrow4_col2\" class=\"data row4 col2\" >12</td>\n",
       "                        <td id=\"T_b1f90c4a_992f_11ea_982c_f48e38f24abcrow4_col3\" class=\"data row4 col3\" >0</td>\n",
       "                        <td id=\"T_b1f90c4a_992f_11ea_982c_f48e38f24abcrow4_col4\" class=\"data row4 col4\" >1</td>\n",
       "            </tr>\n",
       "            <tr>\n",
       "                                <td id=\"T_b1f90c4a_992f_11ea_982c_f48e38f24abcrow5_col0\" class=\"data row5 col0\" >2.00</td>\n",
       "                        <td id=\"T_b1f90c4a_992f_11ea_982c_f48e38f24abcrow5_col1\" class=\"data row5 col1\" >[14, 14]</td>\n",
       "                        <td id=\"T_b1f90c4a_992f_11ea_982c_f48e38f24abcrow5_col2\" class=\"data row5 col2\" >14</td>\n",
       "                        <td id=\"T_b1f90c4a_992f_11ea_982c_f48e38f24abcrow5_col3\" class=\"data row5 col3\" >1</td>\n",
       "                        <td id=\"T_b1f90c4a_992f_11ea_982c_f48e38f24abcrow5_col4\" class=\"data row5 col4\" >0</td>\n",
       "            </tr>\n",
       "    </tbody></table>"
      ],
      "text/plain": [
       "<pandas.io.formats.style.Styler at 0x2bcc2bcb208>"
      ]
     },
     "metadata": {},
     "output_type": "display_data"
    },
    {
     "data": {
      "text/html": [
       "<style  type=\"text/css\" >\n",
       "</style><table id=\"T_b1fb2dc6_992f_11ea_b332_f48e38f24abc\" ><thead>    <tr>        <th class=\"col_heading level0 col0\" >Chi2</th>        <th class=\"col_heading level0 col1\" >Bins</th>        <th class=\"col_heading level0 col2\" >Y</th>        <th class=\"col_heading level0 col3\" >A</th>        <th class=\"col_heading level0 col4\" >B</th>    </tr></thead><tbody>\n",
       "                <tr>\n",
       "                                <td id=\"T_b1fb2dc6_992f_11ea_b332_f48e38f24abcrow0_col0\" class=\"data row0 col0\" >7.00</td>\n",
       "                        <td id=\"T_b1fb2dc6_992f_11ea_b332_f48e38f24abcrow0_col1\" class=\"data row0 col1\" >[2,8)</td>\n",
       "                        <td id=\"T_b1fb2dc6_992f_11ea_b332_f48e38f24abcrow0_col2\" class=\"data row0 col2\" >2</td>\n",
       "                        <td id=\"T_b1fb2dc6_992f_11ea_b332_f48e38f24abcrow0_col3\" class=\"data row0 col3\" >2</td>\n",
       "                        <td id=\"T_b1fb2dc6_992f_11ea_b332_f48e38f24abcrow0_col4\" class=\"data row0 col4\" >1</td>\n",
       "            </tr>\n",
       "            <tr>\n",
       "                                <td id=\"T_b1fb2dc6_992f_11ea_b332_f48e38f24abcrow1_col0\" class=\"data row1 col0\" >1.33</td>\n",
       "                        <td id=\"T_b1fb2dc6_992f_11ea_b332_f48e38f24abcrow1_col1\" class=\"data row1 col1\" >[8,10)</td>\n",
       "                        <td id=\"T_b1fb2dc6_992f_11ea_b332_f48e38f24abcrow1_col2\" class=\"data row1 col2\" >8</td>\n",
       "                        <td id=\"T_b1fb2dc6_992f_11ea_b332_f48e38f24abcrow1_col3\" class=\"data row1 col3\" >0</td>\n",
       "                        <td id=\"T_b1fb2dc6_992f_11ea_b332_f48e38f24abcrow1_col4\" class=\"data row1 col4\" >1</td>\n",
       "            </tr>\n",
       "            <tr>\n",
       "                                <td id=\"T_b1fb2dc6_992f_11ea_b332_f48e38f24abcrow2_col0\" class=\"data row2 col0\" >2.00</td>\n",
       "                        <td id=\"T_b1fb2dc6_992f_11ea_b332_f48e38f24abcrow2_col1\" class=\"data row2 col1\" >[10,12)</td>\n",
       "                        <td id=\"T_b1fb2dc6_992f_11ea_b332_f48e38f24abcrow2_col2\" class=\"data row2 col2\" >10</td>\n",
       "                        <td id=\"T_b1fb2dc6_992f_11ea_b332_f48e38f24abcrow2_col3\" class=\"data row2 col3\" >1</td>\n",
       "                        <td id=\"T_b1fb2dc6_992f_11ea_b332_f48e38f24abcrow2_col4\" class=\"data row2 col4\" >0</td>\n",
       "            </tr>\n",
       "            <tr>\n",
       "                                <td id=\"T_b1fb2dc6_992f_11ea_b332_f48e38f24abcrow3_col0\" class=\"data row3 col0\" >2.00</td>\n",
       "                        <td id=\"T_b1fb2dc6_992f_11ea_b332_f48e38f24abcrow3_col1\" class=\"data row3 col1\" >[12,14)</td>\n",
       "                        <td id=\"T_b1fb2dc6_992f_11ea_b332_f48e38f24abcrow3_col2\" class=\"data row3 col2\" >12</td>\n",
       "                        <td id=\"T_b1fb2dc6_992f_11ea_b332_f48e38f24abcrow3_col3\" class=\"data row3 col3\" >0</td>\n",
       "                        <td id=\"T_b1fb2dc6_992f_11ea_b332_f48e38f24abcrow3_col4\" class=\"data row3 col4\" >1</td>\n",
       "            </tr>\n",
       "            <tr>\n",
       "                                <td id=\"T_b1fb2dc6_992f_11ea_b332_f48e38f24abcrow4_col0\" class=\"data row4 col0\" >2.00</td>\n",
       "                        <td id=\"T_b1fb2dc6_992f_11ea_b332_f48e38f24abcrow4_col1\" class=\"data row4 col1\" >[14, 14]</td>\n",
       "                        <td id=\"T_b1fb2dc6_992f_11ea_b332_f48e38f24abcrow4_col2\" class=\"data row4 col2\" >14</td>\n",
       "                        <td id=\"T_b1fb2dc6_992f_11ea_b332_f48e38f24abcrow4_col3\" class=\"data row4 col3\" >1</td>\n",
       "                        <td id=\"T_b1fb2dc6_992f_11ea_b332_f48e38f24abcrow4_col4\" class=\"data row4 col4\" >0</td>\n",
       "            </tr>\n",
       "    </tbody></table>"
      ],
      "text/plain": [
       "<pandas.io.formats.style.Styler at 0x2bcc2bbd988>"
      ]
     },
     "metadata": {},
     "output_type": "display_data"
    },
    {
     "data": {
      "text/html": [
       "<style  type=\"text/css\" >\n",
       "</style><table id=\"T_b1fd4f34_992f_11ea_b749_f48e38f24abc\" ><thead>    <tr>        <th class=\"col_heading level0 col0\" >Chi2</th>        <th class=\"col_heading level0 col1\" >Bins</th>        <th class=\"col_heading level0 col2\" >Y</th>        <th class=\"col_heading level0 col3\" >A</th>        <th class=\"col_heading level0 col4\" >B</th>    </tr></thead><tbody>\n",
       "                <tr>\n",
       "                                <td id=\"T_b1fd4f34_992f_11ea_b749_f48e38f24abcrow0_col0\" class=\"data row0 col0\" >7.00</td>\n",
       "                        <td id=\"T_b1fd4f34_992f_11ea_b749_f48e38f24abcrow0_col1\" class=\"data row0 col1\" >[2,10)</td>\n",
       "                        <td id=\"T_b1fd4f34_992f_11ea_b749_f48e38f24abcrow0_col2\" class=\"data row0 col2\" >2</td>\n",
       "                        <td id=\"T_b1fd4f34_992f_11ea_b749_f48e38f24abcrow0_col3\" class=\"data row0 col3\" >2</td>\n",
       "                        <td id=\"T_b1fd4f34_992f_11ea_b749_f48e38f24abcrow0_col4\" class=\"data row0 col4\" >2</td>\n",
       "            </tr>\n",
       "            <tr>\n",
       "                                <td id=\"T_b1fd4f34_992f_11ea_b749_f48e38f24abcrow1_col0\" class=\"data row1 col0\" >0.83</td>\n",
       "                        <td id=\"T_b1fd4f34_992f_11ea_b749_f48e38f24abcrow1_col1\" class=\"data row1 col1\" >[10,12)</td>\n",
       "                        <td id=\"T_b1fd4f34_992f_11ea_b749_f48e38f24abcrow1_col2\" class=\"data row1 col2\" >10</td>\n",
       "                        <td id=\"T_b1fd4f34_992f_11ea_b749_f48e38f24abcrow1_col3\" class=\"data row1 col3\" >1</td>\n",
       "                        <td id=\"T_b1fd4f34_992f_11ea_b749_f48e38f24abcrow1_col4\" class=\"data row1 col4\" >0</td>\n",
       "            </tr>\n",
       "            <tr>\n",
       "                                <td id=\"T_b1fd4f34_992f_11ea_b749_f48e38f24abcrow2_col0\" class=\"data row2 col0\" >2.00</td>\n",
       "                        <td id=\"T_b1fd4f34_992f_11ea_b749_f48e38f24abcrow2_col1\" class=\"data row2 col1\" >[12,14)</td>\n",
       "                        <td id=\"T_b1fd4f34_992f_11ea_b749_f48e38f24abcrow2_col2\" class=\"data row2 col2\" >12</td>\n",
       "                        <td id=\"T_b1fd4f34_992f_11ea_b749_f48e38f24abcrow2_col3\" class=\"data row2 col3\" >0</td>\n",
       "                        <td id=\"T_b1fd4f34_992f_11ea_b749_f48e38f24abcrow2_col4\" class=\"data row2 col4\" >1</td>\n",
       "            </tr>\n",
       "            <tr>\n",
       "                                <td id=\"T_b1fd4f34_992f_11ea_b749_f48e38f24abcrow3_col0\" class=\"data row3 col0\" >2.00</td>\n",
       "                        <td id=\"T_b1fd4f34_992f_11ea_b749_f48e38f24abcrow3_col1\" class=\"data row3 col1\" >[14, 14]</td>\n",
       "                        <td id=\"T_b1fd4f34_992f_11ea_b749_f48e38f24abcrow3_col2\" class=\"data row3 col2\" >14</td>\n",
       "                        <td id=\"T_b1fd4f34_992f_11ea_b749_f48e38f24abcrow3_col3\" class=\"data row3 col3\" >1</td>\n",
       "                        <td id=\"T_b1fd4f34_992f_11ea_b749_f48e38f24abcrow3_col4\" class=\"data row3 col4\" >0</td>\n",
       "            </tr>\n",
       "    </tbody></table>"
      ],
      "text/plain": [
       "<pandas.io.formats.style.Styler at 0x2bcc2bc6dc8>"
      ]
     },
     "metadata": {},
     "output_type": "display_data"
    },
    {
     "data": {
      "text/html": [
       "<style  type=\"text/css\" >\n",
       "</style><table id=\"T_b1ffe58a_992f_11ea_b342_f48e38f24abc\" ><thead>    <tr>        <th class=\"col_heading level0 col0\" >Chi2</th>        <th class=\"col_heading level0 col1\" >Bins</th>        <th class=\"col_heading level0 col2\" >Y</th>        <th class=\"col_heading level0 col3\" >A</th>        <th class=\"col_heading level0 col4\" >B</th>    </tr></thead><tbody>\n",
       "                <tr>\n",
       "                                <td id=\"T_b1ffe58a_992f_11ea_b342_f48e38f24abcrow0_col0\" class=\"data row0 col0\" >7.00</td>\n",
       "                        <td id=\"T_b1ffe58a_992f_11ea_b342_f48e38f24abcrow0_col1\" class=\"data row0 col1\" >[2,12)</td>\n",
       "                        <td id=\"T_b1ffe58a_992f_11ea_b342_f48e38f24abcrow0_col2\" class=\"data row0 col2\" >2</td>\n",
       "                        <td id=\"T_b1ffe58a_992f_11ea_b342_f48e38f24abcrow0_col3\" class=\"data row0 col3\" >3</td>\n",
       "                        <td id=\"T_b1ffe58a_992f_11ea_b342_f48e38f24abcrow0_col4\" class=\"data row0 col4\" >2</td>\n",
       "            </tr>\n",
       "            <tr>\n",
       "                                <td id=\"T_b1ffe58a_992f_11ea_b342_f48e38f24abcrow1_col0\" class=\"data row1 col0\" >1.20</td>\n",
       "                        <td id=\"T_b1ffe58a_992f_11ea_b342_f48e38f24abcrow1_col1\" class=\"data row1 col1\" >[12,14)</td>\n",
       "                        <td id=\"T_b1ffe58a_992f_11ea_b342_f48e38f24abcrow1_col2\" class=\"data row1 col2\" >12</td>\n",
       "                        <td id=\"T_b1ffe58a_992f_11ea_b342_f48e38f24abcrow1_col3\" class=\"data row1 col3\" >0</td>\n",
       "                        <td id=\"T_b1ffe58a_992f_11ea_b342_f48e38f24abcrow1_col4\" class=\"data row1 col4\" >1</td>\n",
       "            </tr>\n",
       "            <tr>\n",
       "                                <td id=\"T_b1ffe58a_992f_11ea_b342_f48e38f24abcrow2_col0\" class=\"data row2 col0\" >2.00</td>\n",
       "                        <td id=\"T_b1ffe58a_992f_11ea_b342_f48e38f24abcrow2_col1\" class=\"data row2 col1\" >[14, 14]</td>\n",
       "                        <td id=\"T_b1ffe58a_992f_11ea_b342_f48e38f24abcrow2_col2\" class=\"data row2 col2\" >14</td>\n",
       "                        <td id=\"T_b1ffe58a_992f_11ea_b342_f48e38f24abcrow2_col3\" class=\"data row2 col3\" >1</td>\n",
       "                        <td id=\"T_b1ffe58a_992f_11ea_b342_f48e38f24abcrow2_col4\" class=\"data row2 col4\" >0</td>\n",
       "            </tr>\n",
       "    </tbody></table>"
      ],
      "text/plain": [
       "<pandas.io.formats.style.Styler at 0x2bcc2bd7e88>"
      ]
     },
     "metadata": {},
     "output_type": "display_data"
    },
    {
     "data": {
      "text/html": [
       "<style  type=\"text/css\" >\n",
       "</style><table id=\"T_b2027bd0_992f_11ea_95eb_f48e38f24abc\" ><thead>    <tr>        <th class=\"col_heading level0 col0\" >Chi2</th>        <th class=\"col_heading level0 col1\" >Bins</th>        <th class=\"col_heading level0 col2\" >Y</th>        <th class=\"col_heading level0 col3\" >A</th>        <th class=\"col_heading level0 col4\" >B</th>    </tr></thead><tbody>\n",
       "                <tr>\n",
       "                                <td id=\"T_b2027bd0_992f_11ea_95eb_f48e38f24abcrow0_col0\" class=\"data row0 col0\" >7.00</td>\n",
       "                        <td id=\"T_b2027bd0_992f_11ea_95eb_f48e38f24abcrow0_col1\" class=\"data row0 col1\" >[2,14)</td>\n",
       "                        <td id=\"T_b2027bd0_992f_11ea_95eb_f48e38f24abcrow0_col2\" class=\"data row0 col2\" >2</td>\n",
       "                        <td id=\"T_b2027bd0_992f_11ea_95eb_f48e38f24abcrow0_col3\" class=\"data row0 col3\" >3</td>\n",
       "                        <td id=\"T_b2027bd0_992f_11ea_95eb_f48e38f24abcrow0_col4\" class=\"data row0 col4\" >3</td>\n",
       "            </tr>\n",
       "            <tr>\n",
       "                                <td id=\"T_b2027bd0_992f_11ea_95eb_f48e38f24abcrow1_col0\" class=\"data row1 col0\" >0.88</td>\n",
       "                        <td id=\"T_b2027bd0_992f_11ea_95eb_f48e38f24abcrow1_col1\" class=\"data row1 col1\" >[14, 14]</td>\n",
       "                        <td id=\"T_b2027bd0_992f_11ea_95eb_f48e38f24abcrow1_col2\" class=\"data row1 col2\" >14</td>\n",
       "                        <td id=\"T_b2027bd0_992f_11ea_95eb_f48e38f24abcrow1_col3\" class=\"data row1 col3\" >1</td>\n",
       "                        <td id=\"T_b2027bd0_992f_11ea_95eb_f48e38f24abcrow1_col4\" class=\"data row1 col4\" >0</td>\n",
       "            </tr>\n",
       "    </tbody></table>"
      ],
      "text/plain": [
       "<pandas.io.formats.style.Styler at 0x2bcc2bd2fc8>"
      ]
     },
     "metadata": {},
     "output_type": "display_data"
    },
    {
     "data": {
      "text/html": [
       "<style  type=\"text/css\" >\n",
       "</style><table id=\"T_b204eb2e_992f_11ea_87a1_f48e38f24abc\" ><thead>    <tr>        <th class=\"col_heading level0 col0\" >Chi2</th>        <th class=\"col_heading level0 col1\" >Bins</th>        <th class=\"col_heading level0 col2\" >Y</th>        <th class=\"col_heading level0 col3\" >A</th>        <th class=\"col_heading level0 col4\" >B</th>    </tr></thead><tbody>\n",
       "                <tr>\n",
       "                                <td id=\"T_b204eb2e_992f_11ea_87a1_f48e38f24abcrow0_col0\" class=\"data row0 col0\" >7.00</td>\n",
       "                        <td id=\"T_b204eb2e_992f_11ea_87a1_f48e38f24abcrow0_col1\" class=\"data row0 col1\" >[2, 14]</td>\n",
       "                        <td id=\"T_b204eb2e_992f_11ea_87a1_f48e38f24abcrow0_col2\" class=\"data row0 col2\" >2</td>\n",
       "                        <td id=\"T_b204eb2e_992f_11ea_87a1_f48e38f24abcrow0_col3\" class=\"data row0 col3\" >4</td>\n",
       "                        <td id=\"T_b204eb2e_992f_11ea_87a1_f48e38f24abcrow0_col4\" class=\"data row0 col4\" >3</td>\n",
       "            </tr>\n",
       "    </tbody></table>"
      ],
      "text/plain": [
       "<pandas.io.formats.style.Styler at 0x2bcc2bd3e48>"
      ]
     },
     "metadata": {},
     "output_type": "display_data"
    }
   ],
   "source": [
    "# Calculate with another data-set, one given in Part(A) as an example\n",
    "for feature in table.columns:\n",
    "    if feature=='Class':\n",
    "        continue\n",
    "    f = getContingencyTbl(table, feature)\n",
    "\n",
    "    # Print for all combinations of intervals from 1-7\n",
    "    for j in [i for i in reversed(range(8)) if i!=0]:    \n",
    "        # Perform discretization, set numOfIntervals which is the number of bins/discretized intervals\n",
    "        # Also define mergeType as 2 since all intervals will be squished in one go otherwise\n",
    "        f_arr, chi2_arr = chiMerge(f[:,1:], f[:,0:1], numOfIntervals=j, chiThreshold=1.2, mergeType=2)    \n",
    "        cols = [feature,'A','B']\n",
    "        typeDict = {'A':'int64', 'B':'int64', 'Bins':'string'}\n",
    "        formatDict = {}\n",
    "        binnedOutput(f_arr, chi2_arr, feature, cols, typeDict, formatDict, f[-1][0], chi2_contingency(f[:,1:])[0])"
   ]
  }
 ],
 "metadata": {
  "kernelspec": {
   "display_name": "Python 3",
   "language": "python",
   "name": "python3"
  },
  "language_info": {
   "codemirror_mode": {
    "name": "ipython",
    "version": 3
   },
   "file_extension": ".py",
   "mimetype": "text/x-python",
   "name": "python",
   "nbconvert_exporter": "python",
   "pygments_lexer": "ipython3",
   "version": "3.7.6"
  }
 },
 "nbformat": 4,
 "nbformat_minor": 4
}
