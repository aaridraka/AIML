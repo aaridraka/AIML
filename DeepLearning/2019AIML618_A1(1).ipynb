{
 "cells": [
  {
   "cell_type": "code",
   "execution_count": 1,
   "metadata": {},
   "outputs": [
    {
     "data": {
      "text/html": [
       "<div>\n",
       "<style scoped>\n",
       "    .dataframe tbody tr th:only-of-type {\n",
       "        vertical-align: middle;\n",
       "    }\n",
       "\n",
       "    .dataframe tbody tr th {\n",
       "        vertical-align: top;\n",
       "    }\n",
       "\n",
       "    .dataframe thead th {\n",
       "        text-align: right;\n",
       "    }\n",
       "</style>\n",
       "<table border=\"1\" class=\"dataframe\">\n",
       "  <thead>\n",
       "    <tr style=\"text-align: right;\">\n",
       "      <th></th>\n",
       "      <th>0</th>\n",
       "      <th>1</th>\n",
       "      <th>2</th>\n",
       "    </tr>\n",
       "  </thead>\n",
       "  <tbody>\n",
       "    <tr>\n",
       "      <th>0</th>\n",
       "      <td>2.0</td>\n",
       "      <td>3.0</td>\n",
       "      <td>0.0</td>\n",
       "    </tr>\n",
       "    <tr>\n",
       "      <th>1</th>\n",
       "      <td>4.0</td>\n",
       "      <td>5.0</td>\n",
       "      <td>0.0</td>\n",
       "    </tr>\n",
       "    <tr>\n",
       "      <th>2</th>\n",
       "      <td>11.0</td>\n",
       "      <td>11.0</td>\n",
       "      <td>1.0</td>\n",
       "    </tr>\n",
       "    <tr>\n",
       "      <th>3</th>\n",
       "      <td>4.0</td>\n",
       "      <td>11.0</td>\n",
       "      <td>1.0</td>\n",
       "    </tr>\n",
       "    <tr>\n",
       "      <th>4</th>\n",
       "      <td>12.0</td>\n",
       "      <td>5.0</td>\n",
       "      <td>0.0</td>\n",
       "    </tr>\n",
       "  </tbody>\n",
       "</table>\n",
       "</div>"
      ],
      "text/plain": [
       "      0     1    2\n",
       "0   2.0   3.0  0.0\n",
       "1   4.0   5.0  0.0\n",
       "2  11.0  11.0  1.0\n",
       "3   4.0  11.0  1.0\n",
       "4  12.0   5.0  0.0"
      ]
     },
     "execution_count": 1,
     "metadata": {},
     "output_type": "execute_result"
    }
   ],
   "source": [
    "import numpy as np\n",
    "import pandas as pd\n",
    "import matplotlib.pyplot as plt\n",
    "from matplotlib.colors import ListedColormap\n",
    "\n",
    "# Import sample data\n",
    "data = pd.DataFrame(np.array([[2, 3, 0.],[4, 5, 0.],[11, 11, 1.],[4, 11, 1.],[12, 5, 0.],[5, 2, 0.],[6, 1, 0.],[6, 3, 0.],\n",
    "                              [2, 10, 1.],[4, 7, 1.],[13, 8, 0.],[1, 6, 1.],[6, 9, 1.],[10, 12, 1.],[8, 3, 0.],[2, 8, 1.]]))\n",
    "Y = data.iloc[0:, 2].values\n",
    "X = data.iloc[0:, [0, 1]].values\n",
    "data.head()"
   ]
  },
  {
   "cell_type": "code",
   "execution_count": 2,
   "metadata": {},
   "outputs": [
    {
     "name": "stdout",
     "output_type": "stream",
     "text": [
      "Learned Weights: [-0.76 -0.36  0.43]\n"
     ]
    }
   ],
   "source": [
    "# Iters is number of epochs/iterations and eta is the learning rate\n",
    "def trainPerceptron(X, Y, iters, eta):\n",
    "    weights = np.zeros(1 + X.shape[1])\n",
    "    for i in range(iters):\n",
    "        for x, y in zip(X, Y):\n",
    "            summation = np.dot(x, weights[1:]) + weights[0]\n",
    "            prediction = 1 if summation > 0 else 0\n",
    "            weights[0] += eta * (y - prediction)\n",
    "            weights[1:] += eta * (y - prediction) * x\n",
    "    return weights\n",
    "\n",
    "weights = trainPerceptron(X, Y, 100, 0.01)\n",
    "print(\"Learned Weights:\", weights)"
   ]
  },
  {
   "cell_type": "code",
   "execution_count": 3,
   "metadata": {},
   "outputs": [
    {
     "name": "stderr",
     "output_type": "stream",
     "text": [
      "*c* argument looks like a single numeric RGB or RGBA sequence, which should be avoided as value-mapping will have precedence in case its length matches with *x* & *y*.  Please use the *color* keyword-argument or provide a 2-D array with a single row if you intend to specify the same RGB or RGBA value for all points.\n",
      "*c* argument looks like a single numeric RGB or RGBA sequence, which should be avoided as value-mapping will have precedence in case its length matches with *x* & *y*.  Please use the *color* keyword-argument or provide a 2-D array with a single row if you intend to specify the same RGB or RGBA value for all points.\n"
     ]
    },
    {
     "data": {
      "image/png": "[encoded data removed]",
      "text/plain": [
       "<Figure size 720x432 with 1 Axes>"
      ]
     },
     "metadata": {
      "needs_background": "light"
     },
     "output_type": "display_data"
    }
   ],
   "source": [
    "def plotData(X, Y, weights):\n",
    "    plt.figure(figsize=(10,6))\n",
    "    plt.grid(True)\n",
    "    plt.xlabel('x1')\n",
    "    plt.ylabel('x2')\n",
    "    markers = ('s', 'x',)\n",
    "    colors = ('red', 'blue',)\n",
    "    cmap = ListedColormap(colors[:len(np.unique(Y))])\n",
    "    for idx, cl in enumerate(np.unique(Y)):\n",
    "        plt.scatter(x=X[Y == cl, 0], y=X[Y == cl, 1],\n",
    "                    alpha=0.8, c=cmap(idx),\n",
    "                    marker=markers[idx], label=cl) \n",
    "\n",
    "    for i in np.linspace(np.amin(X[:,:1]),np.amax(X[:,:1])):\n",
    "        slope = -(weights[0]/weights[2])/(weights[0]/weights[1])  \n",
    "        intercept = -weights[0]/weights[2]\n",
    "        y = (slope*i) + intercept\n",
    "        plt.plot(i, y, 'k.')\n",
    "\n",
    "plotData(X,Y,weights)"
   ]
  }
 ],
 "metadata": {
  "kernelspec": {
   "display_name": "Python 3",
   "language": "python",
   "name": "python3"
  },
  "language_info": {
   "codemirror_mode": {
    "name": "ipython",
    "version": 3
   },
   "file_extension": ".py",
   "mimetype": "text/x-python",
   "name": "python",
   "nbconvert_exporter": "python",
   "pygments_lexer": "ipython3",
   "version": "3.8.3"
  }
 },
 "nbformat": 4,
 "nbformat_minor": 4
}
