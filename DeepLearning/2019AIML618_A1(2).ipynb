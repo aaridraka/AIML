{
  "nbformat": 4,
  "nbformat_minor": 0,
  "metadata": {
    "colab": {
      "name": "2019AIML618_A1(2).ipynb",
      "provenance": [],
      "collapsed_sections": []
    },
    "kernelspec": {
      "name": "python3",
      "display_name": "Python 3"
    }
  },
  "cells": [
    {
      "cell_type": "code",
      "metadata": {
        "id": "JSnoIWdMgfCy"
      },
      "source": [
        "from keras.models import Sequential\r\n",
        "from keras.layers import Dense\r\n",
        "from keras.optimizers import Adam\r\n",
        "\r\n",
        "from sklearn.model_selection import train_test_split\r\n",
        "from sklearn.preprocessing import OneHotEncoder"
      ],
      "execution_count": 1,
      "outputs": []
    },
    {
      "cell_type": "code",
      "metadata": {
        "id": "P9RECsNAgtX5"
      },
      "source": [
        "import pandas as pd\r\n",
        "\r\n",
        "# Get Iris dataset\r\n",
        "url=\"https://archive.ics.uci.edu/ml/machine-learning-databases/iris/iris.data\"\r\n",
        "iris = pd.read_csv(url, header=None)\r\n",
        "iris.columns = ['sepal_length', 'sepal_width', 'petal_length', 'petal_width', 'species']\r\n",
        "\r\n",
        "# Convert species names into numeric classes\r\n",
        "target = OneHotEncoder(sparse=False).fit_transform(iris.iloc[:, 4].values.reshape(-1,1))\r\n",
        "\r\n",
        "# Train-test split\r\n",
        "X_train, X_test, Y_train, Y_test = train_test_split(iris.iloc[:, 0:4].values, target, train_size=0.8, test_size=0.2)"
      ],
      "execution_count": 2,
      "outputs": []
    },
    {
      "cell_type": "code",
      "metadata": {
        "colab": {
          "base_uri": "https://localhost:8080/"
        },
        "id": "ZCMwz0QJiMEi",
        "outputId": "ee836312-267b-4336-d45e-34dcbedc16f7"
      },
      "source": [
        "# Single layer NN\r\n",
        "model = Sequential()\r\n",
        "# Hidden Layer\r\n",
        "model.add(Dense(3, input_shape=(4,), activation='relu', name='l1'))\r\n",
        "# Output layer\r\n",
        "model.add(Dense(3, activation='softmax', name='l2'))\r\n",
        "\r\n",
        "model.compile(optimizer=Adam(lr=0.01), loss='categorical_crossentropy', metrics=['accuracy'])\r\n",
        "print(model.summary())\r\n",
        "\r\n",
        "# Train the model\r\n",
        "model.fit(X_train, Y_train, verbose=0, batch_size=2, epochs=100)\r\n",
        "\r\n",
        "# Test the model\r\n",
        "print(\"Test Accuracy:\", model.evaluate(X_test, Y_test)[1])"
      ],
      "execution_count": 3,
      "outputs": [
        {
          "output_type": "stream",
          "text": [
            "Model: \"sequential\"\n",
            "_________________________________________________________________\n",
            "Layer (type)                 Output Shape              Param #   \n",
            "=================================================================\n",
            "l1 (Dense)                   (None, 3)                 15        \n",
            "_________________________________________________________________\n",
            "l2 (Dense)                   (None, 3)                 12        \n",
            "=================================================================\n",
            "Total params: 27\n",
            "Trainable params: 27\n",
            "Non-trainable params: 0\n",
            "_________________________________________________________________\n",
            "None\n",
            "1/1 [==============================] - 0s 138ms/step - loss: 0.1054 - accuracy: 0.9333\n",
            "Test Accuracy: 0.9333333373069763\n"
          ],
          "name": "stdout"
        }
      ]
    },
    {
      "cell_type": "code",
      "metadata": {
        "colab": {
          "base_uri": "https://localhost:8080/"
        },
        "id": "RRxZo5gaiJEv",
        "outputId": "c3e0c58e-5f58-40e7-bda3-e21b2e63781c"
      },
      "source": [
        "# Model-2 NN with two hidden layers\r\n",
        "model = Sequential()\r\n",
        "# First Hidden Layer\r\n",
        "model.add(Dense(9, input_shape=(4,), activation='relu', name='l1'))\r\n",
        "# Second Hidden Layer\r\n",
        "model.add(Dense(3, activation='relu', name='l2'))\r\n",
        "# Output layer\r\n",
        "model.add(Dense(3, activation='softmax', name='l3'))\r\n",
        "\r\n",
        "model.compile(optimizer=Adam(lr=0.01), loss='categorical_crossentropy', metrics=['accuracy'])\r\n",
        "print(model.summary())\r\n",
        "\r\n",
        "# Train the model\r\n",
        "model.fit(X_train, Y_train, verbose=0, batch_size=4, epochs=200)\r\n",
        "\r\n",
        "# Test the model\r\n",
        "print(\"Test Accuracy:\", model.evaluate(X_test, Y_test)[1])\r\n",
        "\r\n",
        "# Print weights on each layer\r\n",
        "for layer in model.layers:\r\n",
        "    weights = layer.get_weights() \r\n",
        "    print(weights)"
      ],
      "execution_count": 4,
      "outputs": [
        {
          "output_type": "stream",
          "text": [
            "Model: \"sequential_1\"\n",
            "_________________________________________________________________\n",
            "Layer (type)                 Output Shape              Param #   \n",
            "=================================================================\n",
            "l1 (Dense)                   (None, 9)                 45        \n",
            "_________________________________________________________________\n",
            "l2 (Dense)                   (None, 3)                 30        \n",
            "_________________________________________________________________\n",
            "l3 (Dense)                   (None, 3)                 12        \n",
            "=================================================================\n",
            "Total params: 87\n",
            "Trainable params: 87\n",
            "Non-trainable params: 0\n",
            "_________________________________________________________________\n",
            "None\n",
            "1/1 [==============================] - 0s 111ms/step - loss: 0.1044 - accuracy: 0.9667\n",
            "Test Accuracy: 0.9666666388511658\n",
            "[array([[-0.56048656, -0.5338811 , -0.06435477, -0.2965996 , -0.24903917,\n",
            "         0.21652874,  0.80626327,  0.19299735, -0.31785363],\n",
            "       [ 0.49351525, -0.09621763, -0.41651863, -0.6355287 ,  0.0506953 ,\n",
            "         1.0035378 ,  0.73101264,  0.74325246,  0.3827603 ],\n",
            "       [ 0.21543515,  0.19413757,  0.95917994,  0.71471477, -0.44624293,\n",
            "        -0.9796036 , -0.8508055 , -0.1998456 , -0.5823681 ],\n",
            "       [-0.14326286, -0.51210153,  0.6946395 ,  2.0122    , -0.6245693 ,\n",
            "        -0.7644481 , -1.9808513 , -1.0989646 ,  0.4027295 ]],\n",
            "      dtype=float32), array([ 0.        ,  0.        , -1.4605496 , -1.5676287 ,  0.        ,\n",
            "        0.17245725,  1.5431254 ,  1.1090049 ,  0.        ], dtype=float32)]\n",
            "[array([[-0.117221  ,  0.6501313 ,  0.05112648],\n",
            "       [ 0.13936359, -0.27545595,  0.69266385],\n",
            "       [ 0.887403  , -0.27666757,  0.17247428],\n",
            "       [ 1.3164078 , -0.8907529 , -0.1875176 ],\n",
            "       [ 0.65887254, -0.64890534,  0.5675325 ],\n",
            "       [-1.2148275 ,  1.8226236 , -0.4177382 ],\n",
            "       [ 0.06086414,  1.3221904 , -0.04854836],\n",
            "       [ 0.5557277 ,  0.45604315, -0.26558176],\n",
            "       [ 0.37500364, -0.5384833 ,  0.00201494]], dtype=float32), array([-0.46587098,  1.6473873 , -0.14512008], dtype=float32)]\n",
            "[array([[-4.8117895 ,  0.01347302,  1.0258728 ],\n",
            "       [ 1.7721056 ,  1.1827435 , -0.9490462 ],\n",
            "       [-0.29546222, -0.84234154, -0.336447  ]], dtype=float32), array([ 0.29738355,  0.7106794 , -1.3892821 ], dtype=float32)]\n"
          ],
          "name": "stdout"
        }
      ]
    }
  ]
}